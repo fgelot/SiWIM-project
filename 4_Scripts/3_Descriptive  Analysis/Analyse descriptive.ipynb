{
 "cells": [
  {
   "cell_type": "markdown",
   "metadata": {},
   "source": [
    "# <center> Analyse descriptive des données SIWIM </center>"
   ]
  },
  {
   "cell_type": "code",
   "execution_count": 1,
   "metadata": {},
   "outputs": [
    {
     "name": "stderr",
     "output_type": "stream",
     "text": [
      "Loading required package: zoo\n",
      "\n",
      "Attaching package: 'zoo'\n",
      "\n",
      "The following objects are masked from 'package:base':\n",
      "\n",
      "    as.Date, as.Date.numeric\n",
      "\n",
      "\n",
      "Attaching package: 'xts'\n",
      "\n",
      "The following objects are masked from 'package:data.table':\n",
      "\n",
      "    first, last\n",
      "\n",
      "Warning message:\n",
      "\"package 'tseries' was built under R version 3.4.3\"Warning message:\n",
      "\"package 'forecast' was built under R version 3.4.3\""
     ]
    }
   ],
   "source": [
    "#Loading packages\n",
    "library(data.table)\n",
    "library(xts)\n",
    "library(zoo)\n",
    "library(tseries)\n",
    "library(\"TTR\")\n",
    "library(forecast)\n",
    "library(ggplot2)"
   ]
  },
  {
   "cell_type": "markdown",
   "metadata": {},
   "source": [
    "#### Chargement des données"
   ]
  },
  {
   "cell_type": "code",
   "execution_count": 2,
   "metadata": {},
   "outputs": [
    {
     "name": "stdout",
     "output_type": "stream",
     "text": [
      "\r",
      "Read 38.1% of 183928 rows\r",
      "Read 81.6% of 183928 rows\r",
      "Read 183928 rows and 65 (of 65) columns from 0.065 GB file in 00:00:04\n"
     ]
    }
   ],
   "source": [
    "#Loading data\n",
    "setwd(\"D:/Dropbox/Data science/Formation CEPE/Projet/GitHub/SiWIM-project\")\n",
    "siwim_data <- fread(\"2_Data/2_Retraitees/SiWIM_data_prepared.csv\")"
   ]
  },
  {
   "cell_type": "markdown",
   "metadata": {},
   "source": [
    "## 1. Quelques données..."
   ]
  },
  {
   "cell_type": "code",
   "execution_count": 3,
   "metadata": {},
   "outputs": [
    {
     "data": {
      "text/html": [
       "<table>\n",
       "<thead><tr><th scope=col>V1</th><th scope=col>Timestamp</th><th scope=col>Site_ID</th><th scope=col>Warning_flags</th><th scope=col>Lane</th><th scope=col>v</th><th scope=col>N</th><th scope=col>Subclass_ID</th><th scope=col>Axle_groups</th><th scope=col>WGV</th><th scope=col>...</th><th scope=col>M7</th><th scope=col>M8</th><th scope=col>M9</th><th scope=col>M10</th><th scope=col>M11</th><th scope=col>M12</th><th scope=col>M13</th><th scope=col>M14</th><th scope=col>M15</th><th scope=col>M16</th></tr></thead>\n",
       "<tbody>\n",
       "\t<tr><td>1                  </td><td>2017-11-23 00:00:42</td><td>Normandie          </td><td>00000000           </td><td>droite             </td><td>21.2228            </td><td>5                  </td><td>113                </td><td>113                </td><td>288.3560           </td><td>...                </td><td>NA                 </td><td>NA                 </td><td>NA                 </td><td>NA                 </td><td>NA                 </td><td>NA                 </td><td>NA                 </td><td>NA                 </td><td>NA                 </td><td>NA                 </td></tr>\n",
       "\t<tr><td>2                  </td><td>2017-11-23 00:21:31</td><td>Normandie          </td><td>00000000           </td><td>droite             </td><td>20.5829            </td><td>2                  </td><td>40                 </td><td>11                 </td><td> 47.3393           </td><td>...                </td><td>NA                 </td><td>NA                 </td><td>NA                 </td><td>NA                 </td><td>NA                 </td><td>NA                 </td><td>NA                 </td><td>NA                 </td><td>NA                 </td><td>NA                 </td></tr>\n",
       "\t<tr><td>3                  </td><td>2017-11-23 00:21:32</td><td>Normandie          </td><td>00000000           </td><td>droite             </td><td>20.5829            </td><td>2                  </td><td>20                 </td><td>11                 </td><td> 16.2693           </td><td>...                </td><td>NA                 </td><td>NA                 </td><td>NA                 </td><td>NA                 </td><td>NA                 </td><td>NA                 </td><td>NA                 </td><td>NA                 </td><td>NA                 </td><td>NA                 </td></tr>\n",
       "\t<tr><td>4                  </td><td>2017-11-23 00:24:14</td><td>Normandie          </td><td>00000000           </td><td>droite             </td><td>22.6298            </td><td>5                  </td><td>113                </td><td>113                </td><td>214.7090           </td><td>...                </td><td>NA                 </td><td>NA                 </td><td>NA                 </td><td>NA                 </td><td>NA                 </td><td>NA                 </td><td>NA                 </td><td>NA                 </td><td>NA                 </td><td>NA                 </td></tr>\n",
       "\t<tr><td>5                  </td><td>2017-11-23 00:24:53</td><td>Normandie          </td><td>00000000           </td><td>droite             </td><td>18.8756            </td><td>5                  </td><td>113                </td><td>113                </td><td>315.0500           </td><td>...                </td><td>NA                 </td><td>NA                 </td><td>NA                 </td><td>NA                 </td><td>NA                 </td><td>NA                 </td><td>NA                 </td><td>NA                 </td><td>NA                 </td><td>NA                 </td></tr>\n",
       "\t<tr><td>6                  </td><td>2017-11-23 00:30:35</td><td>Normandie          </td><td>00000000           </td><td>droite             </td><td>20.4800            </td><td>5                  </td><td>74                 </td><td>113                </td><td>238.7490           </td><td>...                </td><td>NA                 </td><td>NA                 </td><td>NA                 </td><td>NA                 </td><td>NA                 </td><td>NA                 </td><td>NA                 </td><td>NA                 </td><td>NA                 </td><td>NA                 </td></tr>\n",
       "</tbody>\n",
       "</table>\n"
      ],
      "text/latex": [
       "\\begin{tabular}{r|lllllllllllllllllllllllllllllllllllllllllllllllllllllllllllllllll}\n",
       " V1 & Timestamp & Site\\_ID & Warning\\_flags & Lane & v & N & Subclass\\_ID & Axle\\_groups & WGV & ... & M7 & M8 & M9 & M10 & M11 & M12 & M13 & M14 & M15 & M16\\\\\n",
       "\\hline\n",
       "\t 1                   & 2017-11-23 00:00:42 & Normandie           & 00000000            & droite              & 21.2228             & 5                   & 113                 & 113                 & 288.3560            & ...                 & NA                  & NA                  & NA                  & NA                  & NA                  & NA                  & NA                  & NA                  & NA                  & NA                 \\\\\n",
       "\t 2                   & 2017-11-23 00:21:31 & Normandie           & 00000000            & droite              & 20.5829             & 2                   & 40                  & 11                  &  47.3393            & ...                 & NA                  & NA                  & NA                  & NA                  & NA                  & NA                  & NA                  & NA                  & NA                  & NA                 \\\\\n",
       "\t 3                   & 2017-11-23 00:21:32 & Normandie           & 00000000            & droite              & 20.5829             & 2                   & 20                  & 11                  &  16.2693            & ...                 & NA                  & NA                  & NA                  & NA                  & NA                  & NA                  & NA                  & NA                  & NA                  & NA                 \\\\\n",
       "\t 4                   & 2017-11-23 00:24:14 & Normandie           & 00000000            & droite              & 22.6298             & 5                   & 113                 & 113                 & 214.7090            & ...                 & NA                  & NA                  & NA                  & NA                  & NA                  & NA                  & NA                  & NA                  & NA                  & NA                 \\\\\n",
       "\t 5                   & 2017-11-23 00:24:53 & Normandie           & 00000000            & droite              & 18.8756             & 5                   & 113                 & 113                 & 315.0500            & ...                 & NA                  & NA                  & NA                  & NA                  & NA                  & NA                  & NA                  & NA                  & NA                  & NA                 \\\\\n",
       "\t 6                   & 2017-11-23 00:30:35 & Normandie           & 00000000            & droite              & 20.4800             & 5                   & 74                  & 113                 & 238.7490            & ...                 & NA                  & NA                  & NA                  & NA                  & NA                  & NA                  & NA                  & NA                  & NA                  & NA                 \\\\\n",
       "\\end{tabular}\n"
      ],
      "text/markdown": [
       "\n",
       "V1 | Timestamp | Site_ID | Warning_flags | Lane | v | N | Subclass_ID | Axle_groups | WGV | ... | M7 | M8 | M9 | M10 | M11 | M12 | M13 | M14 | M15 | M16 | \n",
       "|---|---|---|---|---|---|\n",
       "| 1                   | 2017-11-23 00:00:42 | Normandie           | 00000000            | droite              | 21.2228             | 5                   | 113                 | 113                 | 288.3560            | ...                 | NA                  | NA                  | NA                  | NA                  | NA                  | NA                  | NA                  | NA                  | NA                  | NA                  | \n",
       "| 2                   | 2017-11-23 00:21:31 | Normandie           | 00000000            | droite              | 20.5829             | 2                   | 40                  | 11                  |  47.3393            | ...                 | NA                  | NA                  | NA                  | NA                  | NA                  | NA                  | NA                  | NA                  | NA                  | NA                  | \n",
       "| 3                   | 2017-11-23 00:21:32 | Normandie           | 00000000            | droite              | 20.5829             | 2                   | 20                  | 11                  |  16.2693            | ...                 | NA                  | NA                  | NA                  | NA                  | NA                  | NA                  | NA                  | NA                  | NA                  | NA                  | \n",
       "| 4                   | 2017-11-23 00:24:14 | Normandie           | 00000000            | droite              | 22.6298             | 5                   | 113                 | 113                 | 214.7090            | ...                 | NA                  | NA                  | NA                  | NA                  | NA                  | NA                  | NA                  | NA                  | NA                  | NA                  | \n",
       "| 5                   | 2017-11-23 00:24:53 | Normandie           | 00000000            | droite              | 18.8756             | 5                   | 113                 | 113                 | 315.0500            | ...                 | NA                  | NA                  | NA                  | NA                  | NA                  | NA                  | NA                  | NA                  | NA                  | NA                  | \n",
       "| 6                   | 2017-11-23 00:30:35 | Normandie           | 00000000            | droite              | 20.4800             | 5                   | 74                  | 113                 | 238.7490            | ...                 | NA                  | NA                  | NA                  | NA                  | NA                  | NA                  | NA                  | NA                  | NA                  | NA                  | \n",
       "\n",
       "\n"
      ],
      "text/plain": [
       "  V1 Timestamp           Site_ID   Warning_flags Lane   v       N Subclass_ID\n",
       "1 1  2017-11-23 00:00:42 Normandie 00000000      droite 21.2228 5 113        \n",
       "2 2  2017-11-23 00:21:31 Normandie 00000000      droite 20.5829 2 40         \n",
       "3 3  2017-11-23 00:21:32 Normandie 00000000      droite 20.5829 2 20         \n",
       "4 4  2017-11-23 00:24:14 Normandie 00000000      droite 22.6298 5 113        \n",
       "5 5  2017-11-23 00:24:53 Normandie 00000000      droite 18.8756 5 113        \n",
       "6 6  2017-11-23 00:30:35 Normandie 00000000      droite 20.4800 5 74         \n",
       "  Axle_groups WGV      ... M7 M8 M9 M10 M11 M12 M13 M14 M15 M16\n",
       "1 113         288.3560 ... NA NA NA NA  NA  NA  NA  NA  NA  NA \n",
       "2 11           47.3393 ... NA NA NA NA  NA  NA  NA  NA  NA  NA \n",
       "3 11           16.2693 ... NA NA NA NA  NA  NA  NA  NA  NA  NA \n",
       "4 113         214.7090 ... NA NA NA NA  NA  NA  NA  NA  NA  NA \n",
       "5 113         315.0500 ... NA NA NA NA  NA  NA  NA  NA  NA  NA \n",
       "6 113         238.7490 ... NA NA NA NA  NA  NA  NA  NA  NA  NA "
      ]
     },
     "metadata": {},
     "output_type": "display_data"
    }
   ],
   "source": [
    "head(siwim_data)"
   ]
  },
  {
   "cell_type": "markdown",
   "metadata": {},
   "source": [
    "## 2. Un peu de refactoring..."
   ]
  },
  {
   "cell_type": "code",
   "execution_count": 4,
   "metadata": {},
   "outputs": [
    {
     "data": {},
     "metadata": {},
     "output_type": "display_data"
    },
    {
     "data": {},
     "metadata": {},
     "output_type": "display_data"
    },
    {
     "data": {},
     "metadata": {},
     "output_type": "display_data"
    },
    {
     "data": {},
     "metadata": {},
     "output_type": "display_data"
    },
    {
     "data": {},
     "metadata": {},
     "output_type": "display_data"
    }
   ],
   "source": [
    "#ID as number\n",
    "siwim_data[, V1 := as.numeric(siwim_data$V1)]\n",
    "\n",
    "# Refactor the lane\n",
    "siwim_data[, Lane := factor(siwim_data$Lane, labels = c(\"droite\", \"gauche\"))]\n",
    "\n",
    "# Refactor classes data\n",
    "cols <- c(\n",
    "  \"Warning_flags\",\n",
    "  \"Site_ID\",\n",
    "  \"Subclass_ID\",\n",
    "  \"Axle_groups\"\n",
    ")\n",
    "\n",
    "siwim_data[, (cols) := lapply(.SD, function(x) as.factor(x)), .SDcols=cols]\n",
    "    \n",
    "#Format date & time\n",
    "siwim_data[, Timestamp := as.POSIXct(substr(siwim_data$Timestamp,1,19), format = '%Y-%m-%d %H:%M:%S')]\n",
    "\n",
    "siwim_data[, Date := as.POSIXct(siwim_data$Date, format = '%Y-%m-%d')]"
   ]
  },
  {
   "cell_type": "markdown",
   "metadata": {},
   "source": [
    "## 3. Résumé des données"
   ]
  },
  {
   "cell_type": "code",
   "execution_count": 5,
   "metadata": {},
   "outputs": [
    {
     "data": {
      "text/plain": [
       "       V1           Timestamp                        Site_ID      \n",
       " Min.   :     1   Min.   :2017-07-05 00:08:33   Normandie:183928  \n",
       " 1st Qu.: 45983   1st Qu.:2017-08-02 11:36:19                     \n",
       " Median : 91965   Median :2017-09-06 17:12:22                     \n",
       " Mean   : 91965   Mean   :2017-09-12 14:28:02                     \n",
       " 3rd Qu.:137946   3rd Qu.:2017-10-25 21:47:16                     \n",
       " Max.   :183928   Max.   :2017-11-23 18:59:49                     \n",
       "                                                                  \n",
       "  Warning_flags        Lane              v               N         \n",
       " 00000000:130647   droite:167810   Min.   :10.01   Min.   : 2.000  \n",
       " 00008000: 10159   gauche: 16118   1st Qu.:16.79   1st Qu.: 4.000  \n",
       " 00800000: 10033                   Median :19.41   Median : 5.000  \n",
       " 00000001: 10018                   Mean   :19.48   Mean   : 4.357  \n",
       " 00000080:  9102                   3rd Qu.:22.02   3rd Qu.: 5.000  \n",
       " 00000081:  4572                   Max.   :48.76   Max.   :16.000  \n",
       " (Other) :  9397                                                   \n",
       "  Subclass_ID     Axle_groups         WGV               W1        \n",
       " 113    :72716   113    :94326   Min.   :   0.0   Min.   :  0.00  \n",
       " 61     :19835   11     :31004   1st Qu.: 115.0   1st Qu.: 36.46  \n",
       " 74     :15576   112    :24591   Median : 182.1   Median : 47.11  \n",
       " 40     :11317   111    : 5368   Mean   : 193.5   Mean   : 42.28  \n",
       " 140    :10661   12     : 4826   3rd Qu.: 291.6   3rd Qu.: 54.24  \n",
       " 41     : 9320   (Other):23804   Max.   :1374.8   Max.   :294.30  \n",
       " (Other):44503   NA's   :    9                                    \n",
       "       W2               W3               W4               W5        \n",
       " Min.   :  0.00   Min.   :  0.00   Min.   :  0.00   Min.   :  0.00  \n",
       " 1st Qu.: 34.31   1st Qu.: 15.06   1st Qu.: 22.62   1st Qu.: 18.76  \n",
       " Median : 63.17   Median : 30.29   Median : 41.50   Median : 40.08  \n",
       " Mean   : 63.67   Mean   : 33.29   Mean   : 43.88   Mean   : 41.94  \n",
       " 3rd Qu.: 94.60   3rd Qu.: 49.14   3rd Qu.: 65.29   3rd Qu.: 64.30  \n",
       " Max.   :276.00   Max.   :402.59   Max.   :368.76   Max.   :258.00  \n",
       "                  NA's   :32323    NA's   :43346    NA's   :71942   \n",
       "       W6               W7               W8               W9        \n",
       " Min.   :  0.00   Min.   :  0.00   Min.   :  0.00   Min.   :  0.00  \n",
       " 1st Qu.:  0.00   1st Qu.:  0.00   1st Qu.:  0.00   1st Qu.:  0.00  \n",
       " Median :  0.00   Median :  0.00   Median :  0.00   Median :  0.00  \n",
       " Mean   : 12.84   Mean   :  6.74   Mean   :  2.86   Mean   :  2.79  \n",
       " 3rd Qu.: 20.03   3rd Qu.:  3.42   3rd Qu.:  0.00   3rd Qu.:  0.00  \n",
       " Max.   :141.91   Max.   :136.33   Max.   :121.62   Max.   :148.49  \n",
       " NA's   :174408   NA's   :178322   NA's   :180303   NA's   :181085  \n",
       "      W10              W11              W12              W13        \n",
       " Min.   :  0.00   Min.   :  0.00   Min.   : 0.00    Min.   : 0.00   \n",
       " 1st Qu.:  0.00   1st Qu.:  0.00   1st Qu.: 0.00    1st Qu.: 0.00   \n",
       " Median :  0.00   Median :  0.00   Median : 0.00    Median : 0.00   \n",
       " Mean   :  2.11   Mean   :  1.33   Mean   : 0.95    Mean   : 0.88   \n",
       " 3rd Qu.:  0.00   3rd Qu.:  0.00   3rd Qu.: 0.00    3rd Qu.: 0.00   \n",
       " Max.   :169.23   Max.   :134.45   Max.   :80.24    Max.   :50.75   \n",
       " NA's   :181681   NA's   :182166   NA's   :182570   NA's   :182917  \n",
       "      W14              W15              W16         total_axle_dist  \n",
       " Min.   : 0.00    Min.   : 0.00    Min.   : 0.00    Min.   : 0.9032  \n",
       " 1st Qu.: 0.00    1st Qu.: 0.00    1st Qu.: 0.00    1st Qu.: 9.2666  \n",
       " Median : 0.00    Median : 0.00    Median : 0.00    Median :12.1818  \n",
       " Mean   : 0.90    Mean   : 0.90    Mean   : 1.05    Mean   :11.2357  \n",
       " 3rd Qu.: 0.00    3rd Qu.: 0.00    3rd Qu.: 0.00    3rd Qu.:12.4545  \n",
       " Max.   :63.58    Max.   :47.19    Max.   :56.01    Max.   :80.8727  \n",
       " NA's   :183230   NA's   :183476   NA's   :183725                    \n",
       "       A1                A2              A3              A4       \n",
       " Min.   : 0.3191   Min.   : 0.33   Min.   : 0.35   Min.   : 0.33  \n",
       " 1st Qu.: 3.7209   1st Qu.: 5.05   1st Qu.: 1.32   1st Qu.: 1.30  \n",
       " Median : 3.8425   Median : 5.78   Median : 1.35   Median : 1.34  \n",
       " Mean   : 4.0128   Mean   : 5.34   Mean   : 1.76   Mean   : 1.55  \n",
       " 3rd Qu.: 3.9704   3rd Qu.: 6.03   3rd Qu.: 1.41   3rd Qu.: 1.38  \n",
       " Max.   :19.8194   Max.   :18.88   Max.   :19.50   Max.   :17.44  \n",
       "                   NA's   :32323   NA's   :43346   NA's   :71942  \n",
       "       A5               A6               A7               A8        \n",
       " Min.   : 0.32    Min.   : 0.44    Min.   : 0.33    Min.   : 0.48   \n",
       " 1st Qu.: 1.34    1st Qu.: 1.35    1st Qu.: 1.39    1st Qu.: 1.37   \n",
       " Median : 1.92    Median : 1.72    Median : 2.77    Median : 2.60   \n",
       " Mean   : 3.29    Mean   : 3.16    Mean   : 3.59    Mean   : 3.48   \n",
       " 3rd Qu.: 4.72    3rd Qu.: 4.59    3rd Qu.: 5.45    3rd Qu.: 5.20   \n",
       " Max.   :19.82    Max.   :17.30    Max.   :18.64    Max.   :16.70   \n",
       " NA's   :174408   NA's   :178322   NA's   :180303   NA's   :181085  \n",
       "       A9              A10              A11              A12        \n",
       " Min.   : 0.51    Min.   : 0.41    Min.   : 0.70    Min.   : 0.79   \n",
       " 1st Qu.: 1.36    1st Qu.: 1.37    1st Qu.: 1.36    1st Qu.: 1.39   \n",
       " Median : 2.33    Median : 2.30    Median : 2.04    Median : 2.20   \n",
       " Mean   : 3.41    Mean   : 3.42    Mean   : 3.36    Mean   : 3.47   \n",
       " 3rd Qu.: 5.12    3rd Qu.: 5.15    3rd Qu.: 5.01    3rd Qu.: 5.24   \n",
       " Max.   :17.71    Max.   :17.39    Max.   :15.26    Max.   :15.51   \n",
       " NA's   :181681   NA's   :182166   NA's   :182570   NA's   :182917  \n",
       "      A13              A14              A15               T          \n",
       " Min.   : 0.91    Min.   : 0.90    Min.   : 0.98    Min.   :-273.00  \n",
       " 1st Qu.: 1.36    1st Qu.: 1.39    1st Qu.: 1.37    1st Qu.:  13.52  \n",
       " Median : 1.97    Median : 1.92    Median : 2.06    Median :  17.69  \n",
       " Mean   : 3.22    Mean   : 3.22    Mean   : 3.38    Mean   :  15.95  \n",
       " 3rd Qu.: 4.42    3rd Qu.: 4.22    3rd Qu.: 4.96    3rd Qu.:  23.40  \n",
       " Max.   :10.90    Max.   :10.93    Max.   :10.98    Max.   :  47.57  \n",
       " NA's   :183230   NA's   :183476   NA's   :183725                    \n",
       " Reduced_chi_squared      Date                       Horaire         \n",
       " Min.   :    0.0     Min.   :2017-07-05 00:00:00   Length:183928     \n",
       " 1st Qu.:  100.0     1st Qu.:2017-08-02 00:00:00   Class :character  \n",
       " Median :  250.6     Median :2017-09-06 00:00:00   Mode  :character  \n",
       " Mean   :  475.5     Mean   :2017-09-12 01:53:14                     \n",
       " 3rd Qu.:  524.5     3rd Qu.:2017-10-25 00:00:00                     \n",
       " Max.   :29201.3     Max.   :2017-11-23 00:00:00                     \n",
       "                                                                     \n",
       "    Time_num         Vitesse            MGV               M1        \n",
       " Min.   :0.5138   Min.   : 36.05   Min.   :  0.00   Min.   : 0.000  \n",
       " 1st Qu.:0.5929   1st Qu.: 60.43   1st Qu.: 11.73   1st Qu.: 3.717  \n",
       " Median :0.6908   Median : 69.88   Median : 18.57   Median : 4.802  \n",
       " Mean   :0.7071   Mean   : 70.12   Mean   : 19.72   Mean   : 4.310  \n",
       " 3rd Qu.:0.8274   3rd Qu.: 79.28   3rd Qu.: 29.73   3rd Qu.: 5.529  \n",
       " Max.   :0.9078   Max.   :175.54   Max.   :140.14   Max.   :30.000  \n",
       "                                                                    \n",
       "       M2               M3              M4              M5       \n",
       " Min.   : 0.000   Min.   : 0.00   Min.   : 0.00   Min.   : 0.00  \n",
       " 1st Qu.: 3.498   1st Qu.: 1.54   1st Qu.: 2.31   1st Qu.: 1.91  \n",
       " Median : 6.439   Median : 3.09   Median : 4.23   Median : 4.09  \n",
       " Mean   : 6.491   Mean   : 3.39   Mean   : 4.47   Mean   : 4.28  \n",
       " 3rd Qu.: 9.643   3rd Qu.: 5.01   3rd Qu.: 6.65   3rd Qu.: 6.55  \n",
       " Max.   :28.134   Max.   :41.04   Max.   :37.59   Max.   :26.30  \n",
       "                  NA's   :32323   NA's   :43346   NA's   :71942  \n",
       "       M6               M7               M8               M9        \n",
       " Min.   : 0.00    Min.   : 0.00    Min.   : 0.00    Min.   : 0.00   \n",
       " 1st Qu.: 0.00    1st Qu.: 0.00    1st Qu.: 0.00    1st Qu.: 0.00   \n",
       " Median : 0.00    Median : 0.00    Median : 0.00    Median : 0.00   \n",
       " Mean   : 1.31    Mean   : 0.69    Mean   : 0.29    Mean   : 0.28   \n",
       " 3rd Qu.: 2.04    3rd Qu.: 0.35    3rd Qu.: 0.00    3rd Qu.: 0.00   \n",
       " Max.   :14.47    Max.   :13.90    Max.   :12.40    Max.   :15.14   \n",
       " NA's   :174408   NA's   :178322   NA's   :180303   NA's   :181085  \n",
       "      M10              M11              M12              M13        \n",
       " Min.   : 0.00    Min.   : 0.00    Min.   :0.00     Min.   :0.00    \n",
       " 1st Qu.: 0.00    1st Qu.: 0.00    1st Qu.:0.00     1st Qu.:0.00    \n",
       " Median : 0.00    Median : 0.00    Median :0.00     Median :0.00    \n",
       " Mean   : 0.21    Mean   : 0.14    Mean   :0.10     Mean   :0.09    \n",
       " 3rd Qu.: 0.00    3rd Qu.: 0.00    3rd Qu.:0.00     3rd Qu.:0.00    \n",
       " Max.   :17.25    Max.   :13.70    Max.   :8.18     Max.   :5.17    \n",
       " NA's   :181681   NA's   :182166   NA's   :182570   NA's   :182917  \n",
       "      M14              M15              M16        \n",
       " Min.   :0.00     Min.   :0.00     Min.   :0.00    \n",
       " 1st Qu.:0.00     1st Qu.:0.00     1st Qu.:0.00    \n",
       " Median :0.00     Median :0.00     Median :0.00    \n",
       " Mean   :0.09     Mean   :0.09     Mean   :0.11    \n",
       " 3rd Qu.:0.00     3rd Qu.:0.00     3rd Qu.:0.00    \n",
       " Max.   :6.48     Max.   :4.81     Max.   :5.71    \n",
       " NA's   :183230   NA's   :183476   NA's   :183725  "
      ]
     },
     "metadata": {},
     "output_type": "display_data"
    }
   ],
   "source": [
    "summary(siwim_data)"
   ]
  },
  {
   "cell_type": "code",
   "execution_count": 6,
   "metadata": {},
   "outputs": [
    {
     "name": "stdout",
     "output_type": "stream",
     "text": [
      "Classes 'data.table' and 'data.frame':\t183928 obs. of  65 variables:\n",
      " $ V1                 : num  1 2 3 4 5 6 7 8 9 10 ...\n",
      " $ Timestamp          : POSIXct, format: \"2017-11-23 00:00:42\" \"2017-11-23 00:21:31\" ...\n",
      " $ Site_ID            : Factor w/ 1 level \"Normandie\": 1 1 1 1 1 1 1 1 1 1 ...\n",
      " $ Warning_flags      : Factor w/ 32 levels \"00000000\",\"00000001\",..: 1 1 1 1 1 1 1 1 1 1 ...\n",
      " $ Lane               : Factor w/ 2 levels \"droite\",\"gauche\": 1 1 1 1 1 1 1 1 1 1 ...\n",
      " $ v                  : num  21.2 20.6 20.6 22.6 18.9 ...\n",
      " $ N                  : int  5 2 2 5 5 5 5 6 5 5 ...\n",
      " $ Subclass_ID        : Factor w/ 72 levels \"10\",\"100\",\"101\",..: 9 32 25 9 9 52 9 65 9 9 ...\n",
      " $ Axle_groups        : Factor w/ 2211 levels \"11\",\"111\",\"1111\",..: 607 1 1 607 607 607 607 859 607 607 ...\n",
      " $ WGV                : num  288.4 47.3 16.3 214.7 315.1 ...\n",
      " $ W1                 : num  45.92 19.18 8.71 49.97 49.67 ...\n",
      " $ W2                 : num  85.62 28.16 7.56 79.55 88.53 ...\n",
      " $ W3                 : num  41.6 NA NA 17.1 45.7 ...\n",
      " $ W4                 : num  58 NA NA 34.9 67.5 ...\n",
      " $ W5                 : num  57.2 NA NA 33.1 63.6 ...\n",
      " $ W6                 : num  NA NA NA NA NA ...\n",
      " $ W7                 : num  NA NA NA NA NA NA NA NA NA NA ...\n",
      " $ W8                 : num  NA NA NA NA NA NA NA NA NA NA ...\n",
      " $ W9                 : num  NA NA NA NA NA NA NA NA NA NA ...\n",
      " $ W10                : num  NA NA NA NA NA NA NA NA NA NA ...\n",
      " $ W11                : num  NA NA NA NA NA NA NA NA NA NA ...\n",
      " $ W12                : num  NA NA NA NA NA NA NA NA NA NA ...\n",
      " $ W13                : num  NA NA NA NA NA NA NA NA NA NA ...\n",
      " $ W14                : num  NA NA NA NA NA NA NA NA NA NA ...\n",
      " $ W15                : num  NA NA NA NA NA NA NA NA NA NA ...\n",
      " $ W16                : num  NA NA NA NA NA NA NA NA NA NA ...\n",
      " $ total_axle_dist    : num  12.23 3.54 2.37 12.38 12.06 ...\n",
      " $ A1                 : num  3.9 3.54 2.37 3.8 3.72 ...\n",
      " $ A2                 : num  5.68 NA NA 5.92 5.68 ...\n",
      " $ A3                 : num  1.33 NA NA 1.28 1.33 ...\n",
      " $ A4                 : num  1.33 NA NA 1.37 1.33 ...\n",
      " $ A5                 : num  NA NA NA NA NA ...\n",
      " $ A6                 : num  NA NA NA NA NA NA NA NA NA NA ...\n",
      " $ A7                 : num  NA NA NA NA NA NA NA NA NA NA ...\n",
      " $ A8                 : num  NA NA NA NA NA NA NA NA NA NA ...\n",
      " $ A9                 : num  NA NA NA NA NA NA NA NA NA NA ...\n",
      " $ A10                : num  NA NA NA NA NA NA NA NA NA NA ...\n",
      " $ A11                : num  NA NA NA NA NA NA NA NA NA NA ...\n",
      " $ A12                : num  NA NA NA NA NA NA NA NA NA NA ...\n",
      " $ A13                : num  NA NA NA NA NA NA NA NA NA NA ...\n",
      " $ A14                : num  NA NA NA NA NA NA NA NA NA NA ...\n",
      " $ A15                : num  NA NA NA NA NA NA NA NA NA NA ...\n",
      " $ T                  : num  12.9 12.9 12.9 12.9 12.9 ...\n",
      " $ Reduced_chi_squared: num  391.59 4.25 13.85 401.02 521.62 ...\n",
      " $ Date               : POSIXct, format: \"2017-11-23\" \"2017-11-23\" ...\n",
      " $ Horaire            : chr  \"00:00:42\" \"00:21:31\" \"00:21:32\" \"00:24:14\" ...\n",
      " $ Time_num           : num  0.906 0.906 0.906 0.906 0.906 ...\n",
      " $ Vitesse            : num  76.4 74.1 74.1 81.5 68 ...\n",
      " $ MGV                : num  29.39 4.83 1.66 21.89 32.12 ...\n",
      " $ M1                 : num  4.681 1.955 0.888 5.094 5.063 ...\n",
      " $ M2                 : num  8.728 2.871 0.771 8.109 9.024 ...\n",
      " $ M3                 : num  4.24 NA NA 1.75 4.66 ...\n",
      " $ M4                 : num  5.92 NA NA 3.56 6.88 ...\n",
      " $ M5                 : num  5.83 NA NA 3.37 6.49 ...\n",
      " $ M6                 : num  NA NA NA NA NA ...\n",
      " $ M7                 : num  NA NA NA NA NA NA NA NA NA NA ...\n",
      " $ M8                 : num  NA NA NA NA NA NA NA NA NA NA ...\n",
      " $ M9                 : num  NA NA NA NA NA NA NA NA NA NA ...\n",
      " $ M10                : num  NA NA NA NA NA NA NA NA NA NA ...\n",
      " $ M11                : num  NA NA NA NA NA NA NA NA NA NA ...\n",
      " $ M12                : num  NA NA NA NA NA NA NA NA NA NA ...\n",
      " $ M13                : num  NA NA NA NA NA NA NA NA NA NA ...\n",
      " $ M14                : num  NA NA NA NA NA NA NA NA NA NA ...\n",
      " $ M15                : num  NA NA NA NA NA NA NA NA NA NA ...\n",
      " $ M16                : num  NA NA NA NA NA NA NA NA NA NA ...\n",
      " - attr(*, \".internal.selfref\")=<externalptr> \n"
     ]
    }
   ],
   "source": [
    "str(siwim_data)"
   ]
  },
  {
   "cell_type": "markdown",
   "metadata": {},
   "source": [
    "***\n",
    "## 4. Comparaison des vitesses moyennes en fonction de la voie (Lane)\n",
    "***"
   ]
  },
  {
   "cell_type": "markdown",
   "metadata": {},
   "source": [
    "### Test de student sur de la vitesse en fonction de la voie (Lane)"
   ]
  },
  {
   "cell_type": "code",
   "execution_count": 7,
   "metadata": {},
   "outputs": [
    {
     "data": {
      "text/plain": [
       "\n",
       "\tWelch Two Sample t-test\n",
       "\n",
       "data:  Vitesse by Lane\n",
       "t = 20.611, df = 19097, p-value < 2.2e-16\n",
       "alternative hypothesis: true difference in means is not equal to 0\n",
       "95 percent confidence interval:\n",
       " 1.832829 2.218073\n",
       "sample estimates:\n",
       "mean in group droite mean in group gauche \n",
       "            70.30038             68.27493 \n"
      ]
     },
     "metadata": {},
     "output_type": "display_data"
    }
   ],
   "source": [
    "t.test(Vitesse ~ Lane, data = siwim_data)"
   ]
  },
  {
   "cell_type": "markdown",
   "metadata": {},
   "source": [
    "### Comparaison de la variance des groupes"
   ]
  },
  {
   "cell_type": "code",
   "execution_count": 8,
   "metadata": {},
   "outputs": [
    {
     "data": {
      "text/plain": [
       "\n",
       "\tF test to compare two variances\n",
       "\n",
       "data:  Vitesse by Lane\n",
       "F = 0.92612, num df = 167810, denom df = 16117, p-value = 2.847e-11\n",
       "alternative hypothesis: true ratio of variances is not equal to 1\n",
       "95 percent confidence interval:\n",
       " 0.9050907 0.9474291\n",
       "sample estimates:\n",
       "ratio of variances \n",
       "         0.9261191 \n"
      ]
     },
     "metadata": {},
     "output_type": "display_data"
    }
   ],
   "source": [
    "var.test(Vitesse ~ Lane, data = siwim_data)"
   ]
  },
  {
   "cell_type": "markdown",
   "metadata": {},
   "source": [
    "### Normalité de l'échantillon"
   ]
  },
  {
   "cell_type": "code",
   "execution_count": 9,
   "metadata": {},
   "outputs": [
    {
     "data": {
      "image/png": "[encoded data removed]",
      "text/plain": [
       "Plot with title \"density.default(x = siwim_data$Vitesse)\""
      ]
     },
     "metadata": {},
     "output_type": "display_data"
    }
   ],
   "source": [
    "plot(density(siwim_data$Vitesse))"
   ]
  },
  {
   "cell_type": "code",
   "execution_count": 10,
   "metadata": {},
   "outputs": [
    {
     "data": {
      "image/png": "[encoded data removed]",
      "text/plain": [
       "Plot with title \"Normal Q-Q Plot\""
      ]
     },
     "metadata": {},
     "output_type": "display_data"
    }
   ],
   "source": [
    "qqnorm(siwim_data$Vitesse); qqline(siwim_data$Vitesse)"
   ]
  },
  {
   "cell_type": "code",
   "execution_count": 11,
   "metadata": {},
   "outputs": [
    {
     "data": {
      "image/png": "[encoded data removed]",
      "text/plain": [
       "Plot with title \"Fréquence des vitesses\""
      ]
     },
     "metadata": {},
     "output_type": "display_data"
    }
   ],
   "source": [
    "x <- siwim_data$Vitesse\n",
    "h <- hist(x, col=\"lightblue\", main=\"Fréquence des vitesses\",  xlab=\"Vitesse\")\n",
    "m <- round(mean(x),1)\n",
    "s <- round(sd(x),1)\n",
    "mtext(paste0(\"Mean : \", m, \"; SD : \", s), \n",
    "      side=3, cex=0.8)\n",
    "# add normal curve\n",
    " xfit <- seq(min(x),max(x),length=40)\n",
    " yfit <- dnorm(xfit,mean=mean(x),sd=sd(x))\n",
    " yfit <- yfit*diff(h$mids[1:2])*length(x)\n",
    "lines(xfit, yfit, col=\"red\", lwd=2)"
   ]
  },
  {
   "cell_type": "markdown",
   "metadata": {},
   "source": [
    "***\n",
    "## 5. Correlation du nombre d'essieux et du poids total des camions\n",
    "***"
   ]
  },
  {
   "cell_type": "markdown",
   "metadata": {},
   "source": [
    "### Aperçu graphique"
   ]
  },
  {
   "cell_type": "code",
   "execution_count": 12,
   "metadata": {},
   "outputs": [
    {
     "data": {
      "image/png": "[encoded data removed]",
      "text/plain": [
       "plot without title"
      ]
     },
     "metadata": {},
     "output_type": "display_data"
    }
   ],
   "source": [
    "plot(jitter(siwim_data$MGV), jitter(siwim_data$N), ylab = \"Nommbre d'essieux\", xlab = \"Poids en tonnes\")"
   ]
  },
  {
   "cell_type": "markdown",
   "metadata": {},
   "source": [
    "### Calcul de la corrélation et test de correlation de Pearson"
   ]
  },
  {
   "cell_type": "code",
   "execution_count": 13,
   "metadata": {},
   "outputs": [
    {
     "data": {
      "text/html": [
       "0.295081813106616"
      ],
      "text/latex": [
       "0.295081813106616"
      ],
      "text/markdown": [
       "0.295081813106616"
      ],
      "text/plain": [
       "[1] 0.2950818"
      ]
     },
     "metadata": {},
     "output_type": "display_data"
    }
   ],
   "source": [
    "cor(siwim_data$MGV,siwim_data$N,use=\"complete.obs\")"
   ]
  },
  {
   "cell_type": "code",
   "execution_count": 14,
   "metadata": {},
   "outputs": [
    {
     "data": {
      "text/plain": [
       "\n",
       "\tPearson's product-moment correlation\n",
       "\n",
       "data:  siwim_data$MGV and siwim_data$N\n",
       "t = 132.45, df = 183930, p-value < 2.2e-16\n",
       "alternative hypothesis: true correlation is not equal to 0\n",
       "95 percent confidence interval:\n",
       " 0.2909040 0.2992484\n",
       "sample estimates:\n",
       "      cor \n",
       "0.2950818 \n"
      ]
     },
     "metadata": {},
     "output_type": "display_data"
    }
   ],
   "source": [
    "cor.test(siwim_data$MGV, siwim_data$N)"
   ]
  },
  {
   "cell_type": "markdown",
   "metadata": {},
   "source": [
    "### Test de normalité des variables"
   ]
  },
  {
   "cell_type": "markdown",
   "metadata": {},
   "source": [
    "Poids en tonnes"
   ]
  },
  {
   "cell_type": "code",
   "execution_count": 15,
   "metadata": {},
   "outputs": [
    {
     "data": {
      "image/png": "[encoded data removed]",
      "text/plain": [
       "Plot with title \"Normal Q-Q Plot\""
      ]
     },
     "metadata": {},
     "output_type": "display_data"
    }
   ],
   "source": [
    "qqnorm(siwim_data$MGV); qqline(siwim_data$MGV)"
   ]
  },
  {
   "cell_type": "markdown",
   "metadata": {},
   "source": [
    "Nombre d'essieux"
   ]
  },
  {
   "cell_type": "code",
   "execution_count": 16,
   "metadata": {},
   "outputs": [
    {
     "data": {
      "image/png": "[encoded data removed]",
      "text/plain": [
       "Plot with title \"Normal Q-Q Plot\""
      ]
     },
     "metadata": {},
     "output_type": "display_data"
    }
   ],
   "source": [
    "qqnorm(siwim_data$N); qqline(siwim_data$N)"
   ]
  },
  {
   "cell_type": "code",
   "execution_count": 17,
   "metadata": {},
   "outputs": [
    {
     "data": {
      "image/png": "[encoded data removed]",
      "text/plain": [
       "Plot with title \"Fréquence des essieux\""
      ]
     },
     "metadata": {},
     "output_type": "display_data"
    }
   ],
   "source": [
    "x <- siwim_data$N\n",
    "h <- hist(x, col=\"lightblue\", main=\"Fréquence des essieux\",  xlab=\"Nombre d'essieux\")\n",
    "m <- round(mean(x),1)\n",
    "s <- round(sd(x),1)\n",
    "mtext(paste0(\"Mean : \", m, \"; SD : \", s), \n",
    "      side=3, cex=0.8)\n",
    "# add normal curve\n",
    " xfit <- seq(min(x),max(x),length=40)\n",
    " yfit <- dnorm(xfit,mean=mean(x),sd=sd(x))\n",
    " yfit <- yfit*diff(h$mids[1:2])*length(x)\n",
    "lines(xfit, yfit, col=\"red\", lwd=2)"
   ]
  },
  {
   "cell_type": "markdown",
   "metadata": {},
   "source": [
    "### Test de correlation de Spearman"
   ]
  },
  {
   "cell_type": "code",
   "execution_count": 18,
   "metadata": {},
   "outputs": [
    {
     "name": "stderr",
     "output_type": "stream",
     "text": [
      "Warning message in cor.test.default(siwim_data$MGV, siwim_data$N, method = \"spearman\"):\n",
      "\"Cannot compute exact p-value with ties\""
     ]
    },
    {
     "data": {
      "text/plain": [
       "\n",
       "\tSpearman's rank correlation rho\n",
       "\n",
       "data:  siwim_data$MGV and siwim_data$N\n",
       "S = 5.6533e+14, p-value < 2.2e-16\n",
       "alternative hypothesis: true rho is not equal to 0\n",
       "sample estimates:\n",
       "      rho \n",
       "0.4548586 \n"
      ]
     },
     "metadata": {},
     "output_type": "display_data"
    }
   ],
   "source": [
    "cor.test(siwim_data$MGV,siwim_data$N, method = \"spearman\")"
   ]
  },
  {
   "cell_type": "markdown",
   "metadata": {},
   "source": [
    "***\n",
    "## 6. Premier modèle linéaire simple\n",
    "***"
   ]
  },
  {
   "cell_type": "code",
   "execution_count": 19,
   "metadata": {},
   "outputs": [
    {
     "data": {
      "text/plain": [
       "\n",
       "Call:\n",
       "lm(formula = Vitesse ~ MGV + Lane + total_axle_dist + T + N, \n",
       "    data = siwim_data)\n",
       "\n",
       "Residuals:\n",
       "    Min      1Q  Median      3Q     Max \n",
       "-45.147  -5.879   0.077   6.631  93.720 \n",
       "\n",
       "Coefficients:\n",
       "                  Estimate Std. Error  t value Pr(>|t|)    \n",
       "(Intercept)     82.4547860  0.0709829 1161.615   <2e-16 ***\n",
       "MGV             -0.4649763  0.0019762 -235.287   <2e-16 ***\n",
       "Lanegauche      -3.3132118  0.0795636  -41.642   <2e-16 ***\n",
       "total_axle_dist  0.4693661  0.0093522   50.188   <2e-16 ***\n",
       "T               -0.0003326  0.0007165   -0.464    0.642    \n",
       "N               -1.8679068  0.0328539  -56.855   <2e-16 ***\n",
       "---\n",
       "Signif. codes:  0 '***' 0.001 '**' 0.01 '*' 0.05 '.' 0.1 ' ' 1\n",
       "\n",
       "Residual standard error: 9.61 on 183922 degrees of freedom\n",
       "Multiple R-squared:  0.3089,\tAdjusted R-squared:  0.3089 \n",
       "F-statistic: 1.644e+04 on 5 and 183922 DF,  p-value: < 2.2e-16\n"
      ]
     },
     "metadata": {},
     "output_type": "display_data"
    }
   ],
   "source": [
    "model <- lm(Vitesse ~ MGV + Lane + total_axle_dist + T + N, data = siwim_data)\n",
    "summary(model)"
   ]
  },
  {
   "cell_type": "code",
   "execution_count": 20,
   "metadata": {},
   "outputs": [
    {
     "data": {
      "text/html": [
       "<table>\n",
       "<thead><tr><th></th><th scope=col>Df</th><th scope=col>Sum of Sq</th><th scope=col>RSS</th><th scope=col>AIC</th><th scope=col>F value</th><th scope=col>Pr(&gt;F)</th></tr></thead>\n",
       "<tbody>\n",
       "\t<tr><th scope=row>&lt;none&gt;</th><td>NA          </td><td>          NA</td><td>16986716    </td><td>832404.4    </td><td>          NA</td><td>       NA   </td></tr>\n",
       "\t<tr><th scope=row>MGV</th><td> 1          </td><td>5.112971e+06</td><td>22099687    </td><td>880799.7    </td><td>5.536020e+04</td><td>0.0000000   </td></tr>\n",
       "\t<tr><th scope=row>Lane</th><td> 1          </td><td>1.601570e+05</td><td>17146872    </td><td>834128.4    </td><td>1.734084e+03</td><td>0.0000000   </td></tr>\n",
       "\t<tr><th scope=row>total_axle_dist</th><td> 1          </td><td>2.326323e+05</td><td>17219348    </td><td>834904.2    </td><td>2.518803e+03</td><td>0.0000000   </td></tr>\n",
       "\t<tr><th scope=row>T</th><td> 1          </td><td>1.990315e+01</td><td>16986735    </td><td>832402.6    </td><td>2.154994e-01</td><td>0.6424913   </td></tr>\n",
       "\t<tr><th scope=row>N</th><td> 1          </td><td>2.985472e+05</td><td>17285263    </td><td>835606.9    </td><td>3.232491e+03</td><td>0.0000000   </td></tr>\n",
       "</tbody>\n",
       "</table>\n"
      ],
      "text/latex": [
       "\\begin{tabular}{r|llllll}\n",
       "  & Df & Sum of Sq & RSS & AIC & F value & Pr(>F)\\\\\n",
       "\\hline\n",
       "\t<none> & NA           &           NA & 16986716     & 832404.4     &           NA &        NA   \\\\\n",
       "\tMGV &  1           & 5.112971e+06 & 22099687     & 880799.7     & 5.536020e+04 & 0.0000000   \\\\\n",
       "\tLane &  1           & 1.601570e+05 & 17146872     & 834128.4     & 1.734084e+03 & 0.0000000   \\\\\n",
       "\ttotal\\_axle\\_dist &  1           & 2.326323e+05 & 17219348     & 834904.2     & 2.518803e+03 & 0.0000000   \\\\\n",
       "\tT &  1           & 1.990315e+01 & 16986735     & 832402.6     & 2.154994e-01 & 0.6424913   \\\\\n",
       "\tN &  1           & 2.985472e+05 & 17285263     & 835606.9     & 3.232491e+03 & 0.0000000   \\\\\n",
       "\\end{tabular}\n"
      ],
      "text/markdown": [
       "\n",
       "| <!--/--> | Df | Sum of Sq | RSS | AIC | F value | Pr(>F) | \n",
       "|---|---|---|---|---|---|\n",
       "| <none> | NA           |           NA | 16986716     | 832404.4     |           NA |        NA    | \n",
       "| MGV |  1           | 5.112971e+06 | 22099687     | 880799.7     | 5.536020e+04 | 0.0000000    | \n",
       "| Lane |  1           | 1.601570e+05 | 17146872     | 834128.4     | 1.734084e+03 | 0.0000000    | \n",
       "| total_axle_dist |  1           | 2.326323e+05 | 17219348     | 834904.2     | 2.518803e+03 | 0.0000000    | \n",
       "| T |  1           | 1.990315e+01 | 16986735     | 832402.6     | 2.154994e-01 | 0.6424913    | \n",
       "| N |  1           | 2.985472e+05 | 17285263     | 835606.9     | 3.232491e+03 | 0.0000000    | \n",
       "\n",
       "\n"
      ],
      "text/plain": [
       "                Df Sum of Sq    RSS      AIC      F value      Pr(>F)   \n",
       "<none>          NA           NA 16986716 832404.4           NA        NA\n",
       "MGV              1 5.112971e+06 22099687 880799.7 5.536020e+04 0.0000000\n",
       "Lane             1 1.601570e+05 17146872 834128.4 1.734084e+03 0.0000000\n",
       "total_axle_dist  1 2.326323e+05 17219348 834904.2 2.518803e+03 0.0000000\n",
       "T                1 1.990315e+01 16986735 832402.6 2.154994e-01 0.6424913\n",
       "N                1 2.985472e+05 17285263 835606.9 3.232491e+03 0.0000000"
      ]
     },
     "metadata": {},
     "output_type": "display_data"
    }
   ],
   "source": [
    "drop1(model,.~.,test = \"F\")"
   ]
  },
  {
   "cell_type": "markdown",
   "metadata": {},
   "source": [
    "***\n",
    "## 7. Analyse des warning flags\n",
    "***"
   ]
  },
  {
   "cell_type": "markdown",
   "metadata": {},
   "source": [
    "### Proportion des warnings flags"
   ]
  },
  {
   "cell_type": "code",
   "execution_count": 7,
   "metadata": {},
   "outputs": [
    {
     "data": {
      "text/plain": [
       "\n",
       "    00000000     00000001     00000080     00000081     00000200     00000201 \n",
       "7.103160e-01 5.446697e-02 4.948676e-02 2.485755e-02 2.424862e-02 3.909138e-03 \n",
       "    00000800     00000801     00000880     00000881     00000a00     00000a01 \n",
       "5.349920e-03 8.807794e-04 5.110695e-04 2.664086e-04 9.242747e-05 4.349528e-05 \n",
       "    00008000     00008001     00008080     00008081     00008800     00008801 \n",
       "5.523357e-02 3.550302e-03 2.288939e-03 3.099039e-04 2.718455e-04 4.893219e-05 \n",
       "    00008880     00008881     00040000     00040001     00040a00     00800000 \n",
       "2.718455e-05 5.436910e-06 4.349528e-05 4.349528e-05 5.436910e-06 5.454852e-02 \n",
       "    00800001     00800200     00800201     00800800     00800801     00808000 \n",
       "5.165065e-03 1.919229e-03 1.141751e-04 1.299422e-03 1.576704e-04 3.860206e-04 \n",
       "    00808001     00808800 \n",
       "1.141751e-04 3.805837e-05 "
      ]
     },
     "metadata": {},
     "output_type": "display_data"
    }
   ],
   "source": [
    "tab <- prop.table(table(siwim_data$Warning_flags))\n",
    "tab"
   ]
  },
  {
   "cell_type": "code",
   "execution_count": 8,
   "metadata": {},
   "outputs": [
    {
     "data": {
      "image/png": "[encoded data removed]",
      "text/plain": [
       "plot without title"
      ]
     },
     "metadata": {},
     "output_type": "display_data"
    }
   ],
   "source": [
    "plot(tab)"
   ]
  },
  {
   "cell_type": "code",
   "execution_count": 9,
   "metadata": {},
   "outputs": [
    {
     "data": {
      "text/html": [
       "<ol class=list-inline>\n",
       "\t<li>35.0708559737405</li>\n",
       "\t<li>4.30688727200239</li>\n",
       "</ol>\n"
      ],
      "text/latex": [
       "\\begin{enumerate*}\n",
       "\\item 35.0708559737405\n",
       "\\item 4.30688727200239\n",
       "\\end{enumerate*}\n"
      ],
      "text/markdown": [
       "1. 35.0708559737405\n",
       "2. 4.30688727200239\n",
       "\n",
       "\n"
      ],
      "text/plain": [
       "[1] 35.070856  4.306887"
      ]
     },
     "metadata": {},
     "output_type": "display_data"
    }
   ],
   "source": [
    "siwim_data[Warning_flags == \"00800000\",c(mean(MGV),mean(N))]"
   ]
  },
  {
   "cell_type": "code",
   "execution_count": 10,
   "metadata": {},
   "outputs": [
    {
     "data": {
      "text/html": [
       "<ol class=list-inline>\n",
       "\t<li>21.6440903031737</li>\n",
       "\t<li>4.28622165070763</li>\n",
       "</ol>\n"
      ],
      "text/latex": [
       "\\begin{enumerate*}\n",
       "\\item 21.6440903031737\n",
       "\\item 4.28622165070763\n",
       "\\end{enumerate*}\n"
      ],
      "text/markdown": [
       "1. 21.6440903031737\n",
       "2. 4.28622165070763\n",
       "\n",
       "\n"
      ],
      "text/plain": [
       "[1] 21.644090  4.286222"
      ]
     },
     "metadata": {},
     "output_type": "display_data"
    }
   ],
   "source": [
    "siwim_data[Warning_flags == \"00000000\",c(mean(MGV),mean(N))]"
   ]
  },
  {
   "cell_type": "markdown",
   "metadata": {},
   "source": [
    "## 8. Analyse des classes"
   ]
  },
  {
   "cell_type": "code",
   "execution_count": 7,
   "metadata": {},
   "outputs": [
    {
     "data": {
      "text/plain": [
       "\n",
       "   10   100   101   102   103   104   110   111   113   114   115   116   120 \n",
       " 1643  3117   455   390  4137   281  3222  2607 72716    67    30     6    26 \n",
       "  121   122   123   124   130   131   132   133   134   136   140    20    21 \n",
       "    2  1602    20    29    46    82     2    22   453    38 10661  3071   217 \n",
       "   22    30    31    32    33    40    41    50    51    52    53    54    55 \n",
       "   21  6698   324   163   247 11317  9320    51   756    35    75  1547    26 \n",
       "   56    57    58    60    61    62    63    64    70    71    72    73    74 \n",
       " 2295   909   407   820 19835  1242   216   148   158   331    27  1067 15576 \n",
       "   75    76    77    78    79    80    81    82    83    84    85    90    91 \n",
       "  606    17    74    31   152   188  2386   534   684   268     1    19   304 \n",
       "   92    93    94    95    96    98    99 \n",
       "   51    23     7     3    20     5     2 "
      ]
     },
     "metadata": {},
     "output_type": "display_data"
    }
   ],
   "source": [
    "table(siwim_data$Subclass_ID)"
   ]
  },
  {
   "cell_type": "code",
   "execution_count": 12,
   "metadata": {},
   "outputs": [
    {
     "data": {
      "text/plain": [
       "\n",
       "             11             111            1111           11111          111111 \n",
       "          31004            5368            2681             484             176 \n",
       "        1111111        11111111       111111111      1111111111     11111111111 \n",
       "             77              57              31              14               5 \n",
       "   111111111111   1111111111111  11111111111111 111111111111111 111111111111121 \n",
       "              7               6               1               1               1 \n",
       "   111111111113     11111111112    111111111121   1111111111211     11111111113 \n",
       "              1               7               1               1               1 \n",
       "     1111111112     11111111121    111111111211    111111111222      1111111113 \n",
       "              4               2               1               1               1 \n",
       "    11111111131    111111111322     11111111141       111111112      1111111121 \n",
       "              1               1               1               9               4 \n",
       "    11111111211    111111112111 111111112111111      1111111122       111111113 \n",
       "              2               1               1               1               1 \n",
       "     1111111131    111111113111    111111113121       111111114        11111112 \n",
       "              2               1               1               1               7 \n",
       "      111111121      1111111211     11111112111    111111121112   1111111211121 \n",
       "              2               4               2               1               1 \n",
       "  1111111211311     11111112121    111111121411       111111122      1111111221 \n",
       "              1               1               1               2               1 \n",
       "  1111111221111   1111111221121     11111112212    111111122212     11111112311 \n",
       "              1               1               1               1               1 \n",
       "      111111126        11111113       111111131      1111111311     11111113111 \n",
       "              1               3               3               2               2 \n",
       "   111111131111    111111131211     11111113211    111111132111        11111119 \n",
       "              1               1               2               1               1 \n",
       "        1111112        11111121       111111211      1111112111     11111121111 \n",
       "             20               8               4               1               2 \n",
       "   111111211111   1111112111111  11111121111112      1111112113     11111121131 \n",
       "              2               1               1               1               1 \n",
       "      111111212    111111212111    111111212112        11111122       111111221 \n",
       "              2               1               1               4               1 \n",
       "    11111122111  11111122111111    111111222111        11111123      1111112312 \n",
       "              1               1               1               1               1 \n",
       "   111111232111      1111112322         1111113        11111131       111111311 \n",
       "              1               1               5               3               2 \n",
       "    11111131121    111111311211       111111312       111111321      1111113211 \n",
       "              1               1               1               1               1 \n",
       "    11111141121      1111114211         1111115       111111711          111112 \n",
       "              1               1               1               1              63 \n",
       "        1111121        11111211       111112111      1111121111    111112111111 \n",
       "             19              13               3               1               3 \n",
       "  1111121111111    111112111113      1111121112     11111211121     11111211122 \n",
       "              1               1               1               1               1 \n",
       "   111112111221     11111211132    111112111321     11111211211  11111211211111 \n",
       "              1               1               1               1               1 \n",
       "   111112112112     11111211311    111112113111        11111212       111112121 \n",
       "              1               1               1               1               1 \n",
       "    11111212121     11111212122        11111214         1111122       111112212 \n",
       "              1               1               1               6               1 \n",
       "      111112213        11111222         1111123        11111231      1111123121 \n",
       "              1               1               4               1               1 \n",
       "       11111234       111112342      1111124122          111113         1111131 \n",
       "              1               1               1              24               8 \n",
       "       11111311       111113111     11111311111      1111131112       111113112 \n",
       "              2               4               1               1               1 \n",
       "      111113121      1111131211      1111131311         1111132       111113211 \n",
       "              1               1               1               4               1 \n",
       "      111113212        11111322         1111133          111114         1111141 \n",
       "              1               1               3               2               1 \n",
       "       11111411         1111142        11111421         1111145           11112 \n",
       "              1               1               1               1             197 \n",
       "         111121         1111211        11112111       111121111      1111211111 \n",
       "             19              14               9               3               3 \n",
       "    11112111111    111121111111  11112111111111 111121111111111   1111211111211 \n",
       "              5               2               1               1               1 \n",
       "     1111211112       111121112      1111211122     11112111221      1111211131 \n",
       "              2               2               1               1               1 \n",
       "  1111211131111       111121114        11112112       111121121      1111211211 \n",
       "              1               2               1               1               3 \n",
       "    11112112111     11112112113    111121121211     11112112311        11112113 \n",
       "              1               1               1               1               3 \n",
       "      111121131         1111212        11112121       111121211   1111212111121 \n",
       "              1               5               1               1               1 \n",
       "  1111212211111       111121223      1111212321         1111213        11112131 \n",
       "              1               1               1               1               1 \n",
       "         111122         1111221        11112211       111122111      1111221111 \n",
       "              9               5               2               1               2 \n",
       "    11112211111    111122111111       111122112      1111221121       111122116 \n",
       "              1               1               1               1               1 \n",
       "        1111222     11112221131       111122212        11112222        11112223 \n",
       "              4               1               1               1               1 \n",
       "       11112231        11112232          111123         1111231         1111232 \n",
       "              1               1               2               1               1 \n",
       "        1111233        11112331         1111236       111124121         1111271 \n",
       "              1               1               1               1               1 \n",
       "          11113          111131         1111311        11113111       111131111 \n",
       "             62              20               3               2               2 \n",
       "     1111311111     11113111222        11113112         1111312      1111312132 \n",
       "              1               1               1               3               1 \n",
       "         111132         1111321        11113211       111132111    111132111111 \n",
       "              4               6               2               2               1 \n",
       "    11113211112      1111321121       111132121      1111321211         1111324 \n",
       "              1               1               1               1               1 \n",
       "         111133       111133211          111134           11114        11114111 \n",
       "              5               1               4               6               1 \n",
       "     1111411211         1111421         1111462         1111531         1111611 \n",
       "              1               2               1               1               1 \n",
       "        1111621            1112           11121          111211         1112111 \n",
       "              1             782              79              35              19 \n",
       "       11121111       111211111      1112111111     11121111111    111211111111 \n",
       "              9               3               6               2               3 \n",
       "  1112111111121    111211111121      1112111112   1112111112111     11121111131 \n",
       "              1               1               2               2               1 \n",
       "      111211112      1112111121       111211113       111211121      1112111211 \n",
       "              2               2               1               1               1 \n",
       "    11121112121     11121112312    111211131111     11121113122       111211132 \n",
       "              1               1               1               1               1 \n",
       "     1112111411         1112112        11121121       111211211      1112112111 \n",
       "              1               5               1               1               1 \n",
       "     1112112112        11121122      1112112411         1112113        11121131 \n",
       "              1               1               1               1               1 \n",
       "      111211311      1112113111        11121132     11121132111        11121141 \n",
       "              1               1               1               1               1 \n",
       "       11121151          111212         1112121       111212111     11121211111 \n",
       "              1              12               4               2               1 \n",
       "  1112121111111   1112121111121       111212121         1112122        11121221 \n",
       "              1               1               1               3               1 \n",
       "   111212212111         1112123         1112124       111212511          111213 \n",
       "              1               1               1               1               2 \n",
       "        1112131       111213111     11121312111         1112132        11121321 \n",
       "              2               1               1               1               1 \n",
       "         111214         1112161         1112181           11122          111221 \n",
       "              1               1               1              26               9 \n",
       "        1112211        11122111       111221111   1112211111121       111221132 \n",
       "              5               1               2               1               1 \n",
       "       11122116         1112212    111221212111        11122122         1112213 \n",
       "              1               1               1               1               1 \n",
       "     1112213111        11122132        11122133         1112214          111222 \n",
       "              1               1               1               1               2 \n",
       "        1112221      1112221111         1112222         1112223          111223 \n",
       "              1               1               2               1               1 \n",
       "     1112232112         1112235         1112271           11123          111231 \n",
       "              1               1               1               9               8 \n",
       "        1112311    111231111111       111231112        11123112        11123113 \n",
       "              2               1               1               1               1 \n",
       "        1112312        11123221       111232231         1112331        11123411 \n",
       "              1               1               1               1               1 \n",
       "          11124       111241111          111242           11125           11126 \n",
       "              1               1               1               1               1 \n",
       "          11127           11129            1113           11131          111311 \n",
       "              1               1             222              44              20 \n",
       "        1113111        11131111       111311111      1113111111     11131111111 \n",
       "              5               1               3               1               1 \n",
       "     1113111113    111311121121     11131113111       111311151         1113112 \n",
       "              1               1               1               1               1 \n",
       "     1113112111        11131122          111312         1113121    111312111111 \n",
       "              1               1               3               4               1 \n",
       "     1113121113        11131213         1113122       111312212         1113123 \n",
       "              1               1               1               1               2 \n",
       "         111313        11131321         1113133           11132          111321 \n",
       "              2               1               1              12               6 \n",
       "        1113211        11132111      1113211123        11132112       111321231 \n",
       "              4               1               1               1               1 \n",
       "         111322      1113221111     11132211111         1113224         1113231 \n",
       "              3               1               1               1               1 \n",
       "          11133          111331         1113311         1113315          111332 \n",
       "              8               1               1               1               2 \n",
       "        1113322         1113331         1113341         1113412          111342 \n",
       "              1               1               1               1               1 \n",
       "         111343        11134311           11136          111361           11137 \n",
       "              1               1               1               1               1 \n",
       "           1114           11141          111411         1114111        11141111 \n",
       "             12               8               4               1               1 \n",
       "      111411111         1114114      1114121111           11142          111421 \n",
       "              1               1               1               3               1 \n",
       "     1114221112           11143            1115           11151          111511 \n",
       "              1               1               5               1               1 \n",
       "          11152        11161111         1116211          111623             112 \n",
       "              1               1               1               1           24591 \n",
       "           1121           11211          112111         1121111        11211111 \n",
       "           1122             308              60               9               4 \n",
       "      112111111      1121111111     11211111111      1121111112      1121111114 \n",
       "              6               1               1               1               1 \n",
       "      112111112     11211111312      1121111133      1121111141       112111121 \n",
       "              1               1               2               1               2 \n",
       "   112111121111      1121111212      1121111213     11211112212        11211113 \n",
       "              1               2               1               1               1 \n",
       "      112111131         1121112        11211121       112111211      1121112111 \n",
       "              1               6               1               1               1 \n",
       "    11211121111      1121112112       112111212       112111243      1121112511 \n",
       "              1               1               1               1               1 \n",
       "        1121113       112111311    112111311211      1121113221        11211141 \n",
       "              2               2               1               1               1 \n",
       "      112111431          112112         1121121       112112111    112112111112 \n",
       "              1              14               5               1               1 \n",
       "      112112112        11211212    112112121121      1121121214         1121122 \n",
       "              1               2               1               1               2 \n",
       "       11211221     11211221121         1121123         1121124       112112422 \n",
       "              1               1               1               1               1 \n",
       "         112113         1121131      1121131111       112113112      1121131211 \n",
       "             11               1               1               1               1 \n",
       "        1121132      1121132121        11211322          112114         1121141 \n",
       "              2               1               1               3               2 \n",
       "     1121141131         1121142           11212          112121         1121211 \n",
       "              1               2             781              17               2 \n",
       "       11212111       112121111     11212111111   1121211111211    112121121211 \n",
       "              5               1               1               1               1 \n",
       "        1121212    112121211111      1121212112       112121222        11212123 \n",
       "              3               1               1               1               1 \n",
       "        1121213       112121311       112121321          112122         1121221 \n",
       "              1               1               1               1               1 \n",
       "      112122121       112122131         1121223        11212234         1121224 \n",
       "              1               1               1               1               1 \n",
       "         112123       112123112       112123211        11212322         1121241 \n",
       "              1               1               1               1               1 \n",
       "       11212412           11213          112131         1121311        11213111 \n",
       "              1              26               4               1               1 \n",
       "     1121311121        11213112         1121312          112132     11213211211 \n",
       "              1               1               1               1               1 \n",
       "        1121322         1121331      1121332111           11214          112143 \n",
       "              1               1               1               1               1 \n",
       "         112152            1122           11221          112211         1122111 \n",
       "              1             639              28              11              10 \n",
       "       11221111       112211111    112211111111       112211112     11221112111 \n",
       "              2               2               1               1               1 \n",
       "    11221113121         1122112        11221121         1122113       112211321 \n",
       "              1               2               1               2               1 \n",
       "     1122121122         1122123          112213         1122132        11221341 \n",
       "              1               1               2               1               1 \n",
       "         112214        11221411          112216           11222          112221 \n",
       "              1               1               1              10               3 \n",
       "     1122211211        11222113          112222       112222111          112223 \n",
       "              1               1               3               1               1 \n",
       "        1122233        11222331           11223          112231         1122311 \n",
       "              1               1               2               1               1 \n",
       "       11223111        11223112         1122321         1122343           11224 \n",
       "              1               1               1               1               1 \n",
       "       11224111        11224231           11226            1123           11231 \n",
       "              1               1               1              56              14 \n",
       "         112311         1123111        11231111       112311111         1123112 \n",
       "              3               3               1               1               2 \n",
       "        1123114          112312         1123121        11231312           11232 \n",
       "              1               1               1               1               4 \n",
       "       11232111       112321221          112322         1123221           11233 \n",
       "              1               1               1               1               2 \n",
       "         112331       112331111          112381            1124           11241 \n",
       "              1               1               1               4               1 \n",
       "         112411         1124112        11241212         1124131          112425 \n",
       "              2               1               1               1               1 \n",
       "           1125          112511           11252           11261          112621 \n",
       "              2               2               1               1               1 \n",
       "          11274             113            1131           11311          113111 \n",
       "              1           94326             384              79              24 \n",
       "        1131111        11311111      1131111111    113111111111      1131111311 \n",
       "              6               5               1               1               1 \n",
       "       11311121       113111221         1131113     11311131112          113112 \n",
       "              2               1               1               1              29 \n",
       "     1131121141        11311212         1131122          113113         1131131 \n",
       "              1               1               2              23               1 \n",
       "       11311311       113113111         1131132        11311331        11311411 \n",
       "              1               1               1               1               1 \n",
       "     1131141111         1131153           11312          113121         1131211 \n",
       "              1               1              36               3               1 \n",
       "       11312111       113121114        11312113        11312114         1131214 \n",
       "              2               1               1               1               1 \n",
       "         113122        11312223          113123           11313        11313112 \n",
       "              1               1               1               3               1 \n",
       "         113132           11314           11315            1132           11321 \n",
       "              1               1               1             133              20 \n",
       "         113211         1132111       113211111         1132112       113211211 \n",
       "              8               4               1               1               1 \n",
       "     1132112111         1132113        11321133          113212         1132121 \n",
       "              1               1               1               4               1 \n",
       "        1132122        11321221         1132123         1132132           11322 \n",
       "              1               1               1               1               7 \n",
       "         113221         1132211       113221111       113221121        11322141 \n",
       "              3               1               1               1               1 \n",
       "         113222         1132241          113231          113233           11325 \n",
       "              2               1               1               1               1 \n",
       "           1133           11331          113311      1133121111         1133123 \n",
       "             22               5               2               1               1 \n",
       "         113313          113314           11332          113321         1133211 \n",
       "              1               1               2               1               1 \n",
       "     1133211112           11333         1133312          113333           11334 \n",
       "              1               1               1               1               1 \n",
       "         113341            1134           11341          113411         1134111 \n",
       "              1               9               2               2               1 \n",
       "        1134212          113424           11345            1135           11351 \n",
       "              1               1               1               3               1 \n",
       "       11351113            1136           11362            1137            1138 \n",
       "              1               2               1               2               1 \n",
       "          11382             114            1141           11411          114111 \n",
       "              1             182              27               4               5 \n",
       "        1141111        11411111       114111121       114111222         1141114 \n",
       "              2               1               1               1               1 \n",
       "     1141114111         1141121       114112112         1141132           11412 \n",
       "              1               1               1               2               2 \n",
       "         114121        11412111        11412211         1141242           11413 \n",
       "              1               1               1               1               1 \n",
       "           1142           11421         1142111        11421121         1142121 \n",
       "              5               1               2               1               1 \n",
       "      114222112        11422221          114232         1142411            1143 \n",
       "              1               1               1               1               1 \n",
       "      114311113        11431122         1143114          114424           11451 \n",
       "              1               1               1               1               1 \n",
       "        1146111             115           11511         1151111       115111111 \n",
       "              1               7               2               1               1 \n",
       "     1151111121         1151112           11512         1152214           11531 \n",
       "              1               1               1               1               1 \n",
       "           1155             116         1161113         1161121          116114 \n",
       "              1               1               1               1               1 \n",
       "           1162         1163212            1166             118              12 \n",
       "              1               1               1               1            4826 \n",
       "            121            1211           12111          121111         1211111 \n",
       "            241            1266              62              28               8 \n",
       "       12111111       121111111      1211111111     12111111111  12111111111111 \n",
       "              6               3               2               2               1 \n",
       "   121111111112   1211111111121    121111111113      1211111112       121111112 \n",
       "              1               1               1               1               1 \n",
       "     1211111121     12111111211        12111112       121111121     12111112111 \n",
       "              2               1               1               1               2 \n",
       "      121111131       121111134       121111141         1211112        12111121 \n",
       "              1               1               1               4               1 \n",
       "  1211112111111     12111121112     12111122111    121111221211    121111231111 \n",
       "              1               1               1               1               1 \n",
       "        1211113        12111131         1211115          121112         1211121 \n",
       "              3               1               1               2               1 \n",
       "       12111211  12111211111111       121112131       121112142         1211122 \n",
       "              1               1               1               1               2 \n",
       "       12111221       121112221      1211122222       121112241        12111231 \n",
       "              1               1               1               1               1 \n",
       "      121112312         1211125          121113         1211131       121113111 \n",
       "              1               1               1               2               2 \n",
       "    12111311111      1211131112       121113123          121114           12112 \n",
       "              1               1               1               1              16 \n",
       "         121121         1211211        12112111      1211211111     12112111111 \n",
       "              4               3               3               1               1 \n",
       "   121121111111  12112111111111   1211211111112     12112111121     12112111122 \n",
       "              1               1               1               1               1 \n",
       "      121121113    121121121111   1211211211111       121121132         1211212 \n",
       "              1               1               1               1               2 \n",
       "       12112121        12112124       121121322       121121411          121122 \n",
       "              2               1               1               1               1 \n",
       "        1211221       121122111     12112212121       121122122          121123 \n",
       "              3               1               1               1               2 \n",
       "         121124           12113          121131         1211311        12113111 \n",
       "              1              17               1               3               1 \n",
       "     1211311111     12113112111         1211312        12113121         1211314 \n",
       "              1               1               2               1               1 \n",
       "         121132          121133      1211331111         1211343          121135 \n",
       "              2               1               1               1               1 \n",
       "        1211421     12114211111           12115            1212           12121 \n",
       "              1               1               1             317              12 \n",
       "         121211         1212111        12121111       121211111      1212111111 \n",
       "              3               2               2               1               1 \n",
       "     1212111115       121211112      1212111121        12121112        12121124 \n",
       "              1               2               1               2               1 \n",
       "       12121213       121212211          121213        12121321        12121411 \n",
       "              1               1               1               1               1 \n",
       "          12122          121221         1212211        12122111        12122112 \n",
       "              3               4               1               1               1 \n",
       "      121221131         1212212      1212212221        12122212        12122232 \n",
       "              1               1               1               1               1 \n",
       "       12122312         1212235           12123          121231         1212321 \n",
       "              1               1               1               2               1 \n",
       "           1213           12131          121311         1213111        12131111 \n",
       "             34               5               3               1               1 \n",
       "      121311121        12131114          121312        12131221       121313112 \n",
       "              1               1               1               1               1 \n",
       "          12132          121321        12132121        12132131        12132211 \n",
       "              2               3               1               1               1 \n",
       "      121322221           12133          121331         1213312          121332 \n",
       "              1               1               1               1               1 \n",
       "         121334           12134           12136            1214        12141111 \n",
       "              1               1               1               1               1 \n",
       "     1214111112      1214112111         1214113          121431           12144 \n",
       "              1               1               1               1               1 \n",
       "        1215111           12152         1215231         1216312             122 \n",
       "              1               1               1               1            4045 \n",
       "           1221           12211          122111         1221111        12211111 \n",
       "             41              10               3               6               3 \n",
       "      122111111      1221111111     12211111111    122111111112   1221111111211 \n",
       "              1               1               1               1               1 \n",
       "   122111111211     12211111211     12211112311     12211113111      1221111321 \n",
       "              1               1               1               1               1 \n",
       "       12211121      1221112113        12211122       122111221         1221113 \n",
       "              1               1               1               1               2 \n",
       "      122111412          122112         1221121        12211211      1221121111 \n",
       "              1               2               1               2               1 \n",
       "    12211211221        12211212       122112122      1221122121        12211232 \n",
       "              1               1               1               1               1 \n",
       "         122113         1221131       122113122        12211313        12211321 \n",
       "              1               3               1               1               1 \n",
       "        1221133         1221141         1221151           12212          122121 \n",
       "              1               2               1               3               1 \n",
       "       12212111      1221211111     12212111112       122121212       122121411 \n",
       "              1               1               1               1               1 \n",
       "         122122         1221221       122122212           12213          122131 \n",
       "              5               2               1               3               2 \n",
       "     1221312111       122132211          122134         1221342           12214 \n",
       "              1               1               1               1               1 \n",
       "           1222           12221          122211      1222111111        12221211 \n",
       "             21               2               1               1               1 \n",
       "        1222122          122213         1222135           12222          122221 \n",
       "              2               2               1               2               1 \n",
       "        1222211         1222212         1222213          122222         1222221 \n",
       "              1               1               1               1               1 \n",
       "        1222222           12223         1222311        12223411            1223 \n",
       "              1               4               1               1               4 \n",
       "          12231          122311         1223111         1223112       122311211 \n",
       "              1               1               3               1               1 \n",
       "        1223113       122312211        12232122        12232411            1224 \n",
       "              1               1               1               1               3 \n",
       "          12241          122411            1225             123            1231 \n",
       "              1               2               1             937              22 \n",
       "          12311          123111         1231111        12311112        12311113 \n",
       "              5               5               1               1               1 \n",
       "        1231112          123112        12311223          123113      1231131111 \n",
       "              2               1               1               1               1 \n",
       "       12311312        12311412        12311521           12312         1231231 \n",
       "              1               1               1               4               1 \n",
       "      123123111           12314            1232           12321          123211 \n",
       "              1               1              11               2               4 \n",
       "       12321111       123211111       123211121         1232121        12321211 \n",
       "              1               1               2               1               1 \n",
       "         123213           12322          123221         1232211         1232222 \n",
       "              1               2               3               1               1 \n",
       "          12323            1233           12331          123311         1233211 \n",
       "              1               3               1               1               1 \n",
       "           1234         1234111          123413          123423           12343 \n",
       "              2               1               1               1               1 \n",
       "           1235           12352            1236          123612           12363 \n",
       "              2               1               1               1               1 \n",
       "            124            1241           12411          124111         1241111 \n",
       "             45               1               3               1               1 \n",
       "     1241111131       124112122         1241132            1242         1242114 \n",
       "              1               1               1               3               1 \n",
       "        1242122         1242123           12422          124234           12441 \n",
       "              1               1               2               1               1 \n",
       "         124412             125      1251111121        12711112         1271112 \n",
       "              1               3               1               1               1 \n",
       "          12812             129              13             131            1311 \n",
       "              1               1             502              36              16 \n",
       "          13111          131111         1311111       131111111      1311111111 \n",
       "             11               4               4               1               1 \n",
       "   131111111111    131111112111        13111112      1311111211         1311112 \n",
       "              2               1               2               1               1 \n",
       "       13111121      1311112311         1311113          131112         1311121 \n",
       "              1               1               1               1               2 \n",
       "       13111212       131112121         1311122          131113         1311132 \n",
       "              1               1               1               1               1 \n",
       "         131114           13112          131121        13112111         1311224 \n",
       "              1               7               1               1               1 \n",
       "       13112332           13113        13113111          131132         1311321 \n",
       "              1               2               1               1               2 \n",
       "       13113212       131133111          131142            1312           13121 \n",
       "              1               1               1               3               1 \n",
       "         131211         1312111      1312111312        13121123          131214 \n",
       "              4               1               1               1               1 \n",
       "          13122          131222         1312233           13123           13124 \n",
       "              1               1               1               1               1 \n",
       "           1313         1313122       131331111           13141        13141231 \n",
       "              1               1               1               1               1 \n",
       "       13161211            1317             132            1321           13211 \n",
       "              1               1              16               4               2 \n",
       "         132111        13211111         1321112        13211121     13211211112 \n",
       "              1               1               1               1               1 \n",
       "     1321121131      1321122111         1321131       132113211           13212 \n",
       "              1               1               2               1               3 \n",
       "     1321211112        13212112           13213           13214         1321421 \n",
       "              1               1               1               1               1 \n",
       "        1321423           13221          132211       132211213        13221232 \n",
       "              1               1               1               1               1 \n",
       "        1322124           13222         1322231         1322311           13225 \n",
       "              1               1               1               1               1 \n",
       "     1323111111           13232         1323221        13233112         1323331 \n",
       "              1               2               1               1               1 \n",
       "            133            1331          133111     13311111112         1331112 \n",
       "              7               4               1               1               1 \n",
       "     1331112111        13311122            1332        13321111       133221112 \n",
       "              1               1               1               1               1 \n",
       "        1332231            1333          133311          133312             134 \n",
       "              1               1               1               1               2 \n",
       "           1341           13411         1341141          134211         1342113 \n",
       "              2               1               1               1               1 \n",
       "         135111         1351212           13522            1356            1371 \n",
       "              1               1               1               1               1 \n",
       "             14             141            1411           14111          141111 \n",
       "             27               1               5               3               1 \n",
       "     1411112131           14112        14112111       141121112           14113 \n",
       "              1               2               1               1               2 \n",
       "         141131         1411311          141132         1411321        14113222 \n",
       "              1               1               1               1               1 \n",
       "         141133         1411331            1412        14121132           14132 \n",
       "              1               1               1               1               1 \n",
       "            142            1421       142112112       142114111             143 \n",
       "              3               2               1               1               2 \n",
       "            144          144113           14421              15             151 \n",
       "              3               1               1               6               3 \n",
       "           1511         1511112           15112           15113          152131 \n",
       "              1               1               1               1               1 \n",
       "       15213121           15311            1542           15421              16 \n",
       "              1               1               1               1               4 \n",
       "           1611         1611111         1611112        16111131         1612212 \n",
       "              2               1               1               1               1 \n",
       "        1621111          162221             163              17             171 \n",
       "              1               1               1               2               1 \n",
       "           1711           17111          171111            1712            1721 \n",
       "              1               1               1               1               1 \n",
       "             18             182            1911               2              21 \n",
       "              1               1               1            1319             412 \n",
       "            211            2111           21111          211111         2111111 \n",
       "            195             108              57              21              12 \n",
       "       21111111       211111111      2111111111     21111111111 211111111111111 \n",
       "              5               3               2               5               1 \n",
       "   211111111114    211111111121    211111111212      2111111113      2111111121 \n",
       "              1               1               1               1               1 \n",
       " 21111111211111     21111111212      2111111131        21111112       211111121 \n",
       "              1               1               1               1               1 \n",
       "     2111111211    211111121111   2111111211112       211111122        21111113 \n",
       "              1               1               1               1               1 \n",
       "      211111141       211111171         2111112        21111121       211111211 \n",
       "              1               1               7               3               1 \n",
       "   211111211111     21111121113     21111121211     21111121311     21111121321 \n",
       "              1               1               1               1               1 \n",
       "      211111222       211111223        21111124         2111113       211111311 \n",
       "              1               1               1               2               1 \n",
       "   211111321111        21111133     21111141121         2111115        21111153 \n",
       "              1               1               1               1               1 \n",
       "      211111711          211112         2111121        21111211       211112111 \n",
       "              1               7               2               2               2 \n",
       "     2111121111        21111212      2111121331         2111122        21111221 \n",
       "              1               2               1               3               2 \n",
       "      211112233         2111123      2111123111       211112312          211113 \n",
       "              1               1               1               1               8 \n",
       "       21111311       211113111      2111131112     21111311131       211113112 \n",
       "              1               1               1               1               1 \n",
       "        2111132         2111142       211114212       211115121           21112 \n",
       "              1               1               1               1              20 \n",
       "         211121         2111211        21112111     21112111111      2111211112 \n",
       "              7               4               2               1               2 \n",
       "     2111211113       211121112        21112112     21112112121         2111212 \n",
       "              1               2               3               1               1 \n",
       "     2111212141        21112122      2111212211          211122         2111221 \n",
       "              1               1               1               2               1 \n",
       "       21112211      2111221112       211122123      2111222111        21112222 \n",
       "              2               1               1               1               1 \n",
       "      211122312        21112252       211123221          211125           21113 \n",
       "              1               1               1               1               9 \n",
       "         211131         2111311        21113111      2111311111        21113121 \n",
       "              1               2               1               1               2 \n",
       "         211132         2111321      2111323111         2111331        21113311 \n",
       "              3               1               1               1               1 \n",
       "       21113312         2111352           21114          211141         2111411 \n",
       "              1               1               1               2               2 \n",
       "         211142        21114212       211142131         2111431        21114312 \n",
       "              3               1               1               1               1 \n",
       "       21115211            2112           21121          211211         2112111 \n",
       "              1              50               5               2               2 \n",
       "       21121111       211211111      2112111112        21121112       211211122 \n",
       "              3               3               1               3               1 \n",
       "       21121113      2112111331         2112112        21121121      2112112112 \n",
       "              1               1               1               3               1 \n",
       "      211211311       211211331          211212         2112121     21121211111 \n",
       "              1               1               2               1               1 \n",
       "     2112121411          211213         2112131         2112133           21122 \n",
       "              1               1               1               1               7 \n",
       "         211221         2112211   2112211111111      2112211113        21122112 \n",
       "              1               2               1               1               1 \n",
       "      211221122         2112212        21122121          211222      2112222211 \n",
       "              1               1               1               3               1 \n",
       "        2112231        21122323           21123        21123111      2112311113 \n",
       "              1               1               2               1               1 \n",
       "          21124       211241112          211243         2112442            2113 \n",
       "              1               1               2               1              35 \n",
       "          21131          211311        21131111       211311132      2113112113 \n",
       "             12               3               2               1               1 \n",
       "       21131151          211312         2113121        21131221        21131311 \n",
       "              1               2               1               1               1 \n",
       "          21132          211321         2113211        21132111       211321111 \n",
       "              9               2               1               1               1 \n",
       "      211321112        21132222           21133        21133111        21133112 \n",
       "              1               1               1               1               2 \n",
       "         211333          211341        21134131           21135            2114 \n",
       "              1               1               1               1               4 \n",
       "          21141          211411         2114231           21143        21143221 \n",
       "              1               2               1               1               1 \n",
       "          21146            2115           21151       211511113         2115112 \n",
       "              1               2               1               1               1 \n",
       "        2115211          211631           21172             212            2121 \n",
       "              1               1               1              90              26 \n",
       "          21211          212111         2121111        21211111    212111112112 \n",
       "              5              12               2               2               1 \n",
       "    21211111212        21211112        21211113         2121112        21211121 \n",
       "              1               1               2               2               1 \n",
       "    21211121112        21211122         2121114          212112        21211211 \n",
       "              2               1               1               2               1 \n",
       "   212112111211       212112211         2121123       212112331          212113 \n",
       "              1               1               1               1               3 \n",
       "        2121142        21211423        21211512           21212          212121 \n",
       "              1               1               1               2               1 \n",
       "       21212111      2121211111        21212112       212121122         2121213 \n",
       "              1               1               1               1               1 \n",
       "       21212232        21212314         2121232         2121233        21212331 \n",
       "              1               1               1               1               1 \n",
       "       21212422           21213          212131        21213121       212132111 \n",
       "              1               1               2               1               1 \n",
       "      212132121        21213311         2121341         2121411            2122 \n",
       "              1               1               1               1              11 \n",
       "          21221         2122111      2122111211         2122112       212211211 \n",
       "              1               1               1               3               1 \n",
       "      212212111         2122122        21221311           21222       212221111 \n",
       "              1               1               1               1               1 \n",
       "        2122213        21222211           21223        21223111           21224 \n",
       "              1               1               2               1               1 \n",
       "           2123           21231          212311         2123113          212314 \n",
       "              5               6               2               1               1 \n",
       "          21232          212321         2123211         2123221           21235 \n",
       "              1               1               1               1               1 \n",
       "         212422            2125            2126             213            2131 \n",
       "              1               2               1              73              22 \n",
       "          21311          213111         2131112        21311133          213112 \n",
       "              6               1               2               1               2 \n",
       "        2131121         2131122         2131132        21311331           21312 \n",
       "              3               1               1               1               1 \n",
       "        2131211        21312221          213131          213133           21314 \n",
       "              1               1               1               1               1 \n",
       "          21315            2132         2132111        21321111       213211111 \n",
       "              1               7               1               1               1 \n",
       "       21321112         2132113         2132121           21322       213221131 \n",
       "              1               1               1               2               1 \n",
       "         213222          213232          213241           21331          213311 \n",
       "              1               1               1               1               1 \n",
       "         213321           21341          213413            2135           21351 \n",
       "              1               1               1               1               2 \n",
       "            214            2141          214111         2141121           21415 \n",
       "             13               2               1               1               1 \n",
       "           2142          214211       214211131          214222             215 \n",
       "              2               1               1               1               3 \n",
       "           2151              22             221            2211           22111 \n",
       "              1             208              40              24              14 \n",
       "         221111         2211111        22111111       221111111    221111111112 \n",
       "              5               4               2               1               1 \n",
       "      221111121      2211111211    221111121111       221111133         2211112 \n",
       "              1               1               1               1               1 \n",
       "       22111121       221111311          221112         2211121        22111211 \n",
       "              1               1               3               1               1 \n",
       "      221112111         2211122       221112211         2211124          221113 \n",
       "              1               3               1               1               4 \n",
       "        2211131         2211132        22111321          221119           22112 \n",
       "              2               1               1               1               6 \n",
       "     2211211112        22112131          221122         2211222          221123 \n",
       "              1               1               2               1               1 \n",
       "        2211231     22112311111       221123212           22113        22113111 \n",
       "              1               1               1               7               1 \n",
       "         221132        22113211        22113223        22113412     22114111111 \n",
       "              1               1               1               1               1 \n",
       "         221142            2212          221211        22121111   2212111111111 \n",
       "              2               5               1               3               1 \n",
       "      221211112         2212112        22121121         2212113      2212121111 \n",
       "              1               1               1               1               1 \n",
       "      221212211      2212131112           22122       221221111         2212212 \n",
       "              1               1               2               1               1 \n",
       "       22122122        22122123         2212223          221223          221226 \n",
       "              2               1               1               1               1 \n",
       "     2212311211         2212313       221232112          221252            2213 \n",
       "              1               1               1               1               4 \n",
       "          22131          221311        22131112          221312          221313 \n",
       "              1               3               1               1               1 \n",
       "        2213151           22132         2213311           22134          221352 \n",
       "              1               4               1               2               1 \n",
       "           2214           22141        22141123           22151             222 \n",
       "              3               1               1               1              22 \n",
       "           2221           22211          222111         2221111        22211111 \n",
       "              4               2               2               1               1 \n",
       "     2221111111       222111112     22211111211       222111113      2221111211 \n",
       "              1               1               1               1               1 \n",
       "        2221112        22211131       222111321         2221121        22211211 \n",
       "              2               1               1               1               1 \n",
       "       22211212     22211212111         2221122         2221124          222113 \n",
       "              1               1               1               1               2 \n",
       "     2221131121          222114           22212        22212221          222133 \n",
       "              1               1               1               1               1 \n",
       "       22214111         2221512            2222          222211      2222111111 \n",
       "              1               1               1               2               1 \n",
       "      222211121        22221122         2222113      2222121111        22221232 \n",
       "              1               1               1               1               1 \n",
       "       22222211        22222311           22223         2222311          222233 \n",
       "              1               1               1               1               1 \n",
       "           2223           22231          222311            2224         2224321 \n",
       "              1               1               1               2               1 \n",
       "            223            2231           22311          223111       223111111 \n",
       "             21               3               1               2               1 \n",
       "       22311121        22311131       223111311          223112         2231121 \n",
       "              1               1               1               1               1 \n",
       "        2231133         2231212        22312132         2231221          223123 \n",
       "              1               1               1               1               1 \n",
       "           2232           22321          223223            2233          223311 \n",
       "              6               2               1               1               2 \n",
       "       22331111           22334            2234            2235             224 \n",
       "              1               1               1               1               6 \n",
       "        2241111        22411132         2241312            2242          225321 \n",
       "              1               1               1               1               1 \n",
       "           2261              23             231            2311           23111 \n",
       "              1              32               3               1               3 \n",
       "         231111         2311111       231111111      2311111111        23111112 \n",
       "              1               2               1               1               1 \n",
       "       23111113       231111313       231113311           23112          231121 \n",
       "              1               1               1               1               1 \n",
       "        2311211        23112111      2311211111          231122         2311221 \n",
       "              1               1               1               1               1 \n",
       "        2311222        23112221        23112222          231123          231124 \n",
       "              1               1               1               1               1 \n",
       "          23113          231131         2311311          231133         2311342 \n",
       "              2               1               1               1               1 \n",
       "       23114112           23122          231322             232           23211 \n",
       "              1               1               1               7               3 \n",
       "         232111        23211111      2321111211       232111221         2321131 \n",
       "              1               1               1               1               1 \n",
       "          23212         2321211        23213112        23213311            2322 \n",
       "              1               1               1               1               2 \n",
       "        2322121        23233111            2325            2326          232611 \n",
       "              1               1               1               1               1 \n",
       "            233            2331           23311        23321311         2341111 \n",
       "              3               4               1               1               1 \n",
       "           2343              24             241            2411           24111 \n",
       "              1               9               1               1               4 \n",
       "         241111         2411111      2411111212         2411114         2411121 \n",
       "              2               1               1               1               1 \n",
       "         241113           24112         2411222          241131            2412 \n",
       "              1               1               1               1               2 \n",
       "        2412141           24132             242         2421231         2423111 \n",
       "              1               1               1               1               1 \n",
       "            243          246111              25            2511          251111 \n",
       "              2               1               4               2               1 \n",
       "       25111111           25112          251121           25222          253211 \n",
       "              1               1               1               1               1 \n",
       "            262            2621         2621221           26311          263112 \n",
       "              1               1               1               1               1 \n",
       "          26412              28          281131             286               3 \n",
       "              1               1               1               1             417 \n",
       "             31             311            3111           31111          311111 \n",
       "             88              37              16               8               3 \n",
       "        3111111        31111111       311111111     31111111111   3111111111111 \n",
       "              6               1               1               1               1 \n",
       "     3111111112    311111111211     31111111211     31111111212       311111121 \n",
       "              1               1               1               1               1 \n",
       "        3111112      3111112211       311111412         3111121       311112121 \n",
       "              1               1               1               3               1 \n",
       "      311112211       311112212          311113         3111131         3111132 \n",
       "              1               1               2               1               1 \n",
       "       31111422           31112          311121     31112111212          311122 \n",
       "              1               8               4               1               1 \n",
       "        3111221       311122123          311123         3111233          311131 \n",
       "              1               1               1               1               1 \n",
       "        3111311       311131311          311132          311141          311153 \n",
       "              1               1               1               1               1 \n",
       "           3112           31121          311211         3112111        31121111 \n",
       "              9               3               3               1               1 \n",
       "   311211112111          311212         3112121          311213           31122 \n",
       "              1               1               3               1               2 \n",
       "         311221         3112211        31122211           31123            3113 \n",
       "              1               1               1               1               9 \n",
       "          31131          311312           31132         3113211       311321131 \n",
       "              7               1               3               1               1 \n",
       "         311322           31133           31134            3114           31141 \n",
       "              1               1               1               2               1 \n",
       "         311411         3114122           31142          311521             312 \n",
       "              1               1               1               1               8 \n",
       "           3121           31211          312111        31211112         3121113 \n",
       "              2               5               4               1               1 \n",
       "        3121114          312112      3121131111       312113131           31212 \n",
       "              2               1               1               1               2 \n",
       "        3121212          312122           31213            3122        31221112 \n",
       "              1               2               1               2               1 \n",
       "     3122112121          312212       312212221       312213111           31222 \n",
       "              1               1               1               1               1 \n",
       "          31223           31231       312312111          312321            3124 \n",
       "              1               1               1               1               1 \n",
       "            313        31311111       313111111       313111231         3131121 \n",
       "              1               1               1               1               1 \n",
       "      313113211           31314           31321         3132111             314 \n",
       "              1               1               2               1               2 \n",
       "        3141112             315              32             321            3211 \n",
       "              1               1              30               7               6 \n",
       "          32111          321111         3211111    321111111111   3211111111111 \n",
       "              1               6               2               2               1 \n",
       "     3211111112       321111112        32111113         3211112        32111123 \n",
       "              1               1               1               2               1 \n",
       "         321112         3211122          321113          321115           32112 \n",
       "              2               1               1               1               2 \n",
       "         321121         3211211       321121111          321123        32113111 \n",
       "              1               2               1               3               1 \n",
       "      321131112          321135         3211411            3212          321211 \n",
       "              1               1               1               1               2 \n",
       "        3212112       321212212           32122       321221211          321222 \n",
       "              1               1               1               1               1 \n",
       "       32122212         3212231           32123          321231       321231112 \n",
       "              1               1               1               1               1 \n",
       "         321241            3213          321311        32131212         3213231 \n",
       "              1               1               1               1               1 \n",
       "          32134             322            3221           32211         3221113 \n",
       "              1               4               1               1               1 \n",
       "        3221122        32211312           32212          322211         3222122 \n",
       "              1               1               1               1               1 \n",
       "       32222111          322312           32233             323        32311131 \n",
       "              1               1               1               1               1 \n",
       "         323112          323121           32316         3244111            3252 \n",
       "              1               1               1               1               1 \n",
       "            326             327              33             331            3311 \n",
       "              1               1               9               3               1 \n",
       "        3311111         3311112     33111121111        33111131        33111221 \n",
       "              1               1               1               1               2 \n",
       "        3311132        33111321           33112          331121           33113 \n",
       "              1               1               2               1               1 \n",
       "        3311313         3311431          331151         3312331         3321321 \n",
       "              1               1               1               1               1 \n",
       "         332242             333             334           33422          335211 \n",
       "              1               2               1               1               1 \n",
       "             34            3411           34112           34113         3411411 \n",
       "              7               3               1               1               1 \n",
       "          34115           34211         3421112          342112       342112111 \n",
       "              1               1               1               1               1 \n",
       "         342113         3431113            3441              35         3511122 \n",
       "              1               1               1               4               1 \n",
       "           3524            3541             356              36           36111 \n",
       "              1               1               1               1               2 \n",
       "         362113           36221              37             374            3741 \n",
       "              1               1               1               1               1 \n",
       "          38111           38112           39111               4              41 \n",
       "              1               1               1              90              17 \n",
       "            411            4111           41111          411111         4111111 \n",
       "              9               1               5               1               2 \n",
       "        4111113       411111321          411112         4111122      4111122111 \n",
       "              1               1               1               1               1 \n",
       "        4111124        41111242          411113        41111311        41111312 \n",
       "              1               1               2               1               1 \n",
       "         411121       411122111        41113121          411132        41113311 \n",
       "              1               1               1               1               1 \n",
       "         411135         4111621            4112        41121132         4112114 \n",
       "              1               1               5               1               1 \n",
       "       41122411           41123         4112412            4113           41131 \n",
       "              1               1               1               1               1 \n",
       "         411311        41131131         4113121       411312211           41132 \n",
       "              1               1               1               1               1 \n",
       "        4113211          411323             412     41211111111        41211121 \n",
       "              1               1               2               1               1 \n",
       "       41211131          412113          412121         4121233        41213111 \n",
       "              1               1               1               1               1 \n",
       "           4122         4122111             413           41311         4131211 \n",
       "              1               1               2               1               1 \n",
       "       41312121              42             421           42111         4211112 \n",
       "              1               6               2               2               1 \n",
       "       42111131          421112          421121           42113           42114 \n",
       "              1               1               1               1               1 \n",
       "         421141           42121        42121111            4213          421311 \n",
       "              1               1               1               1               1 \n",
       "         421322             422            4221          422124            4222 \n",
       "              1               1               1               1               2 \n",
       "          42221          422222            4235          424213              43 \n",
       "              1               1               1               1               1 \n",
       "            431       431112112          431121         4312112         4312222 \n",
       "              1               1               1               1               1 \n",
       "         431232         4321111         4321112         4321121         4321211 \n",
       "              1               1               1               1               1 \n",
       "            435           44131            4422          451112         4511122 \n",
       "              1               1               1               1               1 \n",
       "              5              51             511            5111           51111 \n",
       "             24               4               2               1               1 \n",
       "        5111111        51111111         5111122          511113         5111134 \n",
       "              1               1               1               1               1 \n",
       "          51112         5111212          511122          511131            5112 \n",
       "              1               1               1               1               2 \n",
       "        5112112         5112121           51122          511223           51211 \n",
       "              1               1               1               1               1 \n",
       "    51211111111         5121122          512113            5122             513 \n",
       "              1               1               1               1               1 \n",
       "      513121111              52          521111         5211111          521112 \n",
       "              1               5               1               1               1 \n",
       "         521121           52131              53            5311        53111111 \n",
       "              1               1               2               1               1 \n",
       "         531112           54111          541222               6             611 \n",
       "              1               1               1               8               1 \n",
       "         611111            6112           61122           61132              62 \n",
       "              1               1               1               1               2 \n",
       "       62111112         6211112          621113           62133          631123 \n",
       "              1               1               1               1               1 \n",
       "            641           65113               7              71            7111 \n",
       "              1               1               2               1               1 \n",
       "          71111            7112              72          731111          731112 \n",
       "              1               1               1               1               1 \n",
       "             74             742           81111          811211           81124 \n",
       "              1               1               1               1               1 \n",
       "              9 \n",
       "              2 "
      ]
     },
     "metadata": {},
     "output_type": "display_data"
    }
   ],
   "source": [
    "table(siwim_data$Axle_groups)"
   ]
  },
  {
   "cell_type": "markdown",
   "metadata": {},
   "source": [
    "### AFD pour les subclasses"
   ]
  },
  {
   "cell_type": "code",
   "execution_count": 7,
   "metadata": {},
   "outputs": [
    {
     "data": {
      "text/html": [
       "<table>\n",
       "<thead><tr><th></th><th scope=col>Vitesse</th><th scope=col>MGV</th><th scope=col>M1</th><th scope=col>M2</th><th scope=col>M3</th><th scope=col>M4</th><th scope=col>M5</th><th scope=col>M6</th><th scope=col>M7</th><th scope=col>M8</th><th scope=col>...</th><th scope=col>A7</th><th scope=col>A8</th><th scope=col>A9</th><th scope=col>A10</th><th scope=col>A11</th><th scope=col>A12</th><th scope=col>A13</th><th scope=col>A14</th><th scope=col>A15</th><th scope=col>T</th></tr></thead>\n",
       "<tbody>\n",
       "\t<tr><th scope=row>Vitesse</th><td>133.63497758 </td><td>-77.13778617 </td><td>-2.890781932 </td><td>-21.30736059 </td><td>-13.753397341</td><td>-17.562422827</td><td>-1.909839e+01</td><td>-7.392874679 </td><td>-4.904971710 </td><td>-0.926568318 </td><td>...          </td><td> 2.6902620132</td><td> 4.33561857  </td><td> 4.267474903 </td><td> 3.562322e+00</td><td> 3.2994421709</td><td> 3.45699777  </td><td> 3.013144819 </td><td> 3.121321594 </td><td> 5.922892779 </td><td>-10.2631325  </td></tr>\n",
       "\t<tr><th scope=row>MGV</th><td>-77.13778617 </td><td>153.33914323 </td><td>16.268600159 </td><td> 43.96941621 </td><td> 23.253886534</td><td> 27.725983415</td><td> 3.128029e+01</td><td>27.510720889 </td><td>19.090521344 </td><td> 9.134828695 </td><td>...          </td><td>-0.0695813566</td><td>-1.93757177  </td><td>-1.625242870 </td><td>-7.611338e-02</td><td>-0.1152181677</td><td>-0.94657382  </td><td>-0.515392932 </td><td>-0.478638194 </td><td>-1.170112775 </td><td> 20.8997520  </td></tr>\n",
       "\t<tr><th scope=row>M1</th><td> -2.89078193 </td><td> 16.26860016 </td><td> 4.182147395 </td><td>  5.33694293 </td><td>  2.108263646</td><td>  1.695790190</td><td> 2.230571e+00</td><td> 3.402954376 </td><td> 2.005464556 </td><td> 0.718855144 </td><td>...          </td><td>-0.0062256328</td><td>-0.15522155  </td><td>-0.115210895 </td><td> 2.235922e-02</td><td> 0.0064881554</td><td>-0.06500763  </td><td>-0.022065655 </td><td>-0.027509349 </td><td>-0.072149462 </td><td>  5.1208973  </td></tr>\n",
       "\t<tr><th scope=row>M2</th><td>-21.30736059 </td><td> 43.96941621 </td><td> 5.336942926 </td><td> 15.49312088 </td><td>  6.186210528</td><td>  7.814200443</td><td> 8.783374e+00</td><td> 4.602771163 </td><td> 3.058678208 </td><td> 1.163732793 </td><td>...          </td><td> 0.0425491795</td><td>-0.31347649  </td><td>-0.233216651 </td><td>-1.277613e-02</td><td> 0.0117179654</td><td>-0.08986169  </td><td>-0.039514929 </td><td>-0.055609724 </td><td>-0.033507929 </td><td>  8.4747000  </td></tr>\n",
       "\t<tr><th scope=row>M3</th><td>-13.75339734 </td><td> 23.25388653 </td><td> 2.108263646 </td><td>  6.18621053 </td><td>  5.776258303</td><td>  4.795516097</td><td> 5.886103e+00</td><td> 5.385506013 </td><td> 2.492944531 </td><td> 0.965688695 </td><td>...          </td><td>-0.0841160812</td><td>-0.17439687  </td><td>-0.105187271 </td><td>-1.651957e-02</td><td> 0.0343542544</td><td>-0.09272881  </td><td>-0.006726855 </td><td>-0.044088537 </td><td>-0.095340233 </td><td>  0.8399011  </td></tr>\n",
       "\t<tr><th scope=row>M4</th><td>-17.56242283 </td><td> 27.72598342 </td><td> 1.695790190 </td><td>  7.81420044 </td><td>  4.795516097</td><td>  7.765990132</td><td> 6.555386e+00</td><td> 3.969222026 </td><td> 2.910274444 </td><td> 1.075298627 </td><td>...          </td><td>-0.0197760944</td><td>-0.26071197  </td><td>-0.179501693 </td><td>-9.568478e-03</td><td>-0.0087251451</td><td>-0.06597794  </td><td>-0.018638190 </td><td>-0.047744879 </td><td>-0.071166451 </td><td>  4.3594418  </td></tr>\n",
       "\t<tr><th scope=row>M5</th><td>-19.09839320 </td><td> 31.28029479 </td><td> 2.230570998 </td><td>  8.78337350 </td><td>  5.886102815</td><td>  6.555385555</td><td> 7.810790e+00</td><td> 4.214308232 </td><td> 2.340443517 </td><td> 0.998916360 </td><td>...          </td><td>-0.0412540203</td><td>-0.24508496  </td><td>-0.195169206 </td><td>-6.462019e-06</td><td> 0.0330046823</td><td>-0.05366584  </td><td>-0.045996082 </td><td>-0.038098212 </td><td>-0.011792590 </td><td>  2.9731456  </td></tr>\n",
       "\t<tr><th scope=row>M6</th><td> -7.39287468 </td><td> 27.51072089 </td><td> 3.402954376 </td><td>  4.60277116 </td><td>  5.385506013</td><td>  3.969222026</td><td> 4.214308e+00</td><td> 4.558019956 </td><td> 2.040166902 </td><td> 0.828760383 </td><td>...          </td><td>-0.0698970812</td><td>-0.15197982  </td><td>-0.101544495 </td><td>-1.972404e-02</td><td>-0.0044456342</td><td>-0.03472304  </td><td>-0.022492286 </td><td>-0.021202020 </td><td>-0.029850000 </td><td>  5.1315117  </td></tr>\n",
       "\t<tr><th scope=row>M7</th><td> -4.90497171 </td><td> 19.09052134 </td><td> 2.005464556 </td><td>  3.05867821 </td><td>  2.492944531</td><td>  2.910274444</td><td> 2.340444e+00</td><td> 2.040166902 </td><td> 2.676860117 </td><td> 0.994107287 </td><td>...          </td><td> 0.0996032176</td><td>-0.27700961  </td><td>-0.189064470 </td><td> 1.026971e-02</td><td> 0.0062505768</td><td>-0.06704301  </td><td>-0.016817589 </td><td>-0.015184065 </td><td>-0.115952327 </td><td>  2.6789021  </td></tr>\n",
       "\t<tr><th scope=row>M8</th><td> -0.92656832 </td><td>  9.13482869 </td><td> 0.718855144 </td><td>  1.16373279 </td><td>  0.965688695</td><td>  1.075298627</td><td> 9.989164e-01</td><td> 0.828760383 </td><td> 0.994107287 </td><td> 1.032044512 </td><td>...          </td><td>-0.0252100085</td><td>-0.09738474  </td><td>-0.121499599 </td><td>-2.876956e-02</td><td>-0.0109287912</td><td>-0.07229975  </td><td>-0.009266551 </td><td> 0.001436466 </td><td>-0.141504583 </td><td> -0.8386471  </td></tr>\n",
       "\t<tr><th scope=row>M9</th><td> -1.28066216 </td><td> 10.35761383 </td><td> 0.737791051 </td><td>  1.28136424 </td><td>  0.917159884</td><td>  1.175632416</td><td> 1.033671e+00</td><td> 0.759893495 </td><td> 1.185826609 </td><td> 0.859096910 </td><td>...          </td><td> 0.1033664474</td><td>-0.18918998  </td><td>-0.106775594 </td><td>-1.126636e-03</td><td>-0.0332685005</td><td>-0.03772075  </td><td>-0.046379389 </td><td>-0.039544104 </td><td>-0.105130590 </td><td> -0.2335651  </td></tr>\n",
       "\t<tr><th scope=row>M10</th><td> -0.68626083 </td><td>  8.36251398 </td><td> 0.574973991 </td><td>  0.97075369 </td><td>  0.729652565</td><td>  0.873214451</td><td> 8.006394e-01</td><td> 0.579182447 </td><td> 0.841442387 </td><td> 0.600432571 </td><td>...          </td><td>-0.0052524936</td><td>-0.09147421  </td><td>-0.155965330 </td><td> 3.892117e-02</td><td>-0.0167990691</td><td>-0.05415623  </td><td>-0.066984251 </td><td>-0.050052485 </td><td>-0.025100323 </td><td>  0.7565039  </td></tr>\n",
       "\t<tr><th scope=row>M11</th><td>  0.28912796 </td><td>  4.11043700 </td><td> 0.213442809 </td><td>  0.34632396 </td><td>  0.330158768</td><td>  0.325439875</td><td> 2.851681e-01</td><td> 0.258607348 </td><td> 0.291806163 </td><td> 0.329458468 </td><td>...          </td><td>-0.0258915107</td><td> 0.03576041  </td><td>-0.067251607 </td><td>-1.140387e-03</td><td>-0.0128357214</td><td>-0.08010274  </td><td>-0.068197609 </td><td>-0.017345685 </td><td>-0.083363798 </td><td>  0.3189090  </td></tr>\n",
       "\t<tr><th scope=row>M12</th><td>  0.43480756 </td><td>  2.39431902 </td><td> 0.096359825 </td><td>  0.11496696 </td><td>  0.135361418</td><td>  0.175074309</td><td> 1.532859e-01</td><td> 0.131039772 </td><td> 0.156741063 </td><td> 0.179789934 </td><td>...          </td><td>-0.0181837178</td><td> 0.02189041  </td><td>-0.015244880 </td><td>-3.416186e-02</td><td>-0.0108963438</td><td>-0.02097185  </td><td>-0.029629404 </td><td>-0.031250234 </td><td>-0.048061961 </td><td>  0.1065245  </td></tr>\n",
       "\t<tr><th scope=row>M13</th><td>  0.53068448 </td><td>  2.18785162 </td><td> 0.093749567 </td><td>  0.11086099 </td><td>  0.128924143</td><td>  0.155647612</td><td> 1.349951e-01</td><td> 0.126054682 </td><td> 0.164311825 </td><td> 0.164342461 </td><td>...          </td><td> 0.0197240442</td><td>-0.01338980  </td><td>-0.003769493 </td><td>-1.128359e-02</td><td>-0.0305967056</td><td>-0.05058312  </td><td>-0.003140880 </td><td>-0.041280828 </td><td>-0.027061717 </td><td> -0.7319586  </td></tr>\n",
       "\t<tr><th scope=row>M14</th><td>  0.16461356 </td><td>  2.80348559 </td><td> 0.110044752 </td><td>  0.10264911 </td><td>  0.182790233</td><td>  0.187347522</td><td> 1.575885e-01</td><td> 0.152667813 </td><td> 0.191094130 </td><td> 0.230788696 </td><td>...          </td><td>-0.0070727309</td><td>-0.02758727  </td><td>-0.076796367 </td><td>-1.149133e-02</td><td>-0.0736598593</td><td>-0.09804896  </td><td>-0.035692890 </td><td>-0.010873885 </td><td>-0.154196027 </td><td> -0.8038976  </td></tr>\n",
       "\t<tr><th scope=row>M15</th><td>  0.02335283 </td><td>  2.62708551 </td><td> 0.087732038 </td><td>  0.09744604 </td><td>  0.164147860</td><td>  0.157263791</td><td> 1.376997e-01</td><td> 0.130452879 </td><td> 0.166563867 </td><td> 0.190078235 </td><td>...          </td><td>-0.0112292674</td><td>-0.01908747  </td><td>-0.071183755 </td><td> 2.982342e-02</td><td>-0.0524766001</td><td>-0.12206087  </td><td>-0.077298073 </td><td>-0.010640621 </td><td>-0.045793307 </td><td> -0.5703507  </td></tr>\n",
       "\t<tr><th scope=row>M16</th><td>  0.05938236 </td><td>  4.22536782 </td><td> 0.116871821 </td><td>  0.09979700 </td><td>  0.254078265</td><td>  0.259685299</td><td> 2.144662e-01</td><td> 0.211816392 </td><td> 0.270057548 </td><td> 0.332276529 </td><td>...          </td><td>-0.0865342400</td><td>-0.03393743  </td><td>-0.089006978 </td><td>-5.933162e-02</td><td>-0.1219510728</td><td>-0.15029281  </td><td>-0.135547392 </td><td>-0.071312494 </td><td>-0.110142759 </td><td> -1.0026261  </td></tr>\n",
       "\t<tr><th scope=row>total_axle_dist</th><td> -4.86961072 </td><td>  8.91450771 </td><td>-0.313367474 </td><td>  0.82683346 </td><td> -2.711866818</td><td> -3.940375428</td><td>-4.697977e+00</td><td>-9.960466511 </td><td>-5.438067052 </td><td>-1.085333962 </td><td>...          </td><td> 6.5740250200</td><td> 6.85744611  </td><td> 6.161890492 </td><td> 6.370026e+00</td><td> 6.8374603466</td><td> 7.13659603  </td><td> 7.721193420 </td><td> 8.184565978 </td><td> 9.080564287 </td><td> -5.9841111  </td></tr>\n",
       "\t<tr><th scope=row>A1</th><td>  1.41620335 </td><td> -0.32103167 </td><td> 0.509291234 </td><td>  0.45854398 </td><td> -0.037145551</td><td> -0.102760661</td><td>-7.569687e-02</td><td>-0.222726866 </td><td> 0.035882845 </td><td> 0.078983876 </td><td>...          </td><td> 0.0829130759</td><td> 0.10920954  </td><td> 0.029267037 </td><td> 8.819083e-02</td><td>-0.2178480150</td><td> 0.01429709  </td><td> 0.206072962 </td><td> 0.213604605 </td><td> 0.481653043 </td><td> -0.1138817  </td></tr>\n",
       "\t<tr><th scope=row>A2</th><td>  2.02079186 </td><td>  0.11597366 </td><td> 0.040330500 </td><td>  0.87599537 </td><td> -0.454576462</td><td> -0.009474619</td><td>-1.934539e-01</td><td>-1.079317955 </td><td>-0.184290712 </td><td> 0.099474653 </td><td>...          </td><td> 0.2997660699</td><td> 0.17858707  </td><td>-0.365976496 </td><td> 5.244723e-02</td><td>-0.0368662511</td><td>-0.02017230  </td><td>-0.159550452 </td><td>-0.245759761 </td><td> 0.177367480 </td><td> -0.3603457  </td></tr>\n",
       "\t<tr><th scope=row>A3</th><td>  0.89164696 </td><td> -2.81417154 </td><td>-0.407160491 </td><td> -1.30758100 </td><td> -0.245127691</td><td> -0.827360015</td><td>-4.699156e-01</td><td> 0.732660158 </td><td>-0.451931035 </td><td>-0.136980636 </td><td>...          </td><td>-0.2697729182</td><td> 0.40763646  </td><td> 0.042425305 </td><td> 3.538484e-02</td><td> 0.1455441282</td><td> 0.29636771  </td><td>-0.091984894 </td><td> 0.243070092 </td><td> 0.285077443 </td><td> -1.3186877  </td></tr>\n",
       "\t<tr><th scope=row>A4</th><td>  0.92937070 </td><td> -3.28780573 </td><td>-0.597020468 </td><td> -1.16036574 </td><td> -0.388570173</td><td> -0.647793540</td><td>-7.050888e-01</td><td>-0.695888263 </td><td>-0.280193374 </td><td>-0.069776242 </td><td>...          </td><td> 0.1779968157</td><td> 0.18241565  </td><td> 0.120541620 </td><td>-4.681630e-02</td><td> 0.0050343713</td><td> 0.15848775  </td><td> 0.349119946 </td><td> 0.284370129 </td><td>-0.471248449 </td><td> -1.2559879  </td></tr>\n",
       "\t<tr><th scope=row>A5</th><td>  1.48453303 </td><td> -7.19252362 </td><td>-1.327476445 </td><td> -1.45314914 </td><td> -1.887523931</td><td> -0.886759187</td><td>-1.025980e+00</td><td>-1.383766324 </td><td> 0.204835403 </td><td> 0.333450817 </td><td>...          </td><td> 0.7098265369</td><td>-0.09836295  </td><td>-0.177960673 </td><td>-1.005065e-01</td><td> 0.0636896921</td><td> 0.06561236  </td><td>-0.040322909 </td><td> 0.241293668 </td><td> 0.293324066 </td><td> -3.8863259  </td></tr>\n",
       "\t<tr><th scope=row>A6</th><td>  3.55269977 </td><td> -5.29282925 </td><td>-0.961944175 </td><td> -1.12210030 </td><td> -0.838234055</td><td> -1.047727760</td><td>-5.386301e-01</td><td>-0.424049612 </td><td>-0.569414835 </td><td> 0.014868216 </td><td>...          </td><td>-0.3414883424</td><td> 0.50182007  </td><td> 0.119923193 </td><td>-6.507494e-02</td><td> 0.0059745301</td><td> 0.04884106  </td><td> 0.193797547 </td><td> 0.095244140 </td><td> 0.627665229 </td><td> -5.7932457  </td></tr>\n",
       "\t<tr><th scope=row>A7</th><td>  2.69026201 </td><td> -0.06958136 </td><td>-0.006225633 </td><td>  0.04254918 </td><td> -0.084116081</td><td> -0.019776094</td><td>-4.125402e-02</td><td>-0.069897081 </td><td> 0.099603218 </td><td>-0.025210008 </td><td>...          </td><td> 6.5227418772</td><td>-0.42947002  </td><td> 0.422474789 </td><td> 2.503477e-01</td><td> 0.0006817228</td><td> 0.12308474  </td><td>-0.017679636 </td><td> 0.470690592 </td><td> 0.761161230 </td><td> -0.4779673  </td></tr>\n",
       "\t<tr><th scope=row>A8</th><td>  4.33561857 </td><td> -1.93757177 </td><td>-0.155221553 </td><td> -0.31347649 </td><td> -0.174396871</td><td> -0.260711967</td><td>-2.450850e-01</td><td>-0.151979819 </td><td>-0.277009605 </td><td>-0.097384744 </td><td>...          </td><td>-0.4294700226</td><td> 6.22323637  </td><td>-0.239784596 </td><td> 5.856346e-01</td><td> 0.2115884511</td><td>-0.22857670  </td><td> 0.712746832 </td><td> 0.100274412 </td><td> 0.515689291 </td><td>  0.9087778  </td></tr>\n",
       "\t<tr><th scope=row>A9</th><td>  4.26747490 </td><td> -1.62524287 </td><td>-0.115210895 </td><td> -0.23321665 </td><td> -0.105187271</td><td> -0.179501693</td><td>-1.951692e-01</td><td>-0.101544495 </td><td>-0.189064470 </td><td>-0.121499599 </td><td>...          </td><td> 0.4224747891</td><td>-0.23978460  </td><td> 6.320587101 </td><td>-1.672287e-01</td><td> 0.6970828775</td><td> 0.25063010  </td><td>-0.144546422 </td><td> 0.132870447 </td><td> 0.008450951 </td><td> -2.7611573  </td></tr>\n",
       "\t<tr><th scope=row>A10</th><td>  3.56232195 </td><td> -0.07611338 </td><td> 0.022359218 </td><td> -0.01277613 </td><td> -0.016519567</td><td> -0.009568478</td><td>-6.462019e-06</td><td>-0.019724041 </td><td> 0.010269707 </td><td>-0.028769560 </td><td>...          </td><td> 0.2503477013</td><td> 0.58563455  </td><td>-0.167228728 </td><td> 6.224010e+00</td><td>-0.1266253043</td><td> 0.47285427  </td><td> 0.302916855 </td><td> 0.053866866 </td><td>-0.257181132 </td><td> -1.5227080  </td></tr>\n",
       "\t<tr><th scope=row>A11</th><td>  3.29944217 </td><td> -0.11521817 </td><td> 0.006488155 </td><td>  0.01171797 </td><td>  0.034354254</td><td> -0.008725145</td><td> 3.300468e-02</td><td>-0.004445634 </td><td> 0.006250577 </td><td>-0.010928791 </td><td>...          </td><td> 0.0006817228</td><td> 0.21158845  </td><td> 0.697082877 </td><td>-1.266253e-01</td><td> 6.4027750061</td><td>-0.21354809  </td><td> 0.378657836 </td><td> 0.286067242 </td><td> 0.109725416 </td><td> -0.3151029  </td></tr>\n",
       "\t<tr><th scope=row>A12</th><td>  3.45699777 </td><td> -0.94657382 </td><td>-0.065007626 </td><td> -0.08986169 </td><td> -0.092728807</td><td> -0.065977935</td><td>-5.366584e-02</td><td>-0.034723041 </td><td>-0.067043015 </td><td>-0.072299748 </td><td>...          </td><td> 0.1230847422</td><td>-0.22857670  </td><td> 0.250630100 </td><td> 4.728543e-01</td><td>-0.2135480920</td><td> 6.57275297  </td><td>-0.248140103 </td><td>-0.044684147 </td><td> 0.558571043 </td><td>  2.3973531  </td></tr>\n",
       "\t<tr><th scope=row>A13</th><td>  3.01314482 </td><td> -0.51539293 </td><td>-0.022065655 </td><td> -0.03951493 </td><td> -0.006726855</td><td> -0.018638190</td><td>-4.599608e-02</td><td>-0.022492286 </td><td>-0.016817589 </td><td>-0.009266551 </td><td>...          </td><td>-0.0176796365</td><td> 0.71274683  </td><td>-0.144546422 </td><td> 3.029169e-01</td><td> 0.3786578362</td><td>-0.24814010  </td><td> 6.081265315 </td><td> 0.098239460 </td><td>-0.204090905 </td><td>  0.7441267  </td></tr>\n",
       "\t<tr><th scope=row>A14</th><td>  3.12132159 </td><td> -0.47863819 </td><td>-0.027509349 </td><td> -0.05560972 </td><td> -0.044088537</td><td> -0.047744879</td><td>-3.809821e-02</td><td>-0.021202020 </td><td>-0.015184065 </td><td> 0.001436466 </td><td>...          </td><td> 0.4706905915</td><td> 0.10027441  </td><td> 0.132870447 </td><td> 5.386687e-02</td><td> 0.2860672415</td><td>-0.04468415  </td><td> 0.098239460 </td><td> 6.447930013 </td><td>-0.590958217 </td><td> -6.7370219  </td></tr>\n",
       "\t<tr><th scope=row>A15</th><td>  5.92289278 </td><td> -1.17011278 </td><td>-0.072149462 </td><td> -0.03350793 </td><td> -0.095340233</td><td> -0.071166451</td><td>-1.179259e-02</td><td>-0.029850000 </td><td>-0.115952327 </td><td>-0.141504583 </td><td>...          </td><td> 0.7611612296</td><td> 0.51568929  </td><td> 0.008450951 </td><td>-2.571811e-01</td><td> 0.1097254163</td><td> 0.55857104  </td><td>-0.204090905 </td><td>-0.590958217 </td><td> 6.785360174 </td><td> -0.2988696  </td></tr>\n",
       "\t<tr><th scope=row>T</th><td>-10.26313250 </td><td> 20.89975201 </td><td> 5.120897280 </td><td>  8.47470001 </td><td>  0.839901104</td><td>  4.359441783</td><td> 2.973146e+00</td><td> 5.131511653 </td><td> 2.678902074 </td><td>-0.838647087 </td><td>...          </td><td>-0.4779672872</td><td> 0.90877784  </td><td>-2.761157335 </td><td>-1.522708e+00</td><td>-0.3151029396</td><td> 2.39735313  </td><td> 0.744126744 </td><td>-6.737021923 </td><td>-0.298869631 </td><td>983.8346715  </td></tr>\n",
       "</tbody>\n",
       "</table>\n"
      ],
      "text/latex": [
       "\\begin{tabular}{r|lllllllllllllllllllllllllllllllllll}\n",
       "  & Vitesse & MGV & M1 & M2 & M3 & M4 & M5 & M6 & M7 & M8 & ... & A7 & A8 & A9 & A10 & A11 & A12 & A13 & A14 & A15 & T\\\\\n",
       "\\hline\n",
       "\tVitesse & 133.63497758  & -77.13778617  & -2.890781932  & -21.30736059  & -13.753397341 & -17.562422827 & -1.909839e+01 & -7.392874679  & -4.904971710  & -0.926568318  & ...           &  2.6902620132 &  4.33561857   &  4.267474903  &  3.562322e+00 &  3.2994421709 &  3.45699777   &  3.013144819  &  3.121321594  &  5.922892779  & -10.2631325  \\\\\n",
       "\tMGV & -77.13778617  & 153.33914323  & 16.268600159  &  43.96941621  &  23.253886534 &  27.725983415 &  3.128029e+01 & 27.510720889  & 19.090521344  &  9.134828695  & ...           & -0.0695813566 & -1.93757177   & -1.625242870  & -7.611338e-02 & -0.1152181677 & -0.94657382   & -0.515392932  & -0.478638194  & -1.170112775  &  20.8997520  \\\\\n",
       "\tM1 &  -2.89078193  &  16.26860016  &  4.182147395  &   5.33694293  &   2.108263646 &   1.695790190 &  2.230571e+00 &  3.402954376  &  2.005464556  &  0.718855144  & ...           & -0.0062256328 & -0.15522155   & -0.115210895  &  2.235922e-02 &  0.0064881554 & -0.06500763   & -0.022065655  & -0.027509349  & -0.072149462  &   5.1208973  \\\\\n",
       "\tM2 & -21.30736059  &  43.96941621  &  5.336942926  &  15.49312088  &   6.186210528 &   7.814200443 &  8.783374e+00 &  4.602771163  &  3.058678208  &  1.163732793  & ...           &  0.0425491795 & -0.31347649   & -0.233216651  & -1.277613e-02 &  0.0117179654 & -0.08986169   & -0.039514929  & -0.055609724  & -0.033507929  &   8.4747000  \\\\\n",
       "\tM3 & -13.75339734  &  23.25388653  &  2.108263646  &   6.18621053  &   5.776258303 &   4.795516097 &  5.886103e+00 &  5.385506013  &  2.492944531  &  0.965688695  & ...           & -0.0841160812 & -0.17439687   & -0.105187271  & -1.651957e-02 &  0.0343542544 & -0.09272881   & -0.006726855  & -0.044088537  & -0.095340233  &   0.8399011  \\\\\n",
       "\tM4 & -17.56242283  &  27.72598342  &  1.695790190  &   7.81420044  &   4.795516097 &   7.765990132 &  6.555386e+00 &  3.969222026  &  2.910274444  &  1.075298627  & ...           & -0.0197760944 & -0.26071197   & -0.179501693  & -9.568478e-03 & -0.0087251451 & -0.06597794   & -0.018638190  & -0.047744879  & -0.071166451  &   4.3594418  \\\\\n",
       "\tM5 & -19.09839320  &  31.28029479  &  2.230570998  &   8.78337350  &   5.886102815 &   6.555385555 &  7.810790e+00 &  4.214308232  &  2.340443517  &  0.998916360  & ...           & -0.0412540203 & -0.24508496   & -0.195169206  & -6.462019e-06 &  0.0330046823 & -0.05366584   & -0.045996082  & -0.038098212  & -0.011792590  &   2.9731456  \\\\\n",
       "\tM6 &  -7.39287468  &  27.51072089  &  3.402954376  &   4.60277116  &   5.385506013 &   3.969222026 &  4.214308e+00 &  4.558019956  &  2.040166902  &  0.828760383  & ...           & -0.0698970812 & -0.15197982   & -0.101544495  & -1.972404e-02 & -0.0044456342 & -0.03472304   & -0.022492286  & -0.021202020  & -0.029850000  &   5.1315117  \\\\\n",
       "\tM7 &  -4.90497171  &  19.09052134  &  2.005464556  &   3.05867821  &   2.492944531 &   2.910274444 &  2.340444e+00 &  2.040166902  &  2.676860117  &  0.994107287  & ...           &  0.0996032176 & -0.27700961   & -0.189064470  &  1.026971e-02 &  0.0062505768 & -0.06704301   & -0.016817589  & -0.015184065  & -0.115952327  &   2.6789021  \\\\\n",
       "\tM8 &  -0.92656832  &   9.13482869  &  0.718855144  &   1.16373279  &   0.965688695 &   1.075298627 &  9.989164e-01 &  0.828760383  &  0.994107287  &  1.032044512  & ...           & -0.0252100085 & -0.09738474   & -0.121499599  & -2.876956e-02 & -0.0109287912 & -0.07229975   & -0.009266551  &  0.001436466  & -0.141504583  &  -0.8386471  \\\\\n",
       "\tM9 &  -1.28066216  &  10.35761383  &  0.737791051  &   1.28136424  &   0.917159884 &   1.175632416 &  1.033671e+00 &  0.759893495  &  1.185826609  &  0.859096910  & ...           &  0.1033664474 & -0.18918998   & -0.106775594  & -1.126636e-03 & -0.0332685005 & -0.03772075   & -0.046379389  & -0.039544104  & -0.105130590  &  -0.2335651  \\\\\n",
       "\tM10 &  -0.68626083  &   8.36251398  &  0.574973991  &   0.97075369  &   0.729652565 &   0.873214451 &  8.006394e-01 &  0.579182447  &  0.841442387  &  0.600432571  & ...           & -0.0052524936 & -0.09147421   & -0.155965330  &  3.892117e-02 & -0.0167990691 & -0.05415623   & -0.066984251  & -0.050052485  & -0.025100323  &   0.7565039  \\\\\n",
       "\tM11 &   0.28912796  &   4.11043700  &  0.213442809  &   0.34632396  &   0.330158768 &   0.325439875 &  2.851681e-01 &  0.258607348  &  0.291806163  &  0.329458468  & ...           & -0.0258915107 &  0.03576041   & -0.067251607  & -1.140387e-03 & -0.0128357214 & -0.08010274   & -0.068197609  & -0.017345685  & -0.083363798  &   0.3189090  \\\\\n",
       "\tM12 &   0.43480756  &   2.39431902  &  0.096359825  &   0.11496696  &   0.135361418 &   0.175074309 &  1.532859e-01 &  0.131039772  &  0.156741063  &  0.179789934  & ...           & -0.0181837178 &  0.02189041   & -0.015244880  & -3.416186e-02 & -0.0108963438 & -0.02097185   & -0.029629404  & -0.031250234  & -0.048061961  &   0.1065245  \\\\\n",
       "\tM13 &   0.53068448  &   2.18785162  &  0.093749567  &   0.11086099  &   0.128924143 &   0.155647612 &  1.349951e-01 &  0.126054682  &  0.164311825  &  0.164342461  & ...           &  0.0197240442 & -0.01338980   & -0.003769493  & -1.128359e-02 & -0.0305967056 & -0.05058312   & -0.003140880  & -0.041280828  & -0.027061717  &  -0.7319586  \\\\\n",
       "\tM14 &   0.16461356  &   2.80348559  &  0.110044752  &   0.10264911  &   0.182790233 &   0.187347522 &  1.575885e-01 &  0.152667813  &  0.191094130  &  0.230788696  & ...           & -0.0070727309 & -0.02758727   & -0.076796367  & -1.149133e-02 & -0.0736598593 & -0.09804896   & -0.035692890  & -0.010873885  & -0.154196027  &  -0.8038976  \\\\\n",
       "\tM15 &   0.02335283  &   2.62708551  &  0.087732038  &   0.09744604  &   0.164147860 &   0.157263791 &  1.376997e-01 &  0.130452879  &  0.166563867  &  0.190078235  & ...           & -0.0112292674 & -0.01908747   & -0.071183755  &  2.982342e-02 & -0.0524766001 & -0.12206087   & -0.077298073  & -0.010640621  & -0.045793307  &  -0.5703507  \\\\\n",
       "\tM16 &   0.05938236  &   4.22536782  &  0.116871821  &   0.09979700  &   0.254078265 &   0.259685299 &  2.144662e-01 &  0.211816392  &  0.270057548  &  0.332276529  & ...           & -0.0865342400 & -0.03393743   & -0.089006978  & -5.933162e-02 & -0.1219510728 & -0.15029281   & -0.135547392  & -0.071312494  & -0.110142759  &  -1.0026261  \\\\\n",
       "\ttotal\\_axle\\_dist &  -4.86961072  &   8.91450771  & -0.313367474  &   0.82683346  &  -2.711866818 &  -3.940375428 & -4.697977e+00 & -9.960466511  & -5.438067052  & -1.085333962  & ...           &  6.5740250200 &  6.85744611   &  6.161890492  &  6.370026e+00 &  6.8374603466 &  7.13659603   &  7.721193420  &  8.184565978  &  9.080564287  &  -5.9841111  \\\\\n",
       "\tA1 &   1.41620335  &  -0.32103167  &  0.509291234  &   0.45854398  &  -0.037145551 &  -0.102760661 & -7.569687e-02 & -0.222726866  &  0.035882845  &  0.078983876  & ...           &  0.0829130759 &  0.10920954   &  0.029267037  &  8.819083e-02 & -0.2178480150 &  0.01429709   &  0.206072962  &  0.213604605  &  0.481653043  &  -0.1138817  \\\\\n",
       "\tA2 &   2.02079186  &   0.11597366  &  0.040330500  &   0.87599537  &  -0.454576462 &  -0.009474619 & -1.934539e-01 & -1.079317955  & -0.184290712  &  0.099474653  & ...           &  0.2997660699 &  0.17858707   & -0.365976496  &  5.244723e-02 & -0.0368662511 & -0.02017230   & -0.159550452  & -0.245759761  &  0.177367480  &  -0.3603457  \\\\\n",
       "\tA3 &   0.89164696  &  -2.81417154  & -0.407160491  &  -1.30758100  &  -0.245127691 &  -0.827360015 & -4.699156e-01 &  0.732660158  & -0.451931035  & -0.136980636  & ...           & -0.2697729182 &  0.40763646   &  0.042425305  &  3.538484e-02 &  0.1455441282 &  0.29636771   & -0.091984894  &  0.243070092  &  0.285077443  &  -1.3186877  \\\\\n",
       "\tA4 &   0.92937070  &  -3.28780573  & -0.597020468  &  -1.16036574  &  -0.388570173 &  -0.647793540 & -7.050888e-01 & -0.695888263  & -0.280193374  & -0.069776242  & ...           &  0.1779968157 &  0.18241565   &  0.120541620  & -4.681630e-02 &  0.0050343713 &  0.15848775   &  0.349119946  &  0.284370129  & -0.471248449  &  -1.2559879  \\\\\n",
       "\tA5 &   1.48453303  &  -7.19252362  & -1.327476445  &  -1.45314914  &  -1.887523931 &  -0.886759187 & -1.025980e+00 & -1.383766324  &  0.204835403  &  0.333450817  & ...           &  0.7098265369 & -0.09836295   & -0.177960673  & -1.005065e-01 &  0.0636896921 &  0.06561236   & -0.040322909  &  0.241293668  &  0.293324066  &  -3.8863259  \\\\\n",
       "\tA6 &   3.55269977  &  -5.29282925  & -0.961944175  &  -1.12210030  &  -0.838234055 &  -1.047727760 & -5.386301e-01 & -0.424049612  & -0.569414835  &  0.014868216  & ...           & -0.3414883424 &  0.50182007   &  0.119923193  & -6.507494e-02 &  0.0059745301 &  0.04884106   &  0.193797547  &  0.095244140  &  0.627665229  &  -5.7932457  \\\\\n",
       "\tA7 &   2.69026201  &  -0.06958136  & -0.006225633  &   0.04254918  &  -0.084116081 &  -0.019776094 & -4.125402e-02 & -0.069897081  &  0.099603218  & -0.025210008  & ...           &  6.5227418772 & -0.42947002   &  0.422474789  &  2.503477e-01 &  0.0006817228 &  0.12308474   & -0.017679636  &  0.470690592  &  0.761161230  &  -0.4779673  \\\\\n",
       "\tA8 &   4.33561857  &  -1.93757177  & -0.155221553  &  -0.31347649  &  -0.174396871 &  -0.260711967 & -2.450850e-01 & -0.151979819  & -0.277009605  & -0.097384744  & ...           & -0.4294700226 &  6.22323637   & -0.239784596  &  5.856346e-01 &  0.2115884511 & -0.22857670   &  0.712746832  &  0.100274412  &  0.515689291  &   0.9087778  \\\\\n",
       "\tA9 &   4.26747490  &  -1.62524287  & -0.115210895  &  -0.23321665  &  -0.105187271 &  -0.179501693 & -1.951692e-01 & -0.101544495  & -0.189064470  & -0.121499599  & ...           &  0.4224747891 & -0.23978460   &  6.320587101  & -1.672287e-01 &  0.6970828775 &  0.25063010   & -0.144546422  &  0.132870447  &  0.008450951  &  -2.7611573  \\\\\n",
       "\tA10 &   3.56232195  &  -0.07611338  &  0.022359218  &  -0.01277613  &  -0.016519567 &  -0.009568478 & -6.462019e-06 & -0.019724041  &  0.010269707  & -0.028769560  & ...           &  0.2503477013 &  0.58563455   & -0.167228728  &  6.224010e+00 & -0.1266253043 &  0.47285427   &  0.302916855  &  0.053866866  & -0.257181132  &  -1.5227080  \\\\\n",
       "\tA11 &   3.29944217  &  -0.11521817  &  0.006488155  &   0.01171797  &   0.034354254 &  -0.008725145 &  3.300468e-02 & -0.004445634  &  0.006250577  & -0.010928791  & ...           &  0.0006817228 &  0.21158845   &  0.697082877  & -1.266253e-01 &  6.4027750061 & -0.21354809   &  0.378657836  &  0.286067242  &  0.109725416  &  -0.3151029  \\\\\n",
       "\tA12 &   3.45699777  &  -0.94657382  & -0.065007626  &  -0.08986169  &  -0.092728807 &  -0.065977935 & -5.366584e-02 & -0.034723041  & -0.067043015  & -0.072299748  & ...           &  0.1230847422 & -0.22857670   &  0.250630100  &  4.728543e-01 & -0.2135480920 &  6.57275297   & -0.248140103  & -0.044684147  &  0.558571043  &   2.3973531  \\\\\n",
       "\tA13 &   3.01314482  &  -0.51539293  & -0.022065655  &  -0.03951493  &  -0.006726855 &  -0.018638190 & -4.599608e-02 & -0.022492286  & -0.016817589  & -0.009266551  & ...           & -0.0176796365 &  0.71274683   & -0.144546422  &  3.029169e-01 &  0.3786578362 & -0.24814010   &  6.081265315  &  0.098239460  & -0.204090905  &   0.7441267  \\\\\n",
       "\tA14 &   3.12132159  &  -0.47863819  & -0.027509349  &  -0.05560972  &  -0.044088537 &  -0.047744879 & -3.809821e-02 & -0.021202020  & -0.015184065  &  0.001436466  & ...           &  0.4706905915 &  0.10027441   &  0.132870447  &  5.386687e-02 &  0.2860672415 & -0.04468415   &  0.098239460  &  6.447930013  & -0.590958217  &  -6.7370219  \\\\\n",
       "\tA15 &   5.92289278  &  -1.17011278  & -0.072149462  &  -0.03350793  &  -0.095340233 &  -0.071166451 & -1.179259e-02 & -0.029850000  & -0.115952327  & -0.141504583  & ...           &  0.7611612296 &  0.51568929   &  0.008450951  & -2.571811e-01 &  0.1097254163 &  0.55857104   & -0.204090905  & -0.590958217  &  6.785360174  &  -0.2988696  \\\\\n",
       "\tT & -10.26313250  &  20.89975201  &  5.120897280  &   8.47470001  &   0.839901104 &   4.359441783 &  2.973146e+00 &  5.131511653  &  2.678902074  & -0.838647087  & ...           & -0.4779672872 &  0.90877784   & -2.761157335  & -1.522708e+00 & -0.3151029396 &  2.39735313   &  0.744126744  & -6.737021923  & -0.298869631  & 983.8346715  \\\\\n",
       "\\end{tabular}\n"
      ],
      "text/markdown": [
       "\n",
       "| <!--/--> | Vitesse | MGV | M1 | M2 | M3 | M4 | M5 | M6 | M7 | M8 | ... | A7 | A8 | A9 | A10 | A11 | A12 | A13 | A14 | A15 | T | \n",
       "|---|---|---|---|---|---|---|---|---|---|---|---|---|---|---|---|---|---|---|---|---|---|---|---|---|---|---|---|---|---|---|---|---|---|---|\n",
       "| Vitesse | 133.63497758  | -77.13778617  | -2.890781932  | -21.30736059  | -13.753397341 | -17.562422827 | -1.909839e+01 | -7.392874679  | -4.904971710  | -0.926568318  | ...           |  2.6902620132 |  4.33561857   |  4.267474903  |  3.562322e+00 |  3.2994421709 |  3.45699777   |  3.013144819  |  3.121321594  |  5.922892779  | -10.2631325   | \n",
       "| MGV | -77.13778617  | 153.33914323  | 16.268600159  |  43.96941621  |  23.253886534 |  27.725983415 |  3.128029e+01 | 27.510720889  | 19.090521344  |  9.134828695  | ...           | -0.0695813566 | -1.93757177   | -1.625242870  | -7.611338e-02 | -0.1152181677 | -0.94657382   | -0.515392932  | -0.478638194  | -1.170112775  |  20.8997520   | \n",
       "| M1 |  -2.89078193  |  16.26860016  |  4.182147395  |   5.33694293  |   2.108263646 |   1.695790190 |  2.230571e+00 |  3.402954376  |  2.005464556  |  0.718855144  | ...           | -0.0062256328 | -0.15522155   | -0.115210895  |  2.235922e-02 |  0.0064881554 | -0.06500763   | -0.022065655  | -0.027509349  | -0.072149462  |   5.1208973   | \n",
       "| M2 | -21.30736059  |  43.96941621  |  5.336942926  |  15.49312088  |   6.186210528 |   7.814200443 |  8.783374e+00 |  4.602771163  |  3.058678208  |  1.163732793  | ...           |  0.0425491795 | -0.31347649   | -0.233216651  | -1.277613e-02 |  0.0117179654 | -0.08986169   | -0.039514929  | -0.055609724  | -0.033507929  |   8.4747000   | \n",
       "| M3 | -13.75339734  |  23.25388653  |  2.108263646  |   6.18621053  |   5.776258303 |   4.795516097 |  5.886103e+00 |  5.385506013  |  2.492944531  |  0.965688695  | ...           | -0.0841160812 | -0.17439687   | -0.105187271  | -1.651957e-02 |  0.0343542544 | -0.09272881   | -0.006726855  | -0.044088537  | -0.095340233  |   0.8399011   | \n",
       "| M4 | -17.56242283  |  27.72598342  |  1.695790190  |   7.81420044  |   4.795516097 |   7.765990132 |  6.555386e+00 |  3.969222026  |  2.910274444  |  1.075298627  | ...           | -0.0197760944 | -0.26071197   | -0.179501693  | -9.568478e-03 | -0.0087251451 | -0.06597794   | -0.018638190  | -0.047744879  | -0.071166451  |   4.3594418   | \n",
       "| M5 | -19.09839320  |  31.28029479  |  2.230570998  |   8.78337350  |   5.886102815 |   6.555385555 |  7.810790e+00 |  4.214308232  |  2.340443517  |  0.998916360  | ...           | -0.0412540203 | -0.24508496   | -0.195169206  | -6.462019e-06 |  0.0330046823 | -0.05366584   | -0.045996082  | -0.038098212  | -0.011792590  |   2.9731456   | \n",
       "| M6 |  -7.39287468  |  27.51072089  |  3.402954376  |   4.60277116  |   5.385506013 |   3.969222026 |  4.214308e+00 |  4.558019956  |  2.040166902  |  0.828760383  | ...           | -0.0698970812 | -0.15197982   | -0.101544495  | -1.972404e-02 | -0.0044456342 | -0.03472304   | -0.022492286  | -0.021202020  | -0.029850000  |   5.1315117   | \n",
       "| M7 |  -4.90497171  |  19.09052134  |  2.005464556  |   3.05867821  |   2.492944531 |   2.910274444 |  2.340444e+00 |  2.040166902  |  2.676860117  |  0.994107287  | ...           |  0.0996032176 | -0.27700961   | -0.189064470  |  1.026971e-02 |  0.0062505768 | -0.06704301   | -0.016817589  | -0.015184065  | -0.115952327  |   2.6789021   | \n",
       "| M8 |  -0.92656832  |   9.13482869  |  0.718855144  |   1.16373279  |   0.965688695 |   1.075298627 |  9.989164e-01 |  0.828760383  |  0.994107287  |  1.032044512  | ...           | -0.0252100085 | -0.09738474   | -0.121499599  | -2.876956e-02 | -0.0109287912 | -0.07229975   | -0.009266551  |  0.001436466  | -0.141504583  |  -0.8386471   | \n",
       "| M9 |  -1.28066216  |  10.35761383  |  0.737791051  |   1.28136424  |   0.917159884 |   1.175632416 |  1.033671e+00 |  0.759893495  |  1.185826609  |  0.859096910  | ...           |  0.1033664474 | -0.18918998   | -0.106775594  | -1.126636e-03 | -0.0332685005 | -0.03772075   | -0.046379389  | -0.039544104  | -0.105130590  |  -0.2335651   | \n",
       "| M10 |  -0.68626083  |   8.36251398  |  0.574973991  |   0.97075369  |   0.729652565 |   0.873214451 |  8.006394e-01 |  0.579182447  |  0.841442387  |  0.600432571  | ...           | -0.0052524936 | -0.09147421   | -0.155965330  |  3.892117e-02 | -0.0167990691 | -0.05415623   | -0.066984251  | -0.050052485  | -0.025100323  |   0.7565039   | \n",
       "| M11 |   0.28912796  |   4.11043700  |  0.213442809  |   0.34632396  |   0.330158768 |   0.325439875 |  2.851681e-01 |  0.258607348  |  0.291806163  |  0.329458468  | ...           | -0.0258915107 |  0.03576041   | -0.067251607  | -1.140387e-03 | -0.0128357214 | -0.08010274   | -0.068197609  | -0.017345685  | -0.083363798  |   0.3189090   | \n",
       "| M12 |   0.43480756  |   2.39431902  |  0.096359825  |   0.11496696  |   0.135361418 |   0.175074309 |  1.532859e-01 |  0.131039772  |  0.156741063  |  0.179789934  | ...           | -0.0181837178 |  0.02189041   | -0.015244880  | -3.416186e-02 | -0.0108963438 | -0.02097185   | -0.029629404  | -0.031250234  | -0.048061961  |   0.1065245   | \n",
       "| M13 |   0.53068448  |   2.18785162  |  0.093749567  |   0.11086099  |   0.128924143 |   0.155647612 |  1.349951e-01 |  0.126054682  |  0.164311825  |  0.164342461  | ...           |  0.0197240442 | -0.01338980   | -0.003769493  | -1.128359e-02 | -0.0305967056 | -0.05058312   | -0.003140880  | -0.041280828  | -0.027061717  |  -0.7319586   | \n",
       "| M14 |   0.16461356  |   2.80348559  |  0.110044752  |   0.10264911  |   0.182790233 |   0.187347522 |  1.575885e-01 |  0.152667813  |  0.191094130  |  0.230788696  | ...           | -0.0070727309 | -0.02758727   | -0.076796367  | -1.149133e-02 | -0.0736598593 | -0.09804896   | -0.035692890  | -0.010873885  | -0.154196027  |  -0.8038976   | \n",
       "| M15 |   0.02335283  |   2.62708551  |  0.087732038  |   0.09744604  |   0.164147860 |   0.157263791 |  1.376997e-01 |  0.130452879  |  0.166563867  |  0.190078235  | ...           | -0.0112292674 | -0.01908747   | -0.071183755  |  2.982342e-02 | -0.0524766001 | -0.12206087   | -0.077298073  | -0.010640621  | -0.045793307  |  -0.5703507   | \n",
       "| M16 |   0.05938236  |   4.22536782  |  0.116871821  |   0.09979700  |   0.254078265 |   0.259685299 |  2.144662e-01 |  0.211816392  |  0.270057548  |  0.332276529  | ...           | -0.0865342400 | -0.03393743   | -0.089006978  | -5.933162e-02 | -0.1219510728 | -0.15029281   | -0.135547392  | -0.071312494  | -0.110142759  |  -1.0026261   | \n",
       "| total_axle_dist |  -4.86961072  |   8.91450771  | -0.313367474  |   0.82683346  |  -2.711866818 |  -3.940375428 | -4.697977e+00 | -9.960466511  | -5.438067052  | -1.085333962  | ...           |  6.5740250200 |  6.85744611   |  6.161890492  |  6.370026e+00 |  6.8374603466 |  7.13659603   |  7.721193420  |  8.184565978  |  9.080564287  |  -5.9841111   | \n",
       "| A1 |   1.41620335  |  -0.32103167  |  0.509291234  |   0.45854398  |  -0.037145551 |  -0.102760661 | -7.569687e-02 | -0.222726866  |  0.035882845  |  0.078983876  | ...           |  0.0829130759 |  0.10920954   |  0.029267037  |  8.819083e-02 | -0.2178480150 |  0.01429709   |  0.206072962  |  0.213604605  |  0.481653043  |  -0.1138817   | \n",
       "| A2 |   2.02079186  |   0.11597366  |  0.040330500  |   0.87599537  |  -0.454576462 |  -0.009474619 | -1.934539e-01 | -1.079317955  | -0.184290712  |  0.099474653  | ...           |  0.2997660699 |  0.17858707   | -0.365976496  |  5.244723e-02 | -0.0368662511 | -0.02017230   | -0.159550452  | -0.245759761  |  0.177367480  |  -0.3603457   | \n",
       "| A3 |   0.89164696  |  -2.81417154  | -0.407160491  |  -1.30758100  |  -0.245127691 |  -0.827360015 | -4.699156e-01 |  0.732660158  | -0.451931035  | -0.136980636  | ...           | -0.2697729182 |  0.40763646   |  0.042425305  |  3.538484e-02 |  0.1455441282 |  0.29636771   | -0.091984894  |  0.243070092  |  0.285077443  |  -1.3186877   | \n",
       "| A4 |   0.92937070  |  -3.28780573  | -0.597020468  |  -1.16036574  |  -0.388570173 |  -0.647793540 | -7.050888e-01 | -0.695888263  | -0.280193374  | -0.069776242  | ...           |  0.1779968157 |  0.18241565   |  0.120541620  | -4.681630e-02 |  0.0050343713 |  0.15848775   |  0.349119946  |  0.284370129  | -0.471248449  |  -1.2559879   | \n",
       "| A5 |   1.48453303  |  -7.19252362  | -1.327476445  |  -1.45314914  |  -1.887523931 |  -0.886759187 | -1.025980e+00 | -1.383766324  |  0.204835403  |  0.333450817  | ...           |  0.7098265369 | -0.09836295   | -0.177960673  | -1.005065e-01 |  0.0636896921 |  0.06561236   | -0.040322909  |  0.241293668  |  0.293324066  |  -3.8863259   | \n",
       "| A6 |   3.55269977  |  -5.29282925  | -0.961944175  |  -1.12210030  |  -0.838234055 |  -1.047727760 | -5.386301e-01 | -0.424049612  | -0.569414835  |  0.014868216  | ...           | -0.3414883424 |  0.50182007   |  0.119923193  | -6.507494e-02 |  0.0059745301 |  0.04884106   |  0.193797547  |  0.095244140  |  0.627665229  |  -5.7932457   | \n",
       "| A7 |   2.69026201  |  -0.06958136  | -0.006225633  |   0.04254918  |  -0.084116081 |  -0.019776094 | -4.125402e-02 | -0.069897081  |  0.099603218  | -0.025210008  | ...           |  6.5227418772 | -0.42947002   |  0.422474789  |  2.503477e-01 |  0.0006817228 |  0.12308474   | -0.017679636  |  0.470690592  |  0.761161230  |  -0.4779673   | \n",
       "| A8 |   4.33561857  |  -1.93757177  | -0.155221553  |  -0.31347649  |  -0.174396871 |  -0.260711967 | -2.450850e-01 | -0.151979819  | -0.277009605  | -0.097384744  | ...           | -0.4294700226 |  6.22323637   | -0.239784596  |  5.856346e-01 |  0.2115884511 | -0.22857670   |  0.712746832  |  0.100274412  |  0.515689291  |   0.9087778   | \n",
       "| A9 |   4.26747490  |  -1.62524287  | -0.115210895  |  -0.23321665  |  -0.105187271 |  -0.179501693 | -1.951692e-01 | -0.101544495  | -0.189064470  | -0.121499599  | ...           |  0.4224747891 | -0.23978460   |  6.320587101  | -1.672287e-01 |  0.6970828775 |  0.25063010   | -0.144546422  |  0.132870447  |  0.008450951  |  -2.7611573   | \n",
       "| A10 |   3.56232195  |  -0.07611338  |  0.022359218  |  -0.01277613  |  -0.016519567 |  -0.009568478 | -6.462019e-06 | -0.019724041  |  0.010269707  | -0.028769560  | ...           |  0.2503477013 |  0.58563455   | -0.167228728  |  6.224010e+00 | -0.1266253043 |  0.47285427   |  0.302916855  |  0.053866866  | -0.257181132  |  -1.5227080   | \n",
       "| A11 |   3.29944217  |  -0.11521817  |  0.006488155  |   0.01171797  |   0.034354254 |  -0.008725145 |  3.300468e-02 | -0.004445634  |  0.006250577  | -0.010928791  | ...           |  0.0006817228 |  0.21158845   |  0.697082877  | -1.266253e-01 |  6.4027750061 | -0.21354809   |  0.378657836  |  0.286067242  |  0.109725416  |  -0.3151029   | \n",
       "| A12 |   3.45699777  |  -0.94657382  | -0.065007626  |  -0.08986169  |  -0.092728807 |  -0.065977935 | -5.366584e-02 | -0.034723041  | -0.067043015  | -0.072299748  | ...           |  0.1230847422 | -0.22857670   |  0.250630100  |  4.728543e-01 | -0.2135480920 |  6.57275297   | -0.248140103  | -0.044684147  |  0.558571043  |   2.3973531   | \n",
       "| A13 |   3.01314482  |  -0.51539293  | -0.022065655  |  -0.03951493  |  -0.006726855 |  -0.018638190 | -4.599608e-02 | -0.022492286  | -0.016817589  | -0.009266551  | ...           | -0.0176796365 |  0.71274683   | -0.144546422  |  3.029169e-01 |  0.3786578362 | -0.24814010   |  6.081265315  |  0.098239460  | -0.204090905  |   0.7441267   | \n",
       "| A14 |   3.12132159  |  -0.47863819  | -0.027509349  |  -0.05560972  |  -0.044088537 |  -0.047744879 | -3.809821e-02 | -0.021202020  | -0.015184065  |  0.001436466  | ...           |  0.4706905915 |  0.10027441   |  0.132870447  |  5.386687e-02 |  0.2860672415 | -0.04468415   |  0.098239460  |  6.447930013  | -0.590958217  |  -6.7370219   | \n",
       "| A15 |   5.92289278  |  -1.17011278  | -0.072149462  |  -0.03350793  |  -0.095340233 |  -0.071166451 | -1.179259e-02 | -0.029850000  | -0.115952327  | -0.141504583  | ...           |  0.7611612296 |  0.51568929   |  0.008450951  | -2.571811e-01 |  0.1097254163 |  0.55857104   | -0.204090905  | -0.590958217  |  6.785360174  |  -0.2988696   | \n",
       "| T | -10.26313250  |  20.89975201  |  5.120897280  |   8.47470001  |   0.839901104 |   4.359441783 |  2.973146e+00 |  5.131511653  |  2.678902074  | -0.838647087  | ...           | -0.4779672872 |  0.90877784   | -2.761157335  | -1.522708e+00 | -0.3151029396 |  2.39735313   |  0.744126744  | -6.737021923  | -0.298869631  | 983.8346715   | \n",
       "\n",
       "\n"
      ],
      "text/plain": [
       "                Vitesse      MGV          M1           M2          \n",
       "Vitesse         133.63497758 -77.13778617 -2.890781932 -21.30736059\n",
       "MGV             -77.13778617 153.33914323 16.268600159  43.96941621\n",
       "M1               -2.89078193  16.26860016  4.182147395   5.33694293\n",
       "M2              -21.30736059  43.96941621  5.336942926  15.49312088\n",
       "M3              -13.75339734  23.25388653  2.108263646   6.18621053\n",
       "M4              -17.56242283  27.72598342  1.695790190   7.81420044\n",
       "M5              -19.09839320  31.28029479  2.230570998   8.78337350\n",
       "M6               -7.39287468  27.51072089  3.402954376   4.60277116\n",
       "M7               -4.90497171  19.09052134  2.005464556   3.05867821\n",
       "M8               -0.92656832   9.13482869  0.718855144   1.16373279\n",
       "M9               -1.28066216  10.35761383  0.737791051   1.28136424\n",
       "M10              -0.68626083   8.36251398  0.574973991   0.97075369\n",
       "M11               0.28912796   4.11043700  0.213442809   0.34632396\n",
       "M12               0.43480756   2.39431902  0.096359825   0.11496696\n",
       "M13               0.53068448   2.18785162  0.093749567   0.11086099\n",
       "M14               0.16461356   2.80348559  0.110044752   0.10264911\n",
       "M15               0.02335283   2.62708551  0.087732038   0.09744604\n",
       "M16               0.05938236   4.22536782  0.116871821   0.09979700\n",
       "total_axle_dist  -4.86961072   8.91450771 -0.313367474   0.82683346\n",
       "A1                1.41620335  -0.32103167  0.509291234   0.45854398\n",
       "A2                2.02079186   0.11597366  0.040330500   0.87599537\n",
       "A3                0.89164696  -2.81417154 -0.407160491  -1.30758100\n",
       "A4                0.92937070  -3.28780573 -0.597020468  -1.16036574\n",
       "A5                1.48453303  -7.19252362 -1.327476445  -1.45314914\n",
       "A6                3.55269977  -5.29282925 -0.961944175  -1.12210030\n",
       "A7                2.69026201  -0.06958136 -0.006225633   0.04254918\n",
       "A8                4.33561857  -1.93757177 -0.155221553  -0.31347649\n",
       "A9                4.26747490  -1.62524287 -0.115210895  -0.23321665\n",
       "A10               3.56232195  -0.07611338  0.022359218  -0.01277613\n",
       "A11               3.29944217  -0.11521817  0.006488155   0.01171797\n",
       "A12               3.45699777  -0.94657382 -0.065007626  -0.08986169\n",
       "A13               3.01314482  -0.51539293 -0.022065655  -0.03951493\n",
       "A14               3.12132159  -0.47863819 -0.027509349  -0.05560972\n",
       "A15               5.92289278  -1.17011278 -0.072149462  -0.03350793\n",
       "T               -10.26313250  20.89975201  5.120897280   8.47470001\n",
       "                M3            M4            M5            M6          \n",
       "Vitesse         -13.753397341 -17.562422827 -1.909839e+01 -7.392874679\n",
       "MGV              23.253886534  27.725983415  3.128029e+01 27.510720889\n",
       "M1                2.108263646   1.695790190  2.230571e+00  3.402954376\n",
       "M2                6.186210528   7.814200443  8.783374e+00  4.602771163\n",
       "M3                5.776258303   4.795516097  5.886103e+00  5.385506013\n",
       "M4                4.795516097   7.765990132  6.555386e+00  3.969222026\n",
       "M5                5.886102815   6.555385555  7.810790e+00  4.214308232\n",
       "M6                5.385506013   3.969222026  4.214308e+00  4.558019956\n",
       "M7                2.492944531   2.910274444  2.340444e+00  2.040166902\n",
       "M8                0.965688695   1.075298627  9.989164e-01  0.828760383\n",
       "M9                0.917159884   1.175632416  1.033671e+00  0.759893495\n",
       "M10               0.729652565   0.873214451  8.006394e-01  0.579182447\n",
       "M11               0.330158768   0.325439875  2.851681e-01  0.258607348\n",
       "M12               0.135361418   0.175074309  1.532859e-01  0.131039772\n",
       "M13               0.128924143   0.155647612  1.349951e-01  0.126054682\n",
       "M14               0.182790233   0.187347522  1.575885e-01  0.152667813\n",
       "M15               0.164147860   0.157263791  1.376997e-01  0.130452879\n",
       "M16               0.254078265   0.259685299  2.144662e-01  0.211816392\n",
       "total_axle_dist  -2.711866818  -3.940375428 -4.697977e+00 -9.960466511\n",
       "A1               -0.037145551  -0.102760661 -7.569687e-02 -0.222726866\n",
       "A2               -0.454576462  -0.009474619 -1.934539e-01 -1.079317955\n",
       "A3               -0.245127691  -0.827360015 -4.699156e-01  0.732660158\n",
       "A4               -0.388570173  -0.647793540 -7.050888e-01 -0.695888263\n",
       "A5               -1.887523931  -0.886759187 -1.025980e+00 -1.383766324\n",
       "A6               -0.838234055  -1.047727760 -5.386301e-01 -0.424049612\n",
       "A7               -0.084116081  -0.019776094 -4.125402e-02 -0.069897081\n",
       "A8               -0.174396871  -0.260711967 -2.450850e-01 -0.151979819\n",
       "A9               -0.105187271  -0.179501693 -1.951692e-01 -0.101544495\n",
       "A10              -0.016519567  -0.009568478 -6.462019e-06 -0.019724041\n",
       "A11               0.034354254  -0.008725145  3.300468e-02 -0.004445634\n",
       "A12              -0.092728807  -0.065977935 -5.366584e-02 -0.034723041\n",
       "A13              -0.006726855  -0.018638190 -4.599608e-02 -0.022492286\n",
       "A14              -0.044088537  -0.047744879 -3.809821e-02 -0.021202020\n",
       "A15              -0.095340233  -0.071166451 -1.179259e-02 -0.029850000\n",
       "T                 0.839901104   4.359441783  2.973146e+00  5.131511653\n",
       "                M7           M8           ... A7            A8         \n",
       "Vitesse         -4.904971710 -0.926568318 ...  2.6902620132  4.33561857\n",
       "MGV             19.090521344  9.134828695 ... -0.0695813566 -1.93757177\n",
       "M1               2.005464556  0.718855144 ... -0.0062256328 -0.15522155\n",
       "M2               3.058678208  1.163732793 ...  0.0425491795 -0.31347649\n",
       "M3               2.492944531  0.965688695 ... -0.0841160812 -0.17439687\n",
       "M4               2.910274444  1.075298627 ... -0.0197760944 -0.26071197\n",
       "M5               2.340443517  0.998916360 ... -0.0412540203 -0.24508496\n",
       "M6               2.040166902  0.828760383 ... -0.0698970812 -0.15197982\n",
       "M7               2.676860117  0.994107287 ...  0.0996032176 -0.27700961\n",
       "M8               0.994107287  1.032044512 ... -0.0252100085 -0.09738474\n",
       "M9               1.185826609  0.859096910 ...  0.1033664474 -0.18918998\n",
       "M10              0.841442387  0.600432571 ... -0.0052524936 -0.09147421\n",
       "M11              0.291806163  0.329458468 ... -0.0258915107  0.03576041\n",
       "M12              0.156741063  0.179789934 ... -0.0181837178  0.02189041\n",
       "M13              0.164311825  0.164342461 ...  0.0197240442 -0.01338980\n",
       "M14              0.191094130  0.230788696 ... -0.0070727309 -0.02758727\n",
       "M15              0.166563867  0.190078235 ... -0.0112292674 -0.01908747\n",
       "M16              0.270057548  0.332276529 ... -0.0865342400 -0.03393743\n",
       "total_axle_dist -5.438067052 -1.085333962 ...  6.5740250200  6.85744611\n",
       "A1               0.035882845  0.078983876 ...  0.0829130759  0.10920954\n",
       "A2              -0.184290712  0.099474653 ...  0.2997660699  0.17858707\n",
       "A3              -0.451931035 -0.136980636 ... -0.2697729182  0.40763646\n",
       "A4              -0.280193374 -0.069776242 ...  0.1779968157  0.18241565\n",
       "A5               0.204835403  0.333450817 ...  0.7098265369 -0.09836295\n",
       "A6              -0.569414835  0.014868216 ... -0.3414883424  0.50182007\n",
       "A7               0.099603218 -0.025210008 ...  6.5227418772 -0.42947002\n",
       "A8              -0.277009605 -0.097384744 ... -0.4294700226  6.22323637\n",
       "A9              -0.189064470 -0.121499599 ...  0.4224747891 -0.23978460\n",
       "A10              0.010269707 -0.028769560 ...  0.2503477013  0.58563455\n",
       "A11              0.006250577 -0.010928791 ...  0.0006817228  0.21158845\n",
       "A12             -0.067043015 -0.072299748 ...  0.1230847422 -0.22857670\n",
       "A13             -0.016817589 -0.009266551 ... -0.0176796365  0.71274683\n",
       "A14             -0.015184065  0.001436466 ...  0.4706905915  0.10027441\n",
       "A15             -0.115952327 -0.141504583 ...  0.7611612296  0.51568929\n",
       "T                2.678902074 -0.838647087 ... -0.4779672872  0.90877784\n",
       "                A9           A10           A11           A12        \n",
       "Vitesse          4.267474903  3.562322e+00  3.2994421709  3.45699777\n",
       "MGV             -1.625242870 -7.611338e-02 -0.1152181677 -0.94657382\n",
       "M1              -0.115210895  2.235922e-02  0.0064881554 -0.06500763\n",
       "M2              -0.233216651 -1.277613e-02  0.0117179654 -0.08986169\n",
       "M3              -0.105187271 -1.651957e-02  0.0343542544 -0.09272881\n",
       "M4              -0.179501693 -9.568478e-03 -0.0087251451 -0.06597794\n",
       "M5              -0.195169206 -6.462019e-06  0.0330046823 -0.05366584\n",
       "M6              -0.101544495 -1.972404e-02 -0.0044456342 -0.03472304\n",
       "M7              -0.189064470  1.026971e-02  0.0062505768 -0.06704301\n",
       "M8              -0.121499599 -2.876956e-02 -0.0109287912 -0.07229975\n",
       "M9              -0.106775594 -1.126636e-03 -0.0332685005 -0.03772075\n",
       "M10             -0.155965330  3.892117e-02 -0.0167990691 -0.05415623\n",
       "M11             -0.067251607 -1.140387e-03 -0.0128357214 -0.08010274\n",
       "M12             -0.015244880 -3.416186e-02 -0.0108963438 -0.02097185\n",
       "M13             -0.003769493 -1.128359e-02 -0.0305967056 -0.05058312\n",
       "M14             -0.076796367 -1.149133e-02 -0.0736598593 -0.09804896\n",
       "M15             -0.071183755  2.982342e-02 -0.0524766001 -0.12206087\n",
       "M16             -0.089006978 -5.933162e-02 -0.1219510728 -0.15029281\n",
       "total_axle_dist  6.161890492  6.370026e+00  6.8374603466  7.13659603\n",
       "A1               0.029267037  8.819083e-02 -0.2178480150  0.01429709\n",
       "A2              -0.365976496  5.244723e-02 -0.0368662511 -0.02017230\n",
       "A3               0.042425305  3.538484e-02  0.1455441282  0.29636771\n",
       "A4               0.120541620 -4.681630e-02  0.0050343713  0.15848775\n",
       "A5              -0.177960673 -1.005065e-01  0.0636896921  0.06561236\n",
       "A6               0.119923193 -6.507494e-02  0.0059745301  0.04884106\n",
       "A7               0.422474789  2.503477e-01  0.0006817228  0.12308474\n",
       "A8              -0.239784596  5.856346e-01  0.2115884511 -0.22857670\n",
       "A9               6.320587101 -1.672287e-01  0.6970828775  0.25063010\n",
       "A10             -0.167228728  6.224010e+00 -0.1266253043  0.47285427\n",
       "A11              0.697082877 -1.266253e-01  6.4027750061 -0.21354809\n",
       "A12              0.250630100  4.728543e-01 -0.2135480920  6.57275297\n",
       "A13             -0.144546422  3.029169e-01  0.3786578362 -0.24814010\n",
       "A14              0.132870447  5.386687e-02  0.2860672415 -0.04468415\n",
       "A15              0.008450951 -2.571811e-01  0.1097254163  0.55857104\n",
       "T               -2.761157335 -1.522708e+00 -0.3151029396  2.39735313\n",
       "                A13          A14          A15          T          \n",
       "Vitesse          3.013144819  3.121321594  5.922892779 -10.2631325\n",
       "MGV             -0.515392932 -0.478638194 -1.170112775  20.8997520\n",
       "M1              -0.022065655 -0.027509349 -0.072149462   5.1208973\n",
       "M2              -0.039514929 -0.055609724 -0.033507929   8.4747000\n",
       "M3              -0.006726855 -0.044088537 -0.095340233   0.8399011\n",
       "M4              -0.018638190 -0.047744879 -0.071166451   4.3594418\n",
       "M5              -0.045996082 -0.038098212 -0.011792590   2.9731456\n",
       "M6              -0.022492286 -0.021202020 -0.029850000   5.1315117\n",
       "M7              -0.016817589 -0.015184065 -0.115952327   2.6789021\n",
       "M8              -0.009266551  0.001436466 -0.141504583  -0.8386471\n",
       "M9              -0.046379389 -0.039544104 -0.105130590  -0.2335651\n",
       "M10             -0.066984251 -0.050052485 -0.025100323   0.7565039\n",
       "M11             -0.068197609 -0.017345685 -0.083363798   0.3189090\n",
       "M12             -0.029629404 -0.031250234 -0.048061961   0.1065245\n",
       "M13             -0.003140880 -0.041280828 -0.027061717  -0.7319586\n",
       "M14             -0.035692890 -0.010873885 -0.154196027  -0.8038976\n",
       "M15             -0.077298073 -0.010640621 -0.045793307  -0.5703507\n",
       "M16             -0.135547392 -0.071312494 -0.110142759  -1.0026261\n",
       "total_axle_dist  7.721193420  8.184565978  9.080564287  -5.9841111\n",
       "A1               0.206072962  0.213604605  0.481653043  -0.1138817\n",
       "A2              -0.159550452 -0.245759761  0.177367480  -0.3603457\n",
       "A3              -0.091984894  0.243070092  0.285077443  -1.3186877\n",
       "A4               0.349119946  0.284370129 -0.471248449  -1.2559879\n",
       "A5              -0.040322909  0.241293668  0.293324066  -3.8863259\n",
       "A6               0.193797547  0.095244140  0.627665229  -5.7932457\n",
       "A7              -0.017679636  0.470690592  0.761161230  -0.4779673\n",
       "A8               0.712746832  0.100274412  0.515689291   0.9087778\n",
       "A9              -0.144546422  0.132870447  0.008450951  -2.7611573\n",
       "A10              0.302916855  0.053866866 -0.257181132  -1.5227080\n",
       "A11              0.378657836  0.286067242  0.109725416  -0.3151029\n",
       "A12             -0.248140103 -0.044684147  0.558571043   2.3973531\n",
       "A13              6.081265315  0.098239460 -0.204090905   0.7441267\n",
       "A14              0.098239460  6.447930013 -0.590958217  -6.7370219\n",
       "A15             -0.204090905 -0.590958217  6.785360174  -0.2988696\n",
       "T                0.744126744 -6.737021923 -0.298869631 983.8346715"
      ]
     },
     "metadata": {},
     "output_type": "display_data"
    }
   ],
   "source": [
    "maxN <- 16\n",
    "axles_load <- paste(\"M\", 1:maxN, sep = \"\")\n",
    "axles_dist <- paste(\"A\", 1:(maxN - 1), sep = \"\")\n",
    "\n",
    "cols <- cols <- c(\n",
    "  \"Vitesse\",\n",
    "  \"MGV\",\n",
    "  axles_load,\n",
    "  \"total_axle_dist\",\n",
    "  axles_dist,\n",
    "  \"T\"\n",
    ")\n",
    "\n",
    "siwim_data_AFD <- siwim_data[,.SD, .SDcols =cols]\n",
    "\n",
    "cov(siwim_data_AFD, use = \"pairwise.complete.obs\")"
   ]
  },
  {
   "cell_type": "code",
   "execution_count": 8,
   "metadata": {},
   "outputs": [
    {
     "data": {
      "text/html": [
       "<table>\n",
       "<thead><tr><th></th><th scope=col>Vitesse</th><th scope=col>MGV</th><th scope=col>M1</th><th scope=col>M2</th><th scope=col>M3</th><th scope=col>M4</th><th scope=col>M5</th><th scope=col>M6</th><th scope=col>M7</th><th scope=col>M8</th><th scope=col>...</th><th scope=col>A7</th><th scope=col>A8</th><th scope=col>A9</th><th scope=col>A10</th><th scope=col>A11</th><th scope=col>A12</th><th scope=col>A13</th><th scope=col>A14</th><th scope=col>A15</th><th scope=col>T</th></tr></thead>\n",
       "<tbody>\n",
       "\t<tr><th scope=row>Vitesse</th><td> 1.000000000 </td><td>-0.538865751 </td><td>-0.122280045 </td><td>-0.468274090 </td><td>-0.506423890 </td><td>-0.561632277 </td><td>-6.260174e-01</td><td>-0.287794286 </td><td>-0.240680428 </td><td>-0.072244970 </td><td>...          </td><td> 0.0834370360</td><td> 0.136614686 </td><td> 0.134545995 </td><td> 1.159005e-01</td><td> 0.1065231693</td><td> 0.112389037 </td><td> 0.100368173 </td><td> 0.101242681 </td><td> 0.188628304 </td><td>-0.028304716 </td></tr>\n",
       "\t<tr><th scope=row>MGV</th><td>-0.538865751 </td><td> 1.000000000 </td><td> 0.642427320 </td><td> 0.902100095 </td><td> 0.823488240 </td><td> 0.857177030 </td><td> 9.289395e-01</td><td> 0.849476715 </td><td> 0.860741796 </td><td> 0.839599682 </td><td>...          </td><td>-0.0025438932</td><td>-0.073678372 </td><td>-0.066638167 </td><td>-4.276919e-03</td><td>-0.0072043513</td><td>-0.061194981 </td><td>-0.033728110 </td><td>-0.028510547 </td><td>-0.055293319 </td><td> 0.053808831 </td></tr>\n",
       "\t<tr><th scope=row>M1</th><td>-0.122280045 </td><td> 0.642427320 </td><td> 1.000000000 </td><td> 0.663015126 </td><td> 0.469337171 </td><td> 0.342722978 </td><td> 4.475636e-01</td><td> 0.655861348 </td><td> 0.642029817 </td><td> 0.643026517 </td><td>...          </td><td>-0.0022151601</td><td>-0.064321596 </td><td>-0.054377753 </td><td> 1.583238e-02</td><td> 0.0048362752</td><td>-0.060013392 </td><td>-0.019523216 </td><td>-0.021288801 </td><td>-0.062514329 </td><td> 0.079833530 </td></tr>\n",
       "\t<tr><th scope=row>M2</th><td>-0.468274090 </td><td> 0.902100095 </td><td> 0.663015126 </td><td> 1.000000000 </td><td> 0.669829678 </td><td> 0.734164000 </td><td> 7.949551e-01</td><td> 0.630781351 </td><td> 0.686358982 </td><td> 0.644250983 </td><td>...          </td><td> 0.0093697310</td><td>-0.078000168 </td><td>-0.069612642 </td><td>-6.376922e-03</td><td> 0.0076194652</td><td>-0.062319475 </td><td>-0.027594232 </td><td>-0.041651120 </td><td>-0.034379149 </td><td> 0.068642615 </td></tr>\n",
       "\t<tr><th scope=row>M3</th><td>-0.506423890 </td><td> 0.823488240 </td><td> 0.469337171 </td><td> 0.669829678 </td><td> 1.000000000 </td><td> 0.726403672 </td><td> 8.618511e-01</td><td> 0.818373362 </td><td> 0.708856972 </td><td> 0.713958543 </td><td>...          </td><td>-0.0247371121</td><td>-0.060169546 </td><td>-0.042437703 </td><td>-9.185227e-03</td><td> 0.0243399284</td><td>-0.071736901 </td><td>-0.004861836 </td><td>-0.036004304 </td><td>-0.069981749 </td><td> 0.011403787 </td></tr>\n",
       "\t<tr><th scope=row>M4</th><td>-0.561632277 </td><td> 0.857177030 </td><td> 0.342722978 </td><td> 0.734164000 </td><td> 0.726403672 </td><td> 1.000000000 </td><td> 8.238397e-01</td><td> 0.714608458 </td><td> 0.745148626 </td><td> 0.709891777 </td><td>...          </td><td>-0.0051932317</td><td>-0.075019316 </td><td>-0.058028944 </td><td>-4.877437e-03</td><td>-0.0053213712</td><td>-0.044966766 </td><td>-0.013836661 </td><td>-0.039917773 </td><td>-0.053299066 </td><td> 0.052298047 </td></tr>\n",
       "\t<tr><th scope=row>M5</th><td>-0.626017365 </td><td> 0.928939462 </td><td> 0.447563606 </td><td> 0.794955144 </td><td> 0.861851117 </td><td> 0.823839658 </td><td> 1.000000e+00</td><td> 0.856316530 </td><td> 0.834581520 </td><td> 0.733862727 </td><td>...          </td><td>-0.0120555242</td><td>-0.080535826 </td><td>-0.073343890 </td><td>-3.854691e-06</td><td> 0.0220269042</td><td>-0.042497863 </td><td>-0.037899020 </td><td>-0.035618833 </td><td>-0.009145787 </td><td> 0.037425121 </td></tr>\n",
       "\t<tr><th scope=row>M6</th><td>-0.287794286 </td><td> 0.849476715 </td><td> 0.655861348 </td><td> 0.630781351 </td><td> 0.818373362 </td><td> 0.714608458 </td><td> 8.563165e-01</td><td> 1.000000000 </td><td> 0.849321462 </td><td> 0.779197854 </td><td>...          </td><td>-0.0261403817</td><td>-0.064218413 </td><td>-0.050104475 </td><td>-1.343001e-02</td><td>-0.0038492759</td><td>-0.033918204 </td><td>-0.022675774 </td><td>-0.020535050 </td><td>-0.023966584 </td><td> 0.046661320 </td></tr>\n",
       "\t<tr><th scope=row>M7</th><td>-0.240680428 </td><td> 0.860741796 </td><td> 0.642029817 </td><td> 0.686358982 </td><td> 0.708856972 </td><td> 0.745148626 </td><td> 8.345815e-01</td><td> 0.849321462 </td><td> 1.000000000 </td><td> 0.794804337 </td><td>...          </td><td> 0.0316763007</td><td>-0.089470439 </td><td>-0.069124038 </td><td> 6.457498e-03</td><td> 0.0044202430</td><td>-0.054060410 </td><td>-0.014894379 </td><td>-0.011588267 </td><td>-0.081316051 </td><td> 0.028205658 </td></tr>\n",
       "\t<tr><th scope=row>M8</th><td>-0.072244970 </td><td> 0.839599682 </td><td> 0.643026517 </td><td> 0.644250983 </td><td> 0.713958543 </td><td> 0.709891777 </td><td> 7.338627e-01</td><td> 0.779197854 </td><td> 0.794804337 </td><td> 1.000000000 </td><td>...          </td><td>-0.0097164737</td><td>-0.040809356 </td><td>-0.058556375 </td><td>-1.657479e-02</td><td>-0.0071182545</td><td>-0.047743647 </td><td>-0.006250393 </td><td> 0.001017671 </td><td>-0.078621011 </td><td>-0.013460114 </td></tr>\n",
       "\t<tr><th scope=row>M9</th><td>-0.089725871 </td><td> 0.875747126 </td><td> 0.679790290 </td><td> 0.708924443 </td><td> 0.703590361 </td><td> 0.752177725 </td><td> 7.552515e-01</td><td> 0.713942375 </td><td> 0.851613844 </td><td> 0.800474970 </td><td>...          </td><td> 0.0370186256</td><td>-0.067595629 </td><td>-0.042936660 </td><td>-6.265252e-04</td><td>-0.0193891606</td><td>-0.021989199 </td><td>-0.037790108 </td><td>-0.032596824 </td><td>-0.067610949 </td><td>-0.003365811 </td></tr>\n",
       "\t<tr><th scope=row>M10</th><td>-0.057158986 </td><td> 0.905810045 </td><td> 0.716921182 </td><td> 0.765478715 </td><td> 0.777678867 </td><td> 0.745748761 </td><td> 7.948499e-01</td><td> 0.754972315 </td><td> 0.812716490 </td><td> 0.764467603 </td><td>...          </td><td>-0.0022815515</td><td>-0.039038170 </td><td>-0.065187774 </td><td> 2.225670e-02</td><td>-0.0109976731</td><td>-0.037037957 </td><td>-0.051947738 </td><td>-0.033335948 </td><td>-0.012061798 </td><td> 0.012445439 </td></tr>\n",
       "\t<tr><th scope=row>M11</th><td> 0.034977739 </td><td> 0.858830403 </td><td> 0.561979563 </td><td> 0.642752628 </td><td> 0.682595584 </td><td> 0.616834971 </td><td> 6.325162e-01</td><td> 0.654742903 </td><td> 0.682260336 </td><td> 0.705772639 </td><td>...          </td><td>-0.0161675727</td><td> 0.021995082 </td><td>-0.040457068 </td><td>-6.812888e-04</td><td>-0.0087223809</td><td>-0.052500533 </td><td>-0.049478098 </td><td>-0.010474131 </td><td>-0.034982451 </td><td> 0.007298206 </td></tr>\n",
       "\t<tr><th scope=row>M12</th><td> 0.072245496 </td><td> 0.770488338 </td><td> 0.369654417 </td><td> 0.384729472 </td><td> 0.493564368 </td><td> 0.549519934 </td><td> 5.264900e-01</td><td> 0.583927026 </td><td> 0.570451823 </td><td> 0.602666279 </td><td>...          </td><td>-0.0156224288</td><td> 0.018537836 </td><td>-0.013068423 </td><td>-2.851455e-02</td><td>-0.0087583580</td><td>-0.016661338 </td><td>-0.030358272 </td><td>-0.027009728 </td><td>-0.032063134 </td><td> 0.003310543 </td></tr>\n",
       "\t<tr><th scope=row>M13</th><td> 0.100915001 </td><td> 0.827320284 </td><td> 0.506229716 </td><td> 0.449699565 </td><td> 0.583386913 </td><td> 0.620482994 </td><td> 6.252905e-01</td><td> 0.720225634 </td><td> 0.774977533 </td><td> 0.634779780 </td><td>...          </td><td> 0.0192333456</td><td>-0.013059530 </td><td>-0.003691570 </td><td>-1.097597e-02</td><td>-0.0280952216</td><td>-0.045014534 </td><td>-0.003010071 </td><td>-0.034681492 </td><td>-0.020006334 </td><td>-0.024459531 </td></tr>\n",
       "\t<tr><th scope=row>M14</th><td> 0.027165439 </td><td> 0.908922756 </td><td> 0.482368531 </td><td> 0.355130034 </td><td> 0.654510042 </td><td> 0.689049799 </td><td> 6.432900e-01</td><td> 0.762519778 </td><td> 0.838457618 </td><td> 0.771221013 </td><td>...          </td><td>-0.0060129009</td><td>-0.025007079 </td><td>-0.066082989 </td><td>-9.956883e-03</td><td>-0.0609584870</td><td>-0.078249313 </td><td>-0.029077888 </td><td>-0.007609216 </td><td>-0.078557765 </td><td>-0.023473847 </td></tr>\n",
       "\t<tr><th scope=row>M15</th><td> 0.004207651 </td><td> 0.869255750 </td><td> 0.377141455 </td><td> 0.405429461 </td><td> 0.744627596 </td><td> 0.730370826 </td><td> 7.151273e-01</td><td> 0.701854930 </td><td> 0.706132821 </td><td> 0.748030677 </td><td>...          </td><td>-0.0104606469</td><td>-0.018821738 </td><td>-0.067517949 </td><td> 2.917968e-02</td><td>-0.0489875813</td><td>-0.109872537 </td><td>-0.068310950 </td><td>-0.009166886 </td><td>-0.031446903 </td><td>-0.017727077 </td></tr>\n",
       "\t<tr><th scope=row>M16</th><td> 0.008844576 </td><td> 0.933804656 </td><td> 0.473590370 </td><td> 0.478863338 </td><td> 0.872213236 </td><td> 0.909574399 </td><td> 7.778884e-01</td><td> 0.795367662 </td><td> 0.885726637 </td><td> 0.863404598 </td><td>...          </td><td>-0.0631871665</td><td>-0.027873257 </td><td>-0.072245919 </td><td>-4.818387e-02</td><td>-0.0898220939</td><td>-0.118127202 </td><td>-0.100330737 </td><td>-0.051153045 </td><td>-0.075915354 </td><td>-0.024717185 </td></tr>\n",
       "\t<tr><th scope=row>total_axle_dist</th><td>-0.079497683 </td><td> 0.135859855 </td><td>-0.028918419 </td><td> 0.039643217 </td><td>-0.242990899 </td><td>-0.308329203 </td><td>-3.374440e-01</td><td>-0.400490597 </td><td>-0.274082005 </td><td>-0.096495306 </td><td>...          </td><td> 0.2324921342</td><td> 0.258561517 </td><td> 0.237573715 </td><td> 2.534180e-01</td><td> 0.2709598707</td><td> 0.283010042 </td><td> 0.310276238 </td><td> 0.313332703 </td><td> 0.345289223 </td><td>-0.036004674 </td></tr>\n",
       "\t<tr><th scope=row>A1</th><td> 0.116353785 </td><td>-0.024622738 </td><td> 0.236527425 </td><td> 0.110643654 </td><td>-0.017812793 </td><td>-0.048531917 </td><td>-3.791891e-02</td><td>-0.051835657 </td><td> 0.009722356 </td><td> 0.031288541 </td><td>...          </td><td> 0.0130648378</td><td> 0.017740702 </td><td> 0.004761398 </td><td> 1.453828e-02</td><td>-0.0354293114</td><td> 0.002275511 </td><td> 0.033744496 </td><td> 0.033891983 </td><td> 0.076552410 </td><td>-0.003448323 </td></tr>\n",
       "\t<tr><th scope=row>A2</th><td> 0.102682023 </td><td> 0.005667478 </td><td> 0.012389742 </td><td> 0.130891106 </td><td>-0.108599788 </td><td>-0.002150502 </td><td>-4.822343e-02</td><td>-0.220727447 </td><td>-0.048351450 </td><td> 0.038904621 </td><td>...          </td><td> 0.0466342878</td><td> 0.028576290 </td><td>-0.058280462 </td><td> 8.312181e-03</td><td>-0.0057387596</td><td>-0.003087385 </td><td>-0.025331114 </td><td>-0.037612008 </td><td> 0.026616345 </td><td>-0.006751634 </td></tr>\n",
       "\t<tr><th scope=row>A3</th><td> 0.058722066 </td><td>-0.179173962 </td><td>-0.169464018 </td><td>-0.252998476 </td><td>-0.076467311 </td><td>-0.219400927 </td><td>-1.189395e-01</td><td> 0.140771002 </td><td>-0.111309492 </td><td>-0.052617649 </td><td>...          </td><td>-0.0412196911</td><td> 0.064865478 </td><td> 0.006696961 </td><td> 5.642055e-03</td><td> 0.0228446181</td><td> 0.046045392 </td><td>-0.014938303 </td><td> 0.038006615 </td><td> 0.045954300 </td><td>-0.032578966 </td></tr>\n",
       "\t<tr><th scope=row>A4</th><td> 0.086556861 </td><td>-0.277425064 </td><td>-0.340369710 </td><td>-0.298400223 </td><td>-0.161657864 </td><td>-0.231315129 </td><td>-2.564908e-01</td><td>-0.145435468 </td><td>-0.073677527 </td><td>-0.027616381 </td><td>...          </td><td> 0.0280224133</td><td> 0.029355887 </td><td> 0.019412008 </td><td>-7.637592e-03</td><td> 0.0008243331</td><td> 0.025552591 </td><td> 0.057120501 </td><td> 0.047011616 </td><td>-0.078045577 </td><td>-0.044921624 </td></tr>\n",
       "\t<tr><th scope=row>A5</th><td> 0.050247038 </td><td>-0.193100138 </td><td>-0.222451077 </td><td>-0.173149575 </td><td>-0.249384361 </td><td>-0.138809834 </td><td>-1.812586e-01</td><td>-0.263960118 </td><td> 0.050321088 </td><td> 0.123976081 </td><td>...          </td><td> 0.1049765914</td><td>-0.014789923 </td><td>-0.027139660 </td><td>-1.637967e-02</td><td> 0.0104984382</td><td> 0.010906480 </td><td>-0.007051487 </td><td> 0.040420849 </td><td> 0.045410849 </td><td>-0.030725764 </td></tr>\n",
       "\t<tr><th scope=row>A6</th><td> 0.116576903 </td><td>-0.159585242 </td><td>-0.205939576 </td><td>-0.168383274 </td><td>-0.159389989 </td><td>-0.179393684 </td><td>-1.284431e-01</td><td>-0.118051853 </td><td>-0.142250185 </td><td> 0.005847886 </td><td>...          </td><td>-0.0534256753</td><td> 0.081980496 </td><td> 0.019539646 </td><td>-1.074092e-02</td><td> 0.0009934030</td><td> 0.007953769 </td><td> 0.033194273 </td><td> 0.016106990 </td><td> 0.102983230 </td><td>-0.040789755 </td></tr>\n",
       "\t<tr><th scope=row>A7</th><td> 0.083437036 </td><td>-0.002543893 </td><td>-0.002215160 </td><td> 0.009369731 </td><td>-0.024737112 </td><td>-0.005193232 </td><td>-1.205552e-02</td><td>-0.026140382 </td><td> 0.031676301 </td><td>-0.009716474 </td><td>...          </td><td> 1.0000000000</td><td>-0.069173026 </td><td> 0.069465641 </td><td> 4.204183e-02</td><td> 0.0001138056</td><td> 0.020519586 </td><td>-0.003033857 </td><td> 0.078934610 </td><td> 0.118842281 </td><td>-0.003051419 </td></tr>\n",
       "\t<tr><th scope=row>A8</th><td> 0.136614686 </td><td>-0.073678372 </td><td>-0.064321596 </td><td>-0.078000168 </td><td>-0.060169546 </td><td>-0.075019316 </td><td>-8.053583e-02</td><td>-0.064218413 </td><td>-0.089470439 </td><td>-0.040809356 </td><td>...          </td><td>-0.0691730257</td><td> 1.000000000 </td><td>-0.038736157 </td><td> 9.687248e-02</td><td> 0.0348166514</td><td>-0.038114549 </td><td> 0.130411056 </td><td> 0.017800262 </td><td> 0.090562903 </td><td> 0.005889831 </td></tr>\n",
       "\t<tr><th scope=row>A9</th><td> 0.134545995 </td><td>-0.066638167 </td><td>-0.054377753 </td><td>-0.069612642 </td><td>-0.042437703 </td><td>-0.058028944 </td><td>-7.334389e-02</td><td>-0.050104475 </td><td>-0.069124038 </td><td>-0.058556375 </td><td>...          </td><td> 0.0694656407</td><td>-0.038736157 </td><td> 1.000000000 </td><td>-2.705535e-02</td><td> 0.1161110213</td><td> 0.041963027 </td><td>-0.025106216 </td><td> 0.022687758 </td><td> 0.001466723 </td><td>-0.017194704 </td></tr>\n",
       "\t<tr><th scope=row>A10</th><td> 0.115900519 </td><td>-0.004276919 </td><td> 0.015832379 </td><td>-0.006376922 </td><td>-0.009185227 </td><td>-0.004877437 </td><td>-3.854691e-06</td><td>-0.013430013 </td><td> 0.006457498 </td><td>-0.016574787 </td><td>...          </td><td> 0.0420418307</td><td> 0.096872477 </td><td>-0.027055353 </td><td> 1.000000e+00</td><td>-0.0205369200</td><td> 0.078637264 </td><td> 0.052978701 </td><td> 0.009487890 </td><td>-0.044658903 </td><td>-0.009371660 </td></tr>\n",
       "\t<tr><th scope=row>A11</th><td> 0.106523169 </td><td>-0.007204351 </td><td> 0.004836275 </td><td> 0.007619465 </td><td> 0.024339928 </td><td>-0.005321371 </td><td> 2.202690e-02</td><td>-0.003849276 </td><td> 0.004420243 </td><td>-0.007118254 </td><td>...          </td><td> 0.0001138056</td><td> 0.034816651 </td><td> 0.116111021 </td><td>-2.053692e-02</td><td> 1.0000000000</td><td>-0.033524244 </td><td> 0.063252129 </td><td> 0.048074333 </td><td> 0.017280576 </td><td>-0.001902796 </td></tr>\n",
       "\t<tr><th scope=row>A12</th><td> 0.112389037 </td><td>-0.061194981 </td><td>-0.060013392 </td><td>-0.062319475 </td><td>-0.071736901 </td><td>-0.044966766 </td><td>-4.249786e-02</td><td>-0.033918204 </td><td>-0.054060410 </td><td>-0.047743647 </td><td>...          </td><td> 0.0205195861</td><td>-0.038114549 </td><td> 0.041963027 </td><td> 7.863726e-02</td><td>-0.0335242443</td><td> 1.000000000 </td><td>-0.039972325 </td><td>-0.007240874 </td><td> 0.093873621 </td><td> 0.013696170 </td></tr>\n",
       "\t<tr><th scope=row>A13</th><td> 0.100368173 </td><td>-0.033728110 </td><td>-0.019523216 </td><td>-0.027594232 </td><td>-0.004861836 </td><td>-0.013836661 </td><td>-3.789902e-02</td><td>-0.022675774 </td><td>-0.014894379 </td><td>-0.006250393 </td><td>...          </td><td>-0.0030338572</td><td> 0.130411056 </td><td>-0.025106216 </td><td> 5.297870e-02</td><td> 0.0632521285</td><td>-0.039972325 </td><td> 1.000000000 </td><td> 0.015629045 </td><td>-0.032301293 </td><td> 0.004385866 </td></tr>\n",
       "\t<tr><th scope=row>A14</th><td> 0.101242681 </td><td>-0.028510547 </td><td>-0.021288801 </td><td>-0.041651120 </td><td>-0.036004304 </td><td>-0.039917773 </td><td>-3.561883e-02</td><td>-0.020535050 </td><td>-0.011588267 </td><td> 0.001017671 </td><td>...          </td><td> 0.0789346096</td><td> 0.017800262 </td><td> 0.022687758 </td><td> 9.487890e-03</td><td> 0.0480743328</td><td>-0.007240874 </td><td> 0.015629045 </td><td> 1.000000000 </td><td>-0.090639201 </td><td>-0.037695363 </td></tr>\n",
       "\t<tr><th scope=row>A15</th><td> 0.188628304 </td><td>-0.055293319 </td><td>-0.062514329 </td><td>-0.034379149 </td><td>-0.069981749 </td><td>-0.053299066 </td><td>-9.145787e-03</td><td>-0.023966584 </td><td>-0.081316051 </td><td>-0.078621011 </td><td>...          </td><td> 0.1188422814</td><td> 0.090562903 </td><td> 0.001466723 </td><td>-4.465890e-02</td><td> 0.0172805759</td><td> 0.093873621 </td><td>-0.032301293 </td><td>-0.090639201 </td><td> 1.000000000 </td><td>-0.001575416 </td></tr>\n",
       "\t<tr><th scope=row>T</th><td>-0.028304716 </td><td> 0.053808831 </td><td> 0.079833530 </td><td> 0.068642615 </td><td> 0.011403787 </td><td> 0.052298047 </td><td> 3.742512e-02</td><td> 0.046661320 </td><td> 0.028205658 </td><td>-0.013460114 </td><td>...          </td><td>-0.0030514186</td><td> 0.005889831 </td><td>-0.017194704 </td><td>-9.371660e-03</td><td>-0.0019027959</td><td> 0.013696170 </td><td> 0.004385866 </td><td>-0.037695363 </td><td>-0.001575416 </td><td> 1.000000000 </td></tr>\n",
       "</tbody>\n",
       "</table>\n"
      ],
      "text/latex": [
       "\\begin{tabular}{r|lllllllllllllllllllllllllllllllllll}\n",
       "  & Vitesse & MGV & M1 & M2 & M3 & M4 & M5 & M6 & M7 & M8 & ... & A7 & A8 & A9 & A10 & A11 & A12 & A13 & A14 & A15 & T\\\\\n",
       "\\hline\n",
       "\tVitesse &  1.000000000  & -0.538865751  & -0.122280045  & -0.468274090  & -0.506423890  & -0.561632277  & -6.260174e-01 & -0.287794286  & -0.240680428  & -0.072244970  & ...           &  0.0834370360 &  0.136614686  &  0.134545995  &  1.159005e-01 &  0.1065231693 &  0.112389037  &  0.100368173  &  0.101242681  &  0.188628304  & -0.028304716 \\\\\n",
       "\tMGV & -0.538865751  &  1.000000000  &  0.642427320  &  0.902100095  &  0.823488240  &  0.857177030  &  9.289395e-01 &  0.849476715  &  0.860741796  &  0.839599682  & ...           & -0.0025438932 & -0.073678372  & -0.066638167  & -4.276919e-03 & -0.0072043513 & -0.061194981  & -0.033728110  & -0.028510547  & -0.055293319  &  0.053808831 \\\\\n",
       "\tM1 & -0.122280045  &  0.642427320  &  1.000000000  &  0.663015126  &  0.469337171  &  0.342722978  &  4.475636e-01 &  0.655861348  &  0.642029817  &  0.643026517  & ...           & -0.0022151601 & -0.064321596  & -0.054377753  &  1.583238e-02 &  0.0048362752 & -0.060013392  & -0.019523216  & -0.021288801  & -0.062514329  &  0.079833530 \\\\\n",
       "\tM2 & -0.468274090  &  0.902100095  &  0.663015126  &  1.000000000  &  0.669829678  &  0.734164000  &  7.949551e-01 &  0.630781351  &  0.686358982  &  0.644250983  & ...           &  0.0093697310 & -0.078000168  & -0.069612642  & -6.376922e-03 &  0.0076194652 & -0.062319475  & -0.027594232  & -0.041651120  & -0.034379149  &  0.068642615 \\\\\n",
       "\tM3 & -0.506423890  &  0.823488240  &  0.469337171  &  0.669829678  &  1.000000000  &  0.726403672  &  8.618511e-01 &  0.818373362  &  0.708856972  &  0.713958543  & ...           & -0.0247371121 & -0.060169546  & -0.042437703  & -9.185227e-03 &  0.0243399284 & -0.071736901  & -0.004861836  & -0.036004304  & -0.069981749  &  0.011403787 \\\\\n",
       "\tM4 & -0.561632277  &  0.857177030  &  0.342722978  &  0.734164000  &  0.726403672  &  1.000000000  &  8.238397e-01 &  0.714608458  &  0.745148626  &  0.709891777  & ...           & -0.0051932317 & -0.075019316  & -0.058028944  & -4.877437e-03 & -0.0053213712 & -0.044966766  & -0.013836661  & -0.039917773  & -0.053299066  &  0.052298047 \\\\\n",
       "\tM5 & -0.626017365  &  0.928939462  &  0.447563606  &  0.794955144  &  0.861851117  &  0.823839658  &  1.000000e+00 &  0.856316530  &  0.834581520  &  0.733862727  & ...           & -0.0120555242 & -0.080535826  & -0.073343890  & -3.854691e-06 &  0.0220269042 & -0.042497863  & -0.037899020  & -0.035618833  & -0.009145787  &  0.037425121 \\\\\n",
       "\tM6 & -0.287794286  &  0.849476715  &  0.655861348  &  0.630781351  &  0.818373362  &  0.714608458  &  8.563165e-01 &  1.000000000  &  0.849321462  &  0.779197854  & ...           & -0.0261403817 & -0.064218413  & -0.050104475  & -1.343001e-02 & -0.0038492759 & -0.033918204  & -0.022675774  & -0.020535050  & -0.023966584  &  0.046661320 \\\\\n",
       "\tM7 & -0.240680428  &  0.860741796  &  0.642029817  &  0.686358982  &  0.708856972  &  0.745148626  &  8.345815e-01 &  0.849321462  &  1.000000000  &  0.794804337  & ...           &  0.0316763007 & -0.089470439  & -0.069124038  &  6.457498e-03 &  0.0044202430 & -0.054060410  & -0.014894379  & -0.011588267  & -0.081316051  &  0.028205658 \\\\\n",
       "\tM8 & -0.072244970  &  0.839599682  &  0.643026517  &  0.644250983  &  0.713958543  &  0.709891777  &  7.338627e-01 &  0.779197854  &  0.794804337  &  1.000000000  & ...           & -0.0097164737 & -0.040809356  & -0.058556375  & -1.657479e-02 & -0.0071182545 & -0.047743647  & -0.006250393  &  0.001017671  & -0.078621011  & -0.013460114 \\\\\n",
       "\tM9 & -0.089725871  &  0.875747126  &  0.679790290  &  0.708924443  &  0.703590361  &  0.752177725  &  7.552515e-01 &  0.713942375  &  0.851613844  &  0.800474970  & ...           &  0.0370186256 & -0.067595629  & -0.042936660  & -6.265252e-04 & -0.0193891606 & -0.021989199  & -0.037790108  & -0.032596824  & -0.067610949  & -0.003365811 \\\\\n",
       "\tM10 & -0.057158986  &  0.905810045  &  0.716921182  &  0.765478715  &  0.777678867  &  0.745748761  &  7.948499e-01 &  0.754972315  &  0.812716490  &  0.764467603  & ...           & -0.0022815515 & -0.039038170  & -0.065187774  &  2.225670e-02 & -0.0109976731 & -0.037037957  & -0.051947738  & -0.033335948  & -0.012061798  &  0.012445439 \\\\\n",
       "\tM11 &  0.034977739  &  0.858830403  &  0.561979563  &  0.642752628  &  0.682595584  &  0.616834971  &  6.325162e-01 &  0.654742903  &  0.682260336  &  0.705772639  & ...           & -0.0161675727 &  0.021995082  & -0.040457068  & -6.812888e-04 & -0.0087223809 & -0.052500533  & -0.049478098  & -0.010474131  & -0.034982451  &  0.007298206 \\\\\n",
       "\tM12 &  0.072245496  &  0.770488338  &  0.369654417  &  0.384729472  &  0.493564368  &  0.549519934  &  5.264900e-01 &  0.583927026  &  0.570451823  &  0.602666279  & ...           & -0.0156224288 &  0.018537836  & -0.013068423  & -2.851455e-02 & -0.0087583580 & -0.016661338  & -0.030358272  & -0.027009728  & -0.032063134  &  0.003310543 \\\\\n",
       "\tM13 &  0.100915001  &  0.827320284  &  0.506229716  &  0.449699565  &  0.583386913  &  0.620482994  &  6.252905e-01 &  0.720225634  &  0.774977533  &  0.634779780  & ...           &  0.0192333456 & -0.013059530  & -0.003691570  & -1.097597e-02 & -0.0280952216 & -0.045014534  & -0.003010071  & -0.034681492  & -0.020006334  & -0.024459531 \\\\\n",
       "\tM14 &  0.027165439  &  0.908922756  &  0.482368531  &  0.355130034  &  0.654510042  &  0.689049799  &  6.432900e-01 &  0.762519778  &  0.838457618  &  0.771221013  & ...           & -0.0060129009 & -0.025007079  & -0.066082989  & -9.956883e-03 & -0.0609584870 & -0.078249313  & -0.029077888  & -0.007609216  & -0.078557765  & -0.023473847 \\\\\n",
       "\tM15 &  0.004207651  &  0.869255750  &  0.377141455  &  0.405429461  &  0.744627596  &  0.730370826  &  7.151273e-01 &  0.701854930  &  0.706132821  &  0.748030677  & ...           & -0.0104606469 & -0.018821738  & -0.067517949  &  2.917968e-02 & -0.0489875813 & -0.109872537  & -0.068310950  & -0.009166886  & -0.031446903  & -0.017727077 \\\\\n",
       "\tM16 &  0.008844576  &  0.933804656  &  0.473590370  &  0.478863338  &  0.872213236  &  0.909574399  &  7.778884e-01 &  0.795367662  &  0.885726637  &  0.863404598  & ...           & -0.0631871665 & -0.027873257  & -0.072245919  & -4.818387e-02 & -0.0898220939 & -0.118127202  & -0.100330737  & -0.051153045  & -0.075915354  & -0.024717185 \\\\\n",
       "\ttotal\\_axle\\_dist & -0.079497683  &  0.135859855  & -0.028918419  &  0.039643217  & -0.242990899  & -0.308329203  & -3.374440e-01 & -0.400490597  & -0.274082005  & -0.096495306  & ...           &  0.2324921342 &  0.258561517  &  0.237573715  &  2.534180e-01 &  0.2709598707 &  0.283010042  &  0.310276238  &  0.313332703  &  0.345289223  & -0.036004674 \\\\\n",
       "\tA1 &  0.116353785  & -0.024622738  &  0.236527425  &  0.110643654  & -0.017812793  & -0.048531917  & -3.791891e-02 & -0.051835657  &  0.009722356  &  0.031288541  & ...           &  0.0130648378 &  0.017740702  &  0.004761398  &  1.453828e-02 & -0.0354293114 &  0.002275511  &  0.033744496  &  0.033891983  &  0.076552410  & -0.003448323 \\\\\n",
       "\tA2 &  0.102682023  &  0.005667478  &  0.012389742  &  0.130891106  & -0.108599788  & -0.002150502  & -4.822343e-02 & -0.220727447  & -0.048351450  &  0.038904621  & ...           &  0.0466342878 &  0.028576290  & -0.058280462  &  8.312181e-03 & -0.0057387596 & -0.003087385  & -0.025331114  & -0.037612008  &  0.026616345  & -0.006751634 \\\\\n",
       "\tA3 &  0.058722066  & -0.179173962  & -0.169464018  & -0.252998476  & -0.076467311  & -0.219400927  & -1.189395e-01 &  0.140771002  & -0.111309492  & -0.052617649  & ...           & -0.0412196911 &  0.064865478  &  0.006696961  &  5.642055e-03 &  0.0228446181 &  0.046045392  & -0.014938303  &  0.038006615  &  0.045954300  & -0.032578966 \\\\\n",
       "\tA4 &  0.086556861  & -0.277425064  & -0.340369710  & -0.298400223  & -0.161657864  & -0.231315129  & -2.564908e-01 & -0.145435468  & -0.073677527  & -0.027616381  & ...           &  0.0280224133 &  0.029355887  &  0.019412008  & -7.637592e-03 &  0.0008243331 &  0.025552591  &  0.057120501  &  0.047011616  & -0.078045577  & -0.044921624 \\\\\n",
       "\tA5 &  0.050247038  & -0.193100138  & -0.222451077  & -0.173149575  & -0.249384361  & -0.138809834  & -1.812586e-01 & -0.263960118  &  0.050321088  &  0.123976081  & ...           &  0.1049765914 & -0.014789923  & -0.027139660  & -1.637967e-02 &  0.0104984382 &  0.010906480  & -0.007051487  &  0.040420849  &  0.045410849  & -0.030725764 \\\\\n",
       "\tA6 &  0.116576903  & -0.159585242  & -0.205939576  & -0.168383274  & -0.159389989  & -0.179393684  & -1.284431e-01 & -0.118051853  & -0.142250185  &  0.005847886  & ...           & -0.0534256753 &  0.081980496  &  0.019539646  & -1.074092e-02 &  0.0009934030 &  0.007953769  &  0.033194273  &  0.016106990  &  0.102983230  & -0.040789755 \\\\\n",
       "\tA7 &  0.083437036  & -0.002543893  & -0.002215160  &  0.009369731  & -0.024737112  & -0.005193232  & -1.205552e-02 & -0.026140382  &  0.031676301  & -0.009716474  & ...           &  1.0000000000 & -0.069173026  &  0.069465641  &  4.204183e-02 &  0.0001138056 &  0.020519586  & -0.003033857  &  0.078934610  &  0.118842281  & -0.003051419 \\\\\n",
       "\tA8 &  0.136614686  & -0.073678372  & -0.064321596  & -0.078000168  & -0.060169546  & -0.075019316  & -8.053583e-02 & -0.064218413  & -0.089470439  & -0.040809356  & ...           & -0.0691730257 &  1.000000000  & -0.038736157  &  9.687248e-02 &  0.0348166514 & -0.038114549  &  0.130411056  &  0.017800262  &  0.090562903  &  0.005889831 \\\\\n",
       "\tA9 &  0.134545995  & -0.066638167  & -0.054377753  & -0.069612642  & -0.042437703  & -0.058028944  & -7.334389e-02 & -0.050104475  & -0.069124038  & -0.058556375  & ...           &  0.0694656407 & -0.038736157  &  1.000000000  & -2.705535e-02 &  0.1161110213 &  0.041963027  & -0.025106216  &  0.022687758  &  0.001466723  & -0.017194704 \\\\\n",
       "\tA10 &  0.115900519  & -0.004276919  &  0.015832379  & -0.006376922  & -0.009185227  & -0.004877437  & -3.854691e-06 & -0.013430013  &  0.006457498  & -0.016574787  & ...           &  0.0420418307 &  0.096872477  & -0.027055353  &  1.000000e+00 & -0.0205369200 &  0.078637264  &  0.052978701  &  0.009487890  & -0.044658903  & -0.009371660 \\\\\n",
       "\tA11 &  0.106523169  & -0.007204351  &  0.004836275  &  0.007619465  &  0.024339928  & -0.005321371  &  2.202690e-02 & -0.003849276  &  0.004420243  & -0.007118254  & ...           &  0.0001138056 &  0.034816651  &  0.116111021  & -2.053692e-02 &  1.0000000000 & -0.033524244  &  0.063252129  &  0.048074333  &  0.017280576  & -0.001902796 \\\\\n",
       "\tA12 &  0.112389037  & -0.061194981  & -0.060013392  & -0.062319475  & -0.071736901  & -0.044966766  & -4.249786e-02 & -0.033918204  & -0.054060410  & -0.047743647  & ...           &  0.0205195861 & -0.038114549  &  0.041963027  &  7.863726e-02 & -0.0335242443 &  1.000000000  & -0.039972325  & -0.007240874  &  0.093873621  &  0.013696170 \\\\\n",
       "\tA13 &  0.100368173  & -0.033728110  & -0.019523216  & -0.027594232  & -0.004861836  & -0.013836661  & -3.789902e-02 & -0.022675774  & -0.014894379  & -0.006250393  & ...           & -0.0030338572 &  0.130411056  & -0.025106216  &  5.297870e-02 &  0.0632521285 & -0.039972325  &  1.000000000  &  0.015629045  & -0.032301293  &  0.004385866 \\\\\n",
       "\tA14 &  0.101242681  & -0.028510547  & -0.021288801  & -0.041651120  & -0.036004304  & -0.039917773  & -3.561883e-02 & -0.020535050  & -0.011588267  &  0.001017671  & ...           &  0.0789346096 &  0.017800262  &  0.022687758  &  9.487890e-03 &  0.0480743328 & -0.007240874  &  0.015629045  &  1.000000000  & -0.090639201  & -0.037695363 \\\\\n",
       "\tA15 &  0.188628304  & -0.055293319  & -0.062514329  & -0.034379149  & -0.069981749  & -0.053299066  & -9.145787e-03 & -0.023966584  & -0.081316051  & -0.078621011  & ...           &  0.1188422814 &  0.090562903  &  0.001466723  & -4.465890e-02 &  0.0172805759 &  0.093873621  & -0.032301293  & -0.090639201  &  1.000000000  & -0.001575416 \\\\\n",
       "\tT & -0.028304716  &  0.053808831  &  0.079833530  &  0.068642615  &  0.011403787  &  0.052298047  &  3.742512e-02 &  0.046661320  &  0.028205658  & -0.013460114  & ...           & -0.0030514186 &  0.005889831  & -0.017194704  & -9.371660e-03 & -0.0019027959 &  0.013696170  &  0.004385866  & -0.037695363  & -0.001575416  &  1.000000000 \\\\\n",
       "\\end{tabular}\n"
      ],
      "text/markdown": [
       "\n",
       "| <!--/--> | Vitesse | MGV | M1 | M2 | M3 | M4 | M5 | M6 | M7 | M8 | ... | A7 | A8 | A9 | A10 | A11 | A12 | A13 | A14 | A15 | T | \n",
       "|---|---|---|---|---|---|---|---|---|---|---|---|---|---|---|---|---|---|---|---|---|---|---|---|---|---|---|---|---|---|---|---|---|---|---|\n",
       "| Vitesse |  1.000000000  | -0.538865751  | -0.122280045  | -0.468274090  | -0.506423890  | -0.561632277  | -6.260174e-01 | -0.287794286  | -0.240680428  | -0.072244970  | ...           |  0.0834370360 |  0.136614686  |  0.134545995  |  1.159005e-01 |  0.1065231693 |  0.112389037  |  0.100368173  |  0.101242681  |  0.188628304  | -0.028304716  | \n",
       "| MGV | -0.538865751  |  1.000000000  |  0.642427320  |  0.902100095  |  0.823488240  |  0.857177030  |  9.289395e-01 |  0.849476715  |  0.860741796  |  0.839599682  | ...           | -0.0025438932 | -0.073678372  | -0.066638167  | -4.276919e-03 | -0.0072043513 | -0.061194981  | -0.033728110  | -0.028510547  | -0.055293319  |  0.053808831  | \n",
       "| M1 | -0.122280045  |  0.642427320  |  1.000000000  |  0.663015126  |  0.469337171  |  0.342722978  |  4.475636e-01 |  0.655861348  |  0.642029817  |  0.643026517  | ...           | -0.0022151601 | -0.064321596  | -0.054377753  |  1.583238e-02 |  0.0048362752 | -0.060013392  | -0.019523216  | -0.021288801  | -0.062514329  |  0.079833530  | \n",
       "| M2 | -0.468274090  |  0.902100095  |  0.663015126  |  1.000000000  |  0.669829678  |  0.734164000  |  7.949551e-01 |  0.630781351  |  0.686358982  |  0.644250983  | ...           |  0.0093697310 | -0.078000168  | -0.069612642  | -6.376922e-03 |  0.0076194652 | -0.062319475  | -0.027594232  | -0.041651120  | -0.034379149  |  0.068642615  | \n",
       "| M3 | -0.506423890  |  0.823488240  |  0.469337171  |  0.669829678  |  1.000000000  |  0.726403672  |  8.618511e-01 |  0.818373362  |  0.708856972  |  0.713958543  | ...           | -0.0247371121 | -0.060169546  | -0.042437703  | -9.185227e-03 |  0.0243399284 | -0.071736901  | -0.004861836  | -0.036004304  | -0.069981749  |  0.011403787  | \n",
       "| M4 | -0.561632277  |  0.857177030  |  0.342722978  |  0.734164000  |  0.726403672  |  1.000000000  |  8.238397e-01 |  0.714608458  |  0.745148626  |  0.709891777  | ...           | -0.0051932317 | -0.075019316  | -0.058028944  | -4.877437e-03 | -0.0053213712 | -0.044966766  | -0.013836661  | -0.039917773  | -0.053299066  |  0.052298047  | \n",
       "| M5 | -0.626017365  |  0.928939462  |  0.447563606  |  0.794955144  |  0.861851117  |  0.823839658  |  1.000000e+00 |  0.856316530  |  0.834581520  |  0.733862727  | ...           | -0.0120555242 | -0.080535826  | -0.073343890  | -3.854691e-06 |  0.0220269042 | -0.042497863  | -0.037899020  | -0.035618833  | -0.009145787  |  0.037425121  | \n",
       "| M6 | -0.287794286  |  0.849476715  |  0.655861348  |  0.630781351  |  0.818373362  |  0.714608458  |  8.563165e-01 |  1.000000000  |  0.849321462  |  0.779197854  | ...           | -0.0261403817 | -0.064218413  | -0.050104475  | -1.343001e-02 | -0.0038492759 | -0.033918204  | -0.022675774  | -0.020535050  | -0.023966584  |  0.046661320  | \n",
       "| M7 | -0.240680428  |  0.860741796  |  0.642029817  |  0.686358982  |  0.708856972  |  0.745148626  |  8.345815e-01 |  0.849321462  |  1.000000000  |  0.794804337  | ...           |  0.0316763007 | -0.089470439  | -0.069124038  |  6.457498e-03 |  0.0044202430 | -0.054060410  | -0.014894379  | -0.011588267  | -0.081316051  |  0.028205658  | \n",
       "| M8 | -0.072244970  |  0.839599682  |  0.643026517  |  0.644250983  |  0.713958543  |  0.709891777  |  7.338627e-01 |  0.779197854  |  0.794804337  |  1.000000000  | ...           | -0.0097164737 | -0.040809356  | -0.058556375  | -1.657479e-02 | -0.0071182545 | -0.047743647  | -0.006250393  |  0.001017671  | -0.078621011  | -0.013460114  | \n",
       "| M9 | -0.089725871  |  0.875747126  |  0.679790290  |  0.708924443  |  0.703590361  |  0.752177725  |  7.552515e-01 |  0.713942375  |  0.851613844  |  0.800474970  | ...           |  0.0370186256 | -0.067595629  | -0.042936660  | -6.265252e-04 | -0.0193891606 | -0.021989199  | -0.037790108  | -0.032596824  | -0.067610949  | -0.003365811  | \n",
       "| M10 | -0.057158986  |  0.905810045  |  0.716921182  |  0.765478715  |  0.777678867  |  0.745748761  |  7.948499e-01 |  0.754972315  |  0.812716490  |  0.764467603  | ...           | -0.0022815515 | -0.039038170  | -0.065187774  |  2.225670e-02 | -0.0109976731 | -0.037037957  | -0.051947738  | -0.033335948  | -0.012061798  |  0.012445439  | \n",
       "| M11 |  0.034977739  |  0.858830403  |  0.561979563  |  0.642752628  |  0.682595584  |  0.616834971  |  6.325162e-01 |  0.654742903  |  0.682260336  |  0.705772639  | ...           | -0.0161675727 |  0.021995082  | -0.040457068  | -6.812888e-04 | -0.0087223809 | -0.052500533  | -0.049478098  | -0.010474131  | -0.034982451  |  0.007298206  | \n",
       "| M12 |  0.072245496  |  0.770488338  |  0.369654417  |  0.384729472  |  0.493564368  |  0.549519934  |  5.264900e-01 |  0.583927026  |  0.570451823  |  0.602666279  | ...           | -0.0156224288 |  0.018537836  | -0.013068423  | -2.851455e-02 | -0.0087583580 | -0.016661338  | -0.030358272  | -0.027009728  | -0.032063134  |  0.003310543  | \n",
       "| M13 |  0.100915001  |  0.827320284  |  0.506229716  |  0.449699565  |  0.583386913  |  0.620482994  |  6.252905e-01 |  0.720225634  |  0.774977533  |  0.634779780  | ...           |  0.0192333456 | -0.013059530  | -0.003691570  | -1.097597e-02 | -0.0280952216 | -0.045014534  | -0.003010071  | -0.034681492  | -0.020006334  | -0.024459531  | \n",
       "| M14 |  0.027165439  |  0.908922756  |  0.482368531  |  0.355130034  |  0.654510042  |  0.689049799  |  6.432900e-01 |  0.762519778  |  0.838457618  |  0.771221013  | ...           | -0.0060129009 | -0.025007079  | -0.066082989  | -9.956883e-03 | -0.0609584870 | -0.078249313  | -0.029077888  | -0.007609216  | -0.078557765  | -0.023473847  | \n",
       "| M15 |  0.004207651  |  0.869255750  |  0.377141455  |  0.405429461  |  0.744627596  |  0.730370826  |  7.151273e-01 |  0.701854930  |  0.706132821  |  0.748030677  | ...           | -0.0104606469 | -0.018821738  | -0.067517949  |  2.917968e-02 | -0.0489875813 | -0.109872537  | -0.068310950  | -0.009166886  | -0.031446903  | -0.017727077  | \n",
       "| M16 |  0.008844576  |  0.933804656  |  0.473590370  |  0.478863338  |  0.872213236  |  0.909574399  |  7.778884e-01 |  0.795367662  |  0.885726637  |  0.863404598  | ...           | -0.0631871665 | -0.027873257  | -0.072245919  | -4.818387e-02 | -0.0898220939 | -0.118127202  | -0.100330737  | -0.051153045  | -0.075915354  | -0.024717185  | \n",
       "| total_axle_dist | -0.079497683  |  0.135859855  | -0.028918419  |  0.039643217  | -0.242990899  | -0.308329203  | -3.374440e-01 | -0.400490597  | -0.274082005  | -0.096495306  | ...           |  0.2324921342 |  0.258561517  |  0.237573715  |  2.534180e-01 |  0.2709598707 |  0.283010042  |  0.310276238  |  0.313332703  |  0.345289223  | -0.036004674  | \n",
       "| A1 |  0.116353785  | -0.024622738  |  0.236527425  |  0.110643654  | -0.017812793  | -0.048531917  | -3.791891e-02 | -0.051835657  |  0.009722356  |  0.031288541  | ...           |  0.0130648378 |  0.017740702  |  0.004761398  |  1.453828e-02 | -0.0354293114 |  0.002275511  |  0.033744496  |  0.033891983  |  0.076552410  | -0.003448323  | \n",
       "| A2 |  0.102682023  |  0.005667478  |  0.012389742  |  0.130891106  | -0.108599788  | -0.002150502  | -4.822343e-02 | -0.220727447  | -0.048351450  |  0.038904621  | ...           |  0.0466342878 |  0.028576290  | -0.058280462  |  8.312181e-03 | -0.0057387596 | -0.003087385  | -0.025331114  | -0.037612008  |  0.026616345  | -0.006751634  | \n",
       "| A3 |  0.058722066  | -0.179173962  | -0.169464018  | -0.252998476  | -0.076467311  | -0.219400927  | -1.189395e-01 |  0.140771002  | -0.111309492  | -0.052617649  | ...           | -0.0412196911 |  0.064865478  |  0.006696961  |  5.642055e-03 |  0.0228446181 |  0.046045392  | -0.014938303  |  0.038006615  |  0.045954300  | -0.032578966  | \n",
       "| A4 |  0.086556861  | -0.277425064  | -0.340369710  | -0.298400223  | -0.161657864  | -0.231315129  | -2.564908e-01 | -0.145435468  | -0.073677527  | -0.027616381  | ...           |  0.0280224133 |  0.029355887  |  0.019412008  | -7.637592e-03 |  0.0008243331 |  0.025552591  |  0.057120501  |  0.047011616  | -0.078045577  | -0.044921624  | \n",
       "| A5 |  0.050247038  | -0.193100138  | -0.222451077  | -0.173149575  | -0.249384361  | -0.138809834  | -1.812586e-01 | -0.263960118  |  0.050321088  |  0.123976081  | ...           |  0.1049765914 | -0.014789923  | -0.027139660  | -1.637967e-02 |  0.0104984382 |  0.010906480  | -0.007051487  |  0.040420849  |  0.045410849  | -0.030725764  | \n",
       "| A6 |  0.116576903  | -0.159585242  | -0.205939576  | -0.168383274  | -0.159389989  | -0.179393684  | -1.284431e-01 | -0.118051853  | -0.142250185  |  0.005847886  | ...           | -0.0534256753 |  0.081980496  |  0.019539646  | -1.074092e-02 |  0.0009934030 |  0.007953769  |  0.033194273  |  0.016106990  |  0.102983230  | -0.040789755  | \n",
       "| A7 |  0.083437036  | -0.002543893  | -0.002215160  |  0.009369731  | -0.024737112  | -0.005193232  | -1.205552e-02 | -0.026140382  |  0.031676301  | -0.009716474  | ...           |  1.0000000000 | -0.069173026  |  0.069465641  |  4.204183e-02 |  0.0001138056 |  0.020519586  | -0.003033857  |  0.078934610  |  0.118842281  | -0.003051419  | \n",
       "| A8 |  0.136614686  | -0.073678372  | -0.064321596  | -0.078000168  | -0.060169546  | -0.075019316  | -8.053583e-02 | -0.064218413  | -0.089470439  | -0.040809356  | ...           | -0.0691730257 |  1.000000000  | -0.038736157  |  9.687248e-02 |  0.0348166514 | -0.038114549  |  0.130411056  |  0.017800262  |  0.090562903  |  0.005889831  | \n",
       "| A9 |  0.134545995  | -0.066638167  | -0.054377753  | -0.069612642  | -0.042437703  | -0.058028944  | -7.334389e-02 | -0.050104475  | -0.069124038  | -0.058556375  | ...           |  0.0694656407 | -0.038736157  |  1.000000000  | -2.705535e-02 |  0.1161110213 |  0.041963027  | -0.025106216  |  0.022687758  |  0.001466723  | -0.017194704  | \n",
       "| A10 |  0.115900519  | -0.004276919  |  0.015832379  | -0.006376922  | -0.009185227  | -0.004877437  | -3.854691e-06 | -0.013430013  |  0.006457498  | -0.016574787  | ...           |  0.0420418307 |  0.096872477  | -0.027055353  |  1.000000e+00 | -0.0205369200 |  0.078637264  |  0.052978701  |  0.009487890  | -0.044658903  | -0.009371660  | \n",
       "| A11 |  0.106523169  | -0.007204351  |  0.004836275  |  0.007619465  |  0.024339928  | -0.005321371  |  2.202690e-02 | -0.003849276  |  0.004420243  | -0.007118254  | ...           |  0.0001138056 |  0.034816651  |  0.116111021  | -2.053692e-02 |  1.0000000000 | -0.033524244  |  0.063252129  |  0.048074333  |  0.017280576  | -0.001902796  | \n",
       "| A12 |  0.112389037  | -0.061194981  | -0.060013392  | -0.062319475  | -0.071736901  | -0.044966766  | -4.249786e-02 | -0.033918204  | -0.054060410  | -0.047743647  | ...           |  0.0205195861 | -0.038114549  |  0.041963027  |  7.863726e-02 | -0.0335242443 |  1.000000000  | -0.039972325  | -0.007240874  |  0.093873621  |  0.013696170  | \n",
       "| A13 |  0.100368173  | -0.033728110  | -0.019523216  | -0.027594232  | -0.004861836  | -0.013836661  | -3.789902e-02 | -0.022675774  | -0.014894379  | -0.006250393  | ...           | -0.0030338572 |  0.130411056  | -0.025106216  |  5.297870e-02 |  0.0632521285 | -0.039972325  |  1.000000000  |  0.015629045  | -0.032301293  |  0.004385866  | \n",
       "| A14 |  0.101242681  | -0.028510547  | -0.021288801  | -0.041651120  | -0.036004304  | -0.039917773  | -3.561883e-02 | -0.020535050  | -0.011588267  |  0.001017671  | ...           |  0.0789346096 |  0.017800262  |  0.022687758  |  9.487890e-03 |  0.0480743328 | -0.007240874  |  0.015629045  |  1.000000000  | -0.090639201  | -0.037695363  | \n",
       "| A15 |  0.188628304  | -0.055293319  | -0.062514329  | -0.034379149  | -0.069981749  | -0.053299066  | -9.145787e-03 | -0.023966584  | -0.081316051  | -0.078621011  | ...           |  0.1188422814 |  0.090562903  |  0.001466723  | -4.465890e-02 |  0.0172805759 |  0.093873621  | -0.032301293  | -0.090639201  |  1.000000000  | -0.001575416  | \n",
       "| T | -0.028304716  |  0.053808831  |  0.079833530  |  0.068642615  |  0.011403787  |  0.052298047  |  3.742512e-02 |  0.046661320  |  0.028205658  | -0.013460114  | ...           | -0.0030514186 |  0.005889831  | -0.017194704  | -9.371660e-03 | -0.0019027959 |  0.013696170  |  0.004385866  | -0.037695363  | -0.001575416  |  1.000000000  | \n",
       "\n",
       "\n"
      ],
      "text/plain": [
       "                Vitesse      MGV          M1           M2          \n",
       "Vitesse          1.000000000 -0.538865751 -0.122280045 -0.468274090\n",
       "MGV             -0.538865751  1.000000000  0.642427320  0.902100095\n",
       "M1              -0.122280045  0.642427320  1.000000000  0.663015126\n",
       "M2              -0.468274090  0.902100095  0.663015126  1.000000000\n",
       "M3              -0.506423890  0.823488240  0.469337171  0.669829678\n",
       "M4              -0.561632277  0.857177030  0.342722978  0.734164000\n",
       "M5              -0.626017365  0.928939462  0.447563606  0.794955144\n",
       "M6              -0.287794286  0.849476715  0.655861348  0.630781351\n",
       "M7              -0.240680428  0.860741796  0.642029817  0.686358982\n",
       "M8              -0.072244970  0.839599682  0.643026517  0.644250983\n",
       "M9              -0.089725871  0.875747126  0.679790290  0.708924443\n",
       "M10             -0.057158986  0.905810045  0.716921182  0.765478715\n",
       "M11              0.034977739  0.858830403  0.561979563  0.642752628\n",
       "M12              0.072245496  0.770488338  0.369654417  0.384729472\n",
       "M13              0.100915001  0.827320284  0.506229716  0.449699565\n",
       "M14              0.027165439  0.908922756  0.482368531  0.355130034\n",
       "M15              0.004207651  0.869255750  0.377141455  0.405429461\n",
       "M16              0.008844576  0.933804656  0.473590370  0.478863338\n",
       "total_axle_dist -0.079497683  0.135859855 -0.028918419  0.039643217\n",
       "A1               0.116353785 -0.024622738  0.236527425  0.110643654\n",
       "A2               0.102682023  0.005667478  0.012389742  0.130891106\n",
       "A3               0.058722066 -0.179173962 -0.169464018 -0.252998476\n",
       "A4               0.086556861 -0.277425064 -0.340369710 -0.298400223\n",
       "A5               0.050247038 -0.193100138 -0.222451077 -0.173149575\n",
       "A6               0.116576903 -0.159585242 -0.205939576 -0.168383274\n",
       "A7               0.083437036 -0.002543893 -0.002215160  0.009369731\n",
       "A8               0.136614686 -0.073678372 -0.064321596 -0.078000168\n",
       "A9               0.134545995 -0.066638167 -0.054377753 -0.069612642\n",
       "A10              0.115900519 -0.004276919  0.015832379 -0.006376922\n",
       "A11              0.106523169 -0.007204351  0.004836275  0.007619465\n",
       "A12              0.112389037 -0.061194981 -0.060013392 -0.062319475\n",
       "A13              0.100368173 -0.033728110 -0.019523216 -0.027594232\n",
       "A14              0.101242681 -0.028510547 -0.021288801 -0.041651120\n",
       "A15              0.188628304 -0.055293319 -0.062514329 -0.034379149\n",
       "T               -0.028304716  0.053808831  0.079833530  0.068642615\n",
       "                M3           M4           M5            M6          \n",
       "Vitesse         -0.506423890 -0.561632277 -6.260174e-01 -0.287794286\n",
       "MGV              0.823488240  0.857177030  9.289395e-01  0.849476715\n",
       "M1               0.469337171  0.342722978  4.475636e-01  0.655861348\n",
       "M2               0.669829678  0.734164000  7.949551e-01  0.630781351\n",
       "M3               1.000000000  0.726403672  8.618511e-01  0.818373362\n",
       "M4               0.726403672  1.000000000  8.238397e-01  0.714608458\n",
       "M5               0.861851117  0.823839658  1.000000e+00  0.856316530\n",
       "M6               0.818373362  0.714608458  8.563165e-01  1.000000000\n",
       "M7               0.708856972  0.745148626  8.345815e-01  0.849321462\n",
       "M8               0.713958543  0.709891777  7.338627e-01  0.779197854\n",
       "M9               0.703590361  0.752177725  7.552515e-01  0.713942375\n",
       "M10              0.777678867  0.745748761  7.948499e-01  0.754972315\n",
       "M11              0.682595584  0.616834971  6.325162e-01  0.654742903\n",
       "M12              0.493564368  0.549519934  5.264900e-01  0.583927026\n",
       "M13              0.583386913  0.620482994  6.252905e-01  0.720225634\n",
       "M14              0.654510042  0.689049799  6.432900e-01  0.762519778\n",
       "M15              0.744627596  0.730370826  7.151273e-01  0.701854930\n",
       "M16              0.872213236  0.909574399  7.778884e-01  0.795367662\n",
       "total_axle_dist -0.242990899 -0.308329203 -3.374440e-01 -0.400490597\n",
       "A1              -0.017812793 -0.048531917 -3.791891e-02 -0.051835657\n",
       "A2              -0.108599788 -0.002150502 -4.822343e-02 -0.220727447\n",
       "A3              -0.076467311 -0.219400927 -1.189395e-01  0.140771002\n",
       "A4              -0.161657864 -0.231315129 -2.564908e-01 -0.145435468\n",
       "A5              -0.249384361 -0.138809834 -1.812586e-01 -0.263960118\n",
       "A6              -0.159389989 -0.179393684 -1.284431e-01 -0.118051853\n",
       "A7              -0.024737112 -0.005193232 -1.205552e-02 -0.026140382\n",
       "A8              -0.060169546 -0.075019316 -8.053583e-02 -0.064218413\n",
       "A9              -0.042437703 -0.058028944 -7.334389e-02 -0.050104475\n",
       "A10             -0.009185227 -0.004877437 -3.854691e-06 -0.013430013\n",
       "A11              0.024339928 -0.005321371  2.202690e-02 -0.003849276\n",
       "A12             -0.071736901 -0.044966766 -4.249786e-02 -0.033918204\n",
       "A13             -0.004861836 -0.013836661 -3.789902e-02 -0.022675774\n",
       "A14             -0.036004304 -0.039917773 -3.561883e-02 -0.020535050\n",
       "A15             -0.069981749 -0.053299066 -9.145787e-03 -0.023966584\n",
       "T                0.011403787  0.052298047  3.742512e-02  0.046661320\n",
       "                M7           M8           ... A7            A8          \n",
       "Vitesse         -0.240680428 -0.072244970 ...  0.0834370360  0.136614686\n",
       "MGV              0.860741796  0.839599682 ... -0.0025438932 -0.073678372\n",
       "M1               0.642029817  0.643026517 ... -0.0022151601 -0.064321596\n",
       "M2               0.686358982  0.644250983 ...  0.0093697310 -0.078000168\n",
       "M3               0.708856972  0.713958543 ... -0.0247371121 -0.060169546\n",
       "M4               0.745148626  0.709891777 ... -0.0051932317 -0.075019316\n",
       "M5               0.834581520  0.733862727 ... -0.0120555242 -0.080535826\n",
       "M6               0.849321462  0.779197854 ... -0.0261403817 -0.064218413\n",
       "M7               1.000000000  0.794804337 ...  0.0316763007 -0.089470439\n",
       "M8               0.794804337  1.000000000 ... -0.0097164737 -0.040809356\n",
       "M9               0.851613844  0.800474970 ...  0.0370186256 -0.067595629\n",
       "M10              0.812716490  0.764467603 ... -0.0022815515 -0.039038170\n",
       "M11              0.682260336  0.705772639 ... -0.0161675727  0.021995082\n",
       "M12              0.570451823  0.602666279 ... -0.0156224288  0.018537836\n",
       "M13              0.774977533  0.634779780 ...  0.0192333456 -0.013059530\n",
       "M14              0.838457618  0.771221013 ... -0.0060129009 -0.025007079\n",
       "M15              0.706132821  0.748030677 ... -0.0104606469 -0.018821738\n",
       "M16              0.885726637  0.863404598 ... -0.0631871665 -0.027873257\n",
       "total_axle_dist -0.274082005 -0.096495306 ...  0.2324921342  0.258561517\n",
       "A1               0.009722356  0.031288541 ...  0.0130648378  0.017740702\n",
       "A2              -0.048351450  0.038904621 ...  0.0466342878  0.028576290\n",
       "A3              -0.111309492 -0.052617649 ... -0.0412196911  0.064865478\n",
       "A4              -0.073677527 -0.027616381 ...  0.0280224133  0.029355887\n",
       "A5               0.050321088  0.123976081 ...  0.1049765914 -0.014789923\n",
       "A6              -0.142250185  0.005847886 ... -0.0534256753  0.081980496\n",
       "A7               0.031676301 -0.009716474 ...  1.0000000000 -0.069173026\n",
       "A8              -0.089470439 -0.040809356 ... -0.0691730257  1.000000000\n",
       "A9              -0.069124038 -0.058556375 ...  0.0694656407 -0.038736157\n",
       "A10              0.006457498 -0.016574787 ...  0.0420418307  0.096872477\n",
       "A11              0.004420243 -0.007118254 ...  0.0001138056  0.034816651\n",
       "A12             -0.054060410 -0.047743647 ...  0.0205195861 -0.038114549\n",
       "A13             -0.014894379 -0.006250393 ... -0.0030338572  0.130411056\n",
       "A14             -0.011588267  0.001017671 ...  0.0789346096  0.017800262\n",
       "A15             -0.081316051 -0.078621011 ...  0.1188422814  0.090562903\n",
       "T                0.028205658 -0.013460114 ... -0.0030514186  0.005889831\n",
       "                A9           A10           A11           A12         \n",
       "Vitesse          0.134545995  1.159005e-01  0.1065231693  0.112389037\n",
       "MGV             -0.066638167 -4.276919e-03 -0.0072043513 -0.061194981\n",
       "M1              -0.054377753  1.583238e-02  0.0048362752 -0.060013392\n",
       "M2              -0.069612642 -6.376922e-03  0.0076194652 -0.062319475\n",
       "M3              -0.042437703 -9.185227e-03  0.0243399284 -0.071736901\n",
       "M4              -0.058028944 -4.877437e-03 -0.0053213712 -0.044966766\n",
       "M5              -0.073343890 -3.854691e-06  0.0220269042 -0.042497863\n",
       "M6              -0.050104475 -1.343001e-02 -0.0038492759 -0.033918204\n",
       "M7              -0.069124038  6.457498e-03  0.0044202430 -0.054060410\n",
       "M8              -0.058556375 -1.657479e-02 -0.0071182545 -0.047743647\n",
       "M9              -0.042936660 -6.265252e-04 -0.0193891606 -0.021989199\n",
       "M10             -0.065187774  2.225670e-02 -0.0109976731 -0.037037957\n",
       "M11             -0.040457068 -6.812888e-04 -0.0087223809 -0.052500533\n",
       "M12             -0.013068423 -2.851455e-02 -0.0087583580 -0.016661338\n",
       "M13             -0.003691570 -1.097597e-02 -0.0280952216 -0.045014534\n",
       "M14             -0.066082989 -9.956883e-03 -0.0609584870 -0.078249313\n",
       "M15             -0.067517949  2.917968e-02 -0.0489875813 -0.109872537\n",
       "M16             -0.072245919 -4.818387e-02 -0.0898220939 -0.118127202\n",
       "total_axle_dist  0.237573715  2.534180e-01  0.2709598707  0.283010042\n",
       "A1               0.004761398  1.453828e-02 -0.0354293114  0.002275511\n",
       "A2              -0.058280462  8.312181e-03 -0.0057387596 -0.003087385\n",
       "A3               0.006696961  5.642055e-03  0.0228446181  0.046045392\n",
       "A4               0.019412008 -7.637592e-03  0.0008243331  0.025552591\n",
       "A5              -0.027139660 -1.637967e-02  0.0104984382  0.010906480\n",
       "A6               0.019539646 -1.074092e-02  0.0009934030  0.007953769\n",
       "A7               0.069465641  4.204183e-02  0.0001138056  0.020519586\n",
       "A8              -0.038736157  9.687248e-02  0.0348166514 -0.038114549\n",
       "A9               1.000000000 -2.705535e-02  0.1161110213  0.041963027\n",
       "A10             -0.027055353  1.000000e+00 -0.0205369200  0.078637264\n",
       "A11              0.116111021 -2.053692e-02  1.0000000000 -0.033524244\n",
       "A12              0.041963027  7.863726e-02 -0.0335242443  1.000000000\n",
       "A13             -0.025106216  5.297870e-02  0.0632521285 -0.039972325\n",
       "A14              0.022687758  9.487890e-03  0.0480743328 -0.007240874\n",
       "A15              0.001466723 -4.465890e-02  0.0172805759  0.093873621\n",
       "T               -0.017194704 -9.371660e-03 -0.0019027959  0.013696170\n",
       "                A13          A14          A15          T           \n",
       "Vitesse          0.100368173  0.101242681  0.188628304 -0.028304716\n",
       "MGV             -0.033728110 -0.028510547 -0.055293319  0.053808831\n",
       "M1              -0.019523216 -0.021288801 -0.062514329  0.079833530\n",
       "M2              -0.027594232 -0.041651120 -0.034379149  0.068642615\n",
       "M3              -0.004861836 -0.036004304 -0.069981749  0.011403787\n",
       "M4              -0.013836661 -0.039917773 -0.053299066  0.052298047\n",
       "M5              -0.037899020 -0.035618833 -0.009145787  0.037425121\n",
       "M6              -0.022675774 -0.020535050 -0.023966584  0.046661320\n",
       "M7              -0.014894379 -0.011588267 -0.081316051  0.028205658\n",
       "M8              -0.006250393  0.001017671 -0.078621011 -0.013460114\n",
       "M9              -0.037790108 -0.032596824 -0.067610949 -0.003365811\n",
       "M10             -0.051947738 -0.033335948 -0.012061798  0.012445439\n",
       "M11             -0.049478098 -0.010474131 -0.034982451  0.007298206\n",
       "M12             -0.030358272 -0.027009728 -0.032063134  0.003310543\n",
       "M13             -0.003010071 -0.034681492 -0.020006334 -0.024459531\n",
       "M14             -0.029077888 -0.007609216 -0.078557765 -0.023473847\n",
       "M15             -0.068310950 -0.009166886 -0.031446903 -0.017727077\n",
       "M16             -0.100330737 -0.051153045 -0.075915354 -0.024717185\n",
       "total_axle_dist  0.310276238  0.313332703  0.345289223 -0.036004674\n",
       "A1               0.033744496  0.033891983  0.076552410 -0.003448323\n",
       "A2              -0.025331114 -0.037612008  0.026616345 -0.006751634\n",
       "A3              -0.014938303  0.038006615  0.045954300 -0.032578966\n",
       "A4               0.057120501  0.047011616 -0.078045577 -0.044921624\n",
       "A5              -0.007051487  0.040420849  0.045410849 -0.030725764\n",
       "A6               0.033194273  0.016106990  0.102983230 -0.040789755\n",
       "A7              -0.003033857  0.078934610  0.118842281 -0.003051419\n",
       "A8               0.130411056  0.017800262  0.090562903  0.005889831\n",
       "A9              -0.025106216  0.022687758  0.001466723 -0.017194704\n",
       "A10              0.052978701  0.009487890 -0.044658903 -0.009371660\n",
       "A11              0.063252129  0.048074333  0.017280576 -0.001902796\n",
       "A12             -0.039972325 -0.007240874  0.093873621  0.013696170\n",
       "A13              1.000000000  0.015629045 -0.032301293  0.004385866\n",
       "A14              0.015629045  1.000000000 -0.090639201 -0.037695363\n",
       "A15             -0.032301293 -0.090639201  1.000000000 -0.001575416\n",
       "T                0.004385866 -0.037695363 -0.001575416  1.000000000"
      ]
     },
     "metadata": {},
     "output_type": "display_data"
    }
   ],
   "source": [
    "cor(siwim_data_AFD, use = \"pairwise.complete.obs\")"
   ]
  },
  {
   "cell_type": "code",
   "execution_count": 35,
   "metadata": {
    "scrolled": true
   },
   "outputs": [
    {
     "data": {
      "image/png": "[encoded data removed]",
      "text/plain": [
       "plot without title"
      ]
     },
     "metadata": {},
     "output_type": "display_data"
    }
   ],
   "source": [
    "pairs(siwim_data[,.SD, .SDcols =c(\n",
    "  \"Vitesse\",\n",
    "  \"N\",\n",
    "  \"MGV\",\n",
    "  \"total_axle_dist\",\n",
    "  \"T\"\n",
    ")])"
   ]
  },
  {
   "cell_type": "code",
   "execution_count": 48,
   "metadata": {},
   "outputs": [
    {
     "data": {
      "text/html": [
       "<ol class=list-inline>\n",
       "\t<li>113</li>\n",
       "\t<li>40</li>\n",
       "\t<li>20</li>\n",
       "\t<li>113</li>\n",
       "\t<li>113</li>\n",
       "\t<li>74</li>\n",
       "</ol>\n"
      ],
      "text/latex": [
       "\\begin{enumerate*}\n",
       "\\item 113\n",
       "\\item 40\n",
       "\\item 20\n",
       "\\item 113\n",
       "\\item 113\n",
       "\\item 74\n",
       "\\end{enumerate*}\n"
      ],
      "text/markdown": [
       "1. 113\n",
       "2. 40\n",
       "3. 20\n",
       "4. 113\n",
       "5. 113\n",
       "6. 74\n",
       "\n",
       "\n"
      ],
      "text/plain": [
       "[1] 113 40  20  113 113 74 \n",
       "72 Levels: 10 100 101 102 103 104 110 111 113 114 115 116 120 121 122 ... 99"
      ]
     },
     "metadata": {},
     "output_type": "display_data"
    }
   ],
   "source": [
    "head(siwim_data$Subclass_ID)"
   ]
  },
  {
   "cell_type": "code",
   "execution_count": 9,
   "metadata": {},
   "outputs": [
    {
     "data": {
      "text/plain": [
       "Call:\n",
       "lda(Subclass_ID ~ ., data = siwim_data_AFD2, na.action = \"na.omit\")\n",
       "\n",
       "Prior probabilities of groups:\n",
       "          10          100          101          102          103          104 \n",
       "8.932843e-03 1.694685e-02 2.473794e-03 2.120395e-03 2.249250e-02 1.527772e-03 \n",
       "         110          111          113          114          115          116 \n",
       "1.751772e-02 1.417402e-02 3.953504e-01 3.642730e-04 1.631073e-04 3.262146e-05 \n",
       "         120          121          122          123          124          130 \n",
       "1.413597e-04 1.087382e-05 8.709930e-03 1.087382e-04 1.576704e-04 2.500979e-04 \n",
       "         131          132          133          134          136          140 \n",
       "4.458266e-04 1.087382e-05 1.196120e-04 2.462920e-03 2.066026e-04 5.796290e-02 \n",
       "          20           21           22           30           31           32 \n",
       "1.669675e-02 1.179809e-03 1.141751e-04 3.641642e-02 1.761559e-03 8.862163e-04 \n",
       "          33           40           41           50           51           52 \n",
       "1.342917e-03 6.152951e-02 5.067200e-02 2.772824e-04 4.110304e-03 1.902919e-04 \n",
       "          53           54           55           56           57           58 \n",
       "4.077683e-04 8.410900e-03 1.413597e-04 1.247771e-02 4.942151e-03 2.212822e-03 \n",
       "          60           61           62           63           64           70 \n",
       "4.458266e-03 1.078411e-01 6.752642e-03 1.174373e-03 8.046627e-04 8.590318e-04 \n",
       "          71           72           73           74           75           76 \n",
       "1.799617e-03 1.467966e-04 5.801183e-03 8.468531e-02 3.294768e-03 9.242747e-05 \n",
       "          77           78           79           80           81           82 \n",
       "4.023313e-04 1.685442e-04 8.264103e-04 1.022139e-03 1.297247e-02 2.903310e-03 \n",
       "          83           84           85           90           91           92 \n",
       "3.718847e-03 1.457092e-03 5.436910e-06 1.033013e-04 1.652821e-03 2.772824e-04 \n",
       "          93           94           95           96           98           99 \n",
       "1.250489e-04 3.805837e-05 1.631073e-05 1.087382e-04 2.718455e-05 1.087382e-05 \n",
       "\n",
       "Group means:\n",
       "     Vitesse        N       MGV total_axle_dist           T\n",
       "10  71.39909 2.000000  1.457654        1.503529   14.699750\n",
       "100 75.49757 3.003850 11.619503       10.414618   16.533240\n",
       "101 74.89054 3.000000  7.542394       11.557945   11.062348\n",
       "102 69.65265 4.000000 15.860682        9.708634   16.149327\n",
       "103 73.70539 4.000000 18.195840        9.834969   16.809884\n",
       "104 75.64652 4.000000 13.852148       10.876176   14.744813\n",
       "110 57.14013 5.000000 35.640240        9.635786   17.999697\n",
       "111 71.05186 5.000000 20.539130       11.804913   17.965305\n",
       "113 67.09798 5.000000 26.145553       12.023547   17.739267\n",
       "114 69.71384 5.000000 22.813775       13.194143   18.246246\n",
       "115 70.05584 6.000000 15.435052       13.473317    9.514667\n",
       "116 80.24622 6.000000  3.390378       17.165317   25.841117\n",
       "120 67.67839 5.000000 14.085349       11.299615   16.205640\n",
       "121 62.37882 5.000000 15.046332       12.183300   16.278350\n",
       "122 72.22433 5.000000 22.872239       11.926532   20.431017\n",
       "123 73.13947 5.000000 20.315152       13.558839   23.850756\n",
       "124 75.57989 4.000000  5.636593        9.681772   20.409083\n",
       "130 73.54262 6.282609 11.464015       16.065205  -63.858517\n",
       "131 65.08710 6.073171 26.983497       13.100028    4.673454\n",
       "132 76.65102 9.000000 15.646735       33.649200 -273.000000\n",
       "133 63.32855 6.000000 21.818854       12.275138    7.311286\n",
       "134 64.85567 6.000000 31.616961       12.791535   19.024227\n",
       "136 63.07616 7.000000 28.509083       14.760405   18.535215\n",
       "140 71.44604 7.148204  6.661816       22.287034    9.654514\n",
       "20  74.15037 2.000000  1.764182        2.514294   17.370528\n",
       "21  71.10980 3.000000  4.420608        7.201986   13.119894\n",
       "22  59.86066 4.000000  8.447192        8.345321   16.820159\n",
       "30  76.61593 2.000000  2.745370        3.672833   10.206642\n",
       "31  74.95987 3.000000  4.753373        8.392081   -2.414216\n",
       "32  72.89792 4.000000 16.636150       11.815605 -208.690788\n",
       "33  68.17719 5.000000 26.820655       12.107605 -273.000000\n",
       "40  75.12085 2.000000  6.746276        4.076455   17.342971\n",
       "41  76.11230 2.000000 13.518958        6.430382   17.414955\n",
       "50  66.48920 3.000000  6.496082        4.265902   21.223040\n",
       "51  71.80548 3.000000 13.830171        5.120052   13.385901\n",
       "52  78.28680 3.142857  4.541455        6.498529  -29.224763\n",
       "53  67.61696 3.106667 13.567846        6.316447    2.946264\n",
       "54  72.00200 3.000000 15.846483        6.021581   17.126291\n",
       "55  76.59964 3.000000  6.122002        6.546432    8.990919\n",
       "56  73.37777 3.000000 17.263133        7.607609   15.849771\n",
       "57  70.07814 4.000000 19.672415        6.163069   17.351031\n",
       "58  67.47229 4.000000 21.342664        7.605242   19.788948\n",
       "60  74.25928 3.000000  8.598467       10.423290   14.796728\n",
       "61  74.67203 4.000000 18.883159       12.747016   16.834305\n",
       "62  74.94627 4.000000 13.086646       14.861981   13.692544\n",
       "63  77.57470 3.000000  3.064319        7.162925   17.529281\n",
       "64  81.22782 4.000000  2.606129       11.864313   12.890575\n",
       "70  61.24646 5.000000 19.725784       16.127715   15.123966\n",
       "71  70.21400 5.000000 17.253594       16.025684   17.192811\n",
       "72  83.28140 5.000000  7.229065       17.370141    9.219142\n",
       "73  63.54267 5.000000 23.694218       13.965804   18.768043\n",
       "74  66.80355 5.000000 25.629606       12.831297   17.337818\n",
       "75  67.08103 6.000000 22.946200       16.631684   18.412924\n",
       "76  78.33943 6.000000 14.924081       17.140100   19.178429\n",
       "77  70.76238 6.000000  8.525644       17.138615    7.092787\n",
       "78  70.22062 7.000000  6.321111       18.722110   19.355490\n",
       "79  67.34081 7.000000  5.697108       18.065174   20.710089\n",
       "80  73.63478 3.962766 11.404140       12.775972    6.866668\n",
       "81  67.57489 4.999162 25.894277       14.162709   17.415604\n",
       "82  66.97626 4.986891 27.161776       14.672497   13.789438\n",
       "83  64.90452 5.000000 23.086817       15.574526   16.600124\n",
       "84  65.09083 6.000000 28.527496       14.673226   18.828532\n",
       "85  57.82572 8.000000  0.000000       18.039200   16.661700\n",
       "90  75.02127 5.736842  9.430778       17.533037  -54.331405\n",
       "91  65.54776 5.993421 28.088240       16.381313   15.411416\n",
       "92  68.36908 6.000000 11.193187       17.091314   19.001212\n",
       "93  67.76870 7.000000 11.494435       17.184248   20.250152\n",
       "94  63.15120 7.000000 32.332007       17.037214   24.425229\n",
       "95  53.00388 7.000000  0.000000       16.993933   19.072233\n",
       "96  54.86177 7.000000 35.313767       16.299770    3.077255\n",
       "98  66.88246 8.000000 16.240674       20.026520   21.593340\n",
       "99  76.47246 7.000000  1.514480       17.000300   23.409150\n",
       "\n",
       "Coefficients of linear discriminants:\n",
       "                          LD1           LD2         LD3          LD4\n",
       "Vitesse          0.0066562541 -0.0086306798 -0.03844610 -0.004117635\n",
       "N                1.6041608516 -1.0088128399  1.13427564  0.060506912\n",
       "MGV              0.0440802292 -0.0434078134 -0.10896417 -0.013442204\n",
       "total_axle_dist -0.1429713283  0.4551918629 -0.28288133 -0.004444432\n",
       "T               -0.0002266614 -0.0002865796 -0.00313385  0.034883572\n",
       "                         LD5\n",
       "Vitesse         -0.099368200\n",
       "N               -0.444396932\n",
       "MGV             -0.018115113\n",
       "total_axle_dist  0.104425090\n",
       "T               -0.000310018\n",
       "\n",
       "Proportion of trace:\n",
       "   LD1    LD2    LD3    LD4    LD5 \n",
       "0.6742 0.1905 0.0909 0.0398 0.0047 "
      ]
     },
     "metadata": {},
     "output_type": "display_data"
    }
   ],
   "source": [
    "# Linear Discriminant Analysis with Jacknifed Prediction\n",
    "library(MASS)\n",
    "siwim_data_AFD2 <- siwim_data[,.SD, .SDcols =c(\n",
    "  \"Subclass_ID\",\n",
    "  \"Vitesse\",\n",
    "  \"N\",\n",
    "  \"MGV\",\n",
    "  \"total_axle_dist\",\n",
    "  \"T\"\n",
    ")]\n",
    "fit <- lda(Subclass_ID ~ ., data=siwim_data_AFD2,\n",
    "   na.action=\"na.omit\")\n",
    "fit # show results "
   ]
  },
  {
   "cell_type": "code",
   "execution_count": 14,
   "metadata": {},
   "outputs": [
    {
     "data": {
      "image/png": "[encoded data removed]",
      "text/plain": [
       "plot without title"
      ]
     },
     "metadata": {},
     "output_type": "display_data"
    }
   ],
   "source": [
    "# Scatter plot using the 1st two discriminant dimensions\n",
    "plot(fit) # fit from lda"
   ]
  },
  {
   "cell_type": "code",
   "execution_count": 15,
   "metadata": {},
   "outputs": [
    {
     "data": {
      "text/html": [
       "<dl class=dl-horizontal>\n",
       "\t<dt>10</dt>\n",
       "\t\t<dd>0.131466828971394</dd>\n",
       "\t<dt>100</dt>\n",
       "\t\t<dd>0.122553737568175</dd>\n",
       "\t<dt>101</dt>\n",
       "\t\t<dd>0.0197802197802198</dd>\n",
       "\t<dt>102</dt>\n",
       "\t\t<dd>0</dd>\n",
       "\t<dt>103</dt>\n",
       "\t\t<dd>0.0050761421319797</dd>\n",
       "\t<dt>104</dt>\n",
       "\t\t<dd>0</dd>\n",
       "\t<dt>110</dt>\n",
       "\t\t<dd>0.0145872129112353</dd>\n",
       "\t<dt>111</dt>\n",
       "\t\t<dd>0</dd>\n",
       "\t<dt>113</dt>\n",
       "\t\t<dd>0.99547554871005</dd>\n",
       "\t<dt>114</dt>\n",
       "\t\t<dd>0</dd>\n",
       "\t<dt>115</dt>\n",
       "\t\t<dd>0</dd>\n",
       "\t<dt>116</dt>\n",
       "\t\t<dd>0</dd>\n",
       "\t<dt>120</dt>\n",
       "\t\t<dd>0</dd>\n",
       "\t<dt>121</dt>\n",
       "\t\t<dd>0</dd>\n",
       "\t<dt>122</dt>\n",
       "\t\t<dd>0</dd>\n",
       "\t<dt>123</dt>\n",
       "\t\t<dd>0</dd>\n",
       "\t<dt>124</dt>\n",
       "\t\t<dd>0</dd>\n",
       "\t<dt>130</dt>\n",
       "\t\t<dd>0</dd>\n",
       "\t<dt>131</dt>\n",
       "\t\t<dd>0</dd>\n",
       "\t<dt>132</dt>\n",
       "\t\t<dd>1</dd>\n",
       "\t<dt>133</dt>\n",
       "\t\t<dd>0</dd>\n",
       "\t<dt>134</dt>\n",
       "\t\t<dd>0</dd>\n",
       "\t<dt>136</dt>\n",
       "\t\t<dd>0</dd>\n",
       "\t<dt>140</dt>\n",
       "\t\t<dd>0.374730325485414</dd>\n",
       "\t<dt>20</dt>\n",
       "\t\t<dd>0.0556821882123087</dd>\n",
       "\t<dt>21</dt>\n",
       "\t\t<dd>0</dd>\n",
       "\t<dt>22</dt>\n",
       "\t\t<dd>0</dd>\n",
       "\t<dt>30</dt>\n",
       "\t\t<dd>0.00403105404598388</dd>\n",
       "\t<dt>31</dt>\n",
       "\t\t<dd>0</dd>\n",
       "\t<dt>32</dt>\n",
       "\t\t<dd>0.312883435582822</dd>\n",
       "\t<dt>33</dt>\n",
       "\t\t<dd>1</dd>\n",
       "\t<dt>40</dt>\n",
       "\t\t<dd>0.953256163294159</dd>\n",
       "\t<dt>41</dt>\n",
       "\t\t<dd>0.891952789699571</dd>\n",
       "\t<dt>50</dt>\n",
       "\t\t<dd>0</dd>\n",
       "\t<dt>51</dt>\n",
       "\t\t<dd>0</dd>\n",
       "\t<dt>52</dt>\n",
       "\t\t<dd>0</dd>\n",
       "\t<dt>53</dt>\n",
       "\t\t<dd>0</dd>\n",
       "\t<dt>54</dt>\n",
       "\t\t<dd>0</dd>\n",
       "\t<dt>55</dt>\n",
       "\t\t<dd>0</dd>\n",
       "\t<dt>56</dt>\n",
       "\t\t<dd>0</dd>\n",
       "\t<dt>57</dt>\n",
       "\t\t<dd>0.0055005500550055</dd>\n",
       "\t<dt>58</dt>\n",
       "\t\t<dd>0</dd>\n",
       "\t<dt>60</dt>\n",
       "\t\t<dd>0</dd>\n",
       "\t<dt>61</dt>\n",
       "\t\t<dd>0.979077388454752</dd>\n",
       "\t<dt>62</dt>\n",
       "\t\t<dd>0.0998389694041868</dd>\n",
       "\t<dt>63</dt>\n",
       "\t\t<dd>0</dd>\n",
       "\t<dt>64</dt>\n",
       "\t\t<dd>0</dd>\n",
       "\t<dt>70</dt>\n",
       "\t\t<dd>0</dd>\n",
       "\t<dt>71</dt>\n",
       "\t\t<dd>0</dd>\n",
       "\t<dt>72</dt>\n",
       "\t\t<dd>0</dd>\n",
       "\t<dt>73</dt>\n",
       "\t\t<dd>0</dd>\n",
       "\t<dt>74</dt>\n",
       "\t\t<dd>0</dd>\n",
       "\t<dt>75</dt>\n",
       "\t\t<dd>0</dd>\n",
       "\t<dt>76</dt>\n",
       "\t\t<dd>0</dd>\n",
       "\t<dt>77</dt>\n",
       "\t\t<dd>0</dd>\n",
       "\t<dt>78</dt>\n",
       "\t\t<dd>0</dd>\n",
       "\t<dt>79</dt>\n",
       "\t\t<dd>0.105263157894737</dd>\n",
       "\t<dt>80</dt>\n",
       "\t\t<dd>0</dd>\n",
       "\t<dt>81</dt>\n",
       "\t\t<dd>0</dd>\n",
       "\t<dt>82</dt>\n",
       "\t\t<dd>0</dd>\n",
       "\t<dt>83</dt>\n",
       "\t\t<dd>0</dd>\n",
       "\t<dt>84</dt>\n",
       "\t\t<dd>0</dd>\n",
       "\t<dt>85</dt>\n",
       "\t\t<dd>NaN</dd>\n",
       "\t<dt>90</dt>\n",
       "\t\t<dd>0</dd>\n",
       "\t<dt>91</dt>\n",
       "\t\t<dd>0</dd>\n",
       "\t<dt>92</dt>\n",
       "\t\t<dd>0</dd>\n",
       "\t<dt>93</dt>\n",
       "\t\t<dd>0</dd>\n",
       "\t<dt>94</dt>\n",
       "\t\t<dd>0</dd>\n",
       "\t<dt>95</dt>\n",
       "\t\t<dd>0</dd>\n",
       "\t<dt>96</dt>\n",
       "\t\t<dd>0</dd>\n",
       "\t<dt>98</dt>\n",
       "\t\t<dd>0</dd>\n",
       "\t<dt>99</dt>\n",
       "\t\t<dd>0</dd>\n",
       "</dl>\n"
      ],
      "text/latex": [
       "\\begin{description*}\n",
       "\\item[10] 0.131466828971394\n",
       "\\item[100] 0.122553737568175\n",
       "\\item[101] 0.0197802197802198\n",
       "\\item[102] 0\n",
       "\\item[103] 0.0050761421319797\n",
       "\\item[104] 0\n",
       "\\item[110] 0.0145872129112353\n",
       "\\item[111] 0\n",
       "\\item[113] 0.99547554871005\n",
       "\\item[114] 0\n",
       "\\item[115] 0\n",
       "\\item[116] 0\n",
       "\\item[120] 0\n",
       "\\item[121] 0\n",
       "\\item[122] 0\n",
       "\\item[123] 0\n",
       "\\item[124] 0\n",
       "\\item[130] 0\n",
       "\\item[131] 0\n",
       "\\item[132] 1\n",
       "\\item[133] 0\n",
       "\\item[134] 0\n",
       "\\item[136] 0\n",
       "\\item[140] 0.374730325485414\n",
       "\\item[20] 0.0556821882123087\n",
       "\\item[21] 0\n",
       "\\item[22] 0\n",
       "\\item[30] 0.00403105404598388\n",
       "\\item[31] 0\n",
       "\\item[32] 0.312883435582822\n",
       "\\item[33] 1\n",
       "\\item[40] 0.953256163294159\n",
       "\\item[41] 0.891952789699571\n",
       "\\item[50] 0\n",
       "\\item[51] 0\n",
       "\\item[52] 0\n",
       "\\item[53] 0\n",
       "\\item[54] 0\n",
       "\\item[55] 0\n",
       "\\item[56] 0\n",
       "\\item[57] 0.0055005500550055\n",
       "\\item[58] 0\n",
       "\\item[60] 0\n",
       "\\item[61] 0.979077388454752\n",
       "\\item[62] 0.0998389694041868\n",
       "\\item[63] 0\n",
       "\\item[64] 0\n",
       "\\item[70] 0\n",
       "\\item[71] 0\n",
       "\\item[72] 0\n",
       "\\item[73] 0\n",
       "\\item[74] 0\n",
       "\\item[75] 0\n",
       "\\item[76] 0\n",
       "\\item[77] 0\n",
       "\\item[78] 0\n",
       "\\item[79] 0.105263157894737\n",
       "\\item[80] 0\n",
       "\\item[81] 0\n",
       "\\item[82] 0\n",
       "\\item[83] 0\n",
       "\\item[84] 0\n",
       "\\item[85] NaN\n",
       "\\item[90] 0\n",
       "\\item[91] 0\n",
       "\\item[92] 0\n",
       "\\item[93] 0\n",
       "\\item[94] 0\n",
       "\\item[95] 0\n",
       "\\item[96] 0\n",
       "\\item[98] 0\n",
       "\\item[99] 0\n",
       "\\end{description*}\n"
      ],
      "text/markdown": [
       "10\n",
       ":   0.131466828971394100\n",
       ":   0.122553737568175101\n",
       ":   0.0197802197802198102\n",
       ":   0103\n",
       ":   0.0050761421319797104\n",
       ":   0110\n",
       ":   0.0145872129112353111\n",
       ":   0113\n",
       ":   0.99547554871005114\n",
       ":   0115\n",
       ":   0116\n",
       ":   0120\n",
       ":   0121\n",
       ":   0122\n",
       ":   0123\n",
       ":   0124\n",
       ":   0130\n",
       ":   0131\n",
       ":   0132\n",
       ":   1133\n",
       ":   0134\n",
       ":   0136\n",
       ":   0140\n",
       ":   0.37473032548541420\n",
       ":   0.055682188212308721\n",
       ":   022\n",
       ":   030\n",
       ":   0.0040310540459838831\n",
       ":   032\n",
       ":   0.31288343558282233\n",
       ":   140\n",
       ":   0.95325616329415941\n",
       ":   0.89195278969957150\n",
       ":   051\n",
       ":   052\n",
       ":   053\n",
       ":   054\n",
       ":   055\n",
       ":   056\n",
       ":   057\n",
       ":   0.005500550055005558\n",
       ":   060\n",
       ":   061\n",
       ":   0.97907738845475262\n",
       ":   0.099838969404186863\n",
       ":   064\n",
       ":   070\n",
       ":   071\n",
       ":   072\n",
       ":   073\n",
       ":   074\n",
       ":   075\n",
       ":   076\n",
       ":   077\n",
       ":   078\n",
       ":   079\n",
       ":   0.10526315789473780\n",
       ":   081\n",
       ":   082\n",
       ":   083\n",
       ":   084\n",
       ":   085\n",
       ":   NaN90\n",
       ":   091\n",
       ":   092\n",
       ":   093\n",
       ":   094\n",
       ":   095\n",
       ":   096\n",
       ":   098\n",
       ":   099\n",
       ":   0\n",
       "\n"
      ],
      "text/plain": [
       "         10         100         101         102         103         104 \n",
       "0.131466829 0.122553738 0.019780220 0.000000000 0.005076142 0.000000000 \n",
       "        110         111         113         114         115         116 \n",
       "0.014587213 0.000000000 0.995475549 0.000000000 0.000000000 0.000000000 \n",
       "        120         121         122         123         124         130 \n",
       "0.000000000 0.000000000 0.000000000 0.000000000 0.000000000 0.000000000 \n",
       "        131         132         133         134         136         140 \n",
       "0.000000000 1.000000000 0.000000000 0.000000000 0.000000000 0.374730325 \n",
       "         20          21          22          30          31          32 \n",
       "0.055682188 0.000000000 0.000000000 0.004031054 0.000000000 0.312883436 \n",
       "         33          40          41          50          51          52 \n",
       "1.000000000 0.953256163 0.891952790 0.000000000 0.000000000 0.000000000 \n",
       "         53          54          55          56          57          58 \n",
       "0.000000000 0.000000000 0.000000000 0.000000000 0.005500550 0.000000000 \n",
       "         60          61          62          63          64          70 \n",
       "0.000000000 0.979077388 0.099838969 0.000000000 0.000000000 0.000000000 \n",
       "         71          72          73          74          75          76 \n",
       "0.000000000 0.000000000 0.000000000 0.000000000 0.000000000 0.000000000 \n",
       "         77          78          79          80          81          82 \n",
       "0.000000000 0.000000000 0.105263158 0.000000000 0.000000000 0.000000000 \n",
       "         83          84          85          90          91          92 \n",
       "0.000000000 0.000000000         NaN 0.000000000 0.000000000 0.000000000 \n",
       "         93          94          95          96          98          99 \n",
       "0.000000000 0.000000000 0.000000000 0.000000000 0.000000000 0.000000000 "
      ]
     },
     "metadata": {},
     "output_type": "display_data"
    },
    {
     "data": {
      "text/html": [
       "0.63188656369103"
      ],
      "text/latex": [
       "0.63188656369103"
      ],
      "text/markdown": [
       "0.63188656369103"
      ],
      "text/plain": [
       "[1] 0.6318866"
      ]
     },
     "metadata": {},
     "output_type": "display_data"
    }
   ],
   "source": [
    "fit2 <- lda(Subclass_ID ~ ., data=siwim_data_AFD2,\n",
    "   na.action=\"na.omit\",  CV = TRUE)\n",
    "# Assess the accuracy of the prediction\n",
    "# percent correct for each category of Subclass ID\n",
    "ct <- table(siwim_data_AFD2$Subclass_ID, fit2$class)\n",
    "diag(prop.table(ct, 1))\n",
    "# total percent correct\n",
    "sum(diag(prop.table(ct)))"
   ]
  },
  {
   "cell_type": "markdown",
   "metadata": {},
   "source": [
    "## 9. Analyse temporelle"
   ]
  },
  {
   "cell_type": "code",
   "execution_count": 7,
   "metadata": {
    "scrolled": true
   },
   "outputs": [
    {
     "data": {
      "text/html": [
       "<table>\n",
       "<thead><tr><th scope=col>V1</th><th scope=col>Timestamp</th><th scope=col>Site_ID</th><th scope=col>Warning_flags</th><th scope=col>Lane</th><th scope=col>v</th><th scope=col>N</th><th scope=col>Subclass_ID</th><th scope=col>Axle_groups</th><th scope=col>WGV</th><th scope=col>...</th><th scope=col>M7</th><th scope=col>M8</th><th scope=col>M9</th><th scope=col>M10</th><th scope=col>M11</th><th scope=col>M12</th><th scope=col>M13</th><th scope=col>M14</th><th scope=col>M15</th><th scope=col>M16</th></tr></thead>\n",
       "<tbody>\n",
       "\t<tr><td>1966               </td><td>2017-11-23 18:59:49</td><td>Normandie          </td><td>00000000           </td><td>droite             </td><td>16.7869            </td><td> 5                 </td><td>113                </td><td>113                </td><td>374.8900           </td><td>...                </td><td>NA                 </td><td>NA                 </td><td>NA                 </td><td>NA                 </td><td>NA                 </td><td>NA                 </td><td>NA                 </td><td>NA                 </td><td>NA                 </td><td>NA                 </td></tr>\n",
       "\t<tr><td>1965               </td><td>2017-11-23 18:59:28</td><td>Normandie          </td><td>00000000           </td><td>droite             </td><td>25.2840            </td><td> 4                 </td><td>61                 </td><td>112                </td><td>173.0630           </td><td>...                </td><td>NA                 </td><td>NA                 </td><td>NA                 </td><td>NA                 </td><td>NA                 </td><td>NA                 </td><td>NA                 </td><td>NA                 </td><td>NA                 </td><td>NA                 </td></tr>\n",
       "\t<tr><td>1964               </td><td>2017-11-23 18:59:02</td><td>Normandie          </td><td>00008000           </td><td>droite             </td><td>22.3825            </td><td> 5                 </td><td>113                </td><td>113                </td><td> 80.7673           </td><td>...                </td><td>NA                 </td><td>NA                 </td><td>NA                 </td><td>NA                 </td><td>NA                 </td><td>NA                 </td><td>NA                 </td><td>NA                 </td><td>NA                 </td><td>NA                 </td></tr>\n",
       "\t<tr><td>1963               </td><td>2017-11-23 18:58:28</td><td>Normandie          </td><td>00000000           </td><td>droite             </td><td>19.7874            </td><td> 5                 </td><td>113                </td><td>113                </td><td>274.9940           </td><td>...                </td><td>NA                 </td><td>NA                 </td><td>NA                 </td><td>NA                 </td><td>NA                 </td><td>NA                 </td><td>NA                 </td><td>NA                 </td><td>NA                 </td><td>NA                 </td></tr>\n",
       "\t<tr><td>1962               </td><td>2017-11-23 18:58:21</td><td>Normandie          </td><td>00000000           </td><td>droite             </td><td>19.5048            </td><td> 5                 </td><td>113                </td><td>113                </td><td>332.3450           </td><td>...                </td><td>NA                 </td><td>NA                 </td><td>NA                 </td><td>NA                 </td><td>NA                 </td><td>NA                 </td><td>NA                 </td><td>NA                 </td><td>NA                 </td><td>NA                 </td></tr>\n",
       "\t<tr><td>1961               </td><td>2017-11-23 18:57:49</td><td>Normandie          </td><td>00000080           </td><td>droite             </td><td>21.7872            </td><td>11                 </td><td>140                </td><td>1112123            </td><td>  0.0000           </td><td>...                </td><td> 0                 </td><td> 0                 </td><td> 0                 </td><td> 0                 </td><td> 0                 </td><td>NA                 </td><td>NA                 </td><td>NA                 </td><td>NA                 </td><td>NA                 </td></tr>\n",
       "</tbody>\n",
       "</table>\n"
      ],
      "text/latex": [
       "\\begin{tabular}{r|lllllllllllllllllllllllllllllllllllllllllllllllllllllllllllllllll}\n",
       " V1 & Timestamp & Site\\_ID & Warning\\_flags & Lane & v & N & Subclass\\_ID & Axle\\_groups & WGV & ... & M7 & M8 & M9 & M10 & M11 & M12 & M13 & M14 & M15 & M16\\\\\n",
       "\\hline\n",
       "\t 1966                & 2017-11-23 18:59:49 & Normandie           & 00000000            & droite              & 16.7869             &  5                  & 113                 & 113                 & 374.8900            & ...                 & NA                  & NA                  & NA                  & NA                  & NA                  & NA                  & NA                  & NA                  & NA                  & NA                 \\\\\n",
       "\t 1965                & 2017-11-23 18:59:28 & Normandie           & 00000000            & droite              & 25.2840             &  4                  & 61                  & 112                 & 173.0630            & ...                 & NA                  & NA                  & NA                  & NA                  & NA                  & NA                  & NA                  & NA                  & NA                  & NA                 \\\\\n",
       "\t 1964                & 2017-11-23 18:59:02 & Normandie           & 00008000            & droite              & 22.3825             &  5                  & 113                 & 113                 &  80.7673            & ...                 & NA                  & NA                  & NA                  & NA                  & NA                  & NA                  & NA                  & NA                  & NA                  & NA                 \\\\\n",
       "\t 1963                & 2017-11-23 18:58:28 & Normandie           & 00000000            & droite              & 19.7874             &  5                  & 113                 & 113                 & 274.9940            & ...                 & NA                  & NA                  & NA                  & NA                  & NA                  & NA                  & NA                  & NA                  & NA                  & NA                 \\\\\n",
       "\t 1962                & 2017-11-23 18:58:21 & Normandie           & 00000000            & droite              & 19.5048             &  5                  & 113                 & 113                 & 332.3450            & ...                 & NA                  & NA                  & NA                  & NA                  & NA                  & NA                  & NA                  & NA                  & NA                  & NA                 \\\\\n",
       "\t 1961                & 2017-11-23 18:57:49 & Normandie           & 00000080            & droite              & 21.7872             & 11                  & 140                 & 1112123             &   0.0000            & ...                 &  0                  &  0                  &  0                  &  0                  &  0                  & NA                  & NA                  & NA                  & NA                  & NA                 \\\\\n",
       "\\end{tabular}\n"
      ],
      "text/markdown": [
       "\n",
       "V1 | Timestamp | Site_ID | Warning_flags | Lane | v | N | Subclass_ID | Axle_groups | WGV | ... | M7 | M8 | M9 | M10 | M11 | M12 | M13 | M14 | M15 | M16 | \n",
       "|---|---|---|---|---|---|\n",
       "| 1966                | 2017-11-23 18:59:49 | Normandie           | 00000000            | droite              | 16.7869             |  5                  | 113                 | 113                 | 374.8900            | ...                 | NA                  | NA                  | NA                  | NA                  | NA                  | NA                  | NA                  | NA                  | NA                  | NA                  | \n",
       "| 1965                | 2017-11-23 18:59:28 | Normandie           | 00000000            | droite              | 25.2840             |  4                  | 61                  | 112                 | 173.0630            | ...                 | NA                  | NA                  | NA                  | NA                  | NA                  | NA                  | NA                  | NA                  | NA                  | NA                  | \n",
       "| 1964                | 2017-11-23 18:59:02 | Normandie           | 00008000            | droite              | 22.3825             |  5                  | 113                 | 113                 |  80.7673            | ...                 | NA                  | NA                  | NA                  | NA                  | NA                  | NA                  | NA                  | NA                  | NA                  | NA                  | \n",
       "| 1963                | 2017-11-23 18:58:28 | Normandie           | 00000000            | droite              | 19.7874             |  5                  | 113                 | 113                 | 274.9940            | ...                 | NA                  | NA                  | NA                  | NA                  | NA                  | NA                  | NA                  | NA                  | NA                  | NA                  | \n",
       "| 1962                | 2017-11-23 18:58:21 | Normandie           | 00000000            | droite              | 19.5048             |  5                  | 113                 | 113                 | 332.3450            | ...                 | NA                  | NA                  | NA                  | NA                  | NA                  | NA                  | NA                  | NA                  | NA                  | NA                  | \n",
       "| 1961                | 2017-11-23 18:57:49 | Normandie           | 00000080            | droite              | 21.7872             | 11                  | 140                 | 1112123             |   0.0000            | ...                 |  0                  |  0                  |  0                  |  0                  |  0                  | NA                  | NA                  | NA                  | NA                  | NA                  | \n",
       "\n",
       "\n"
      ],
      "text/plain": [
       "  V1   Timestamp           Site_ID   Warning_flags Lane   v       N \n",
       "1 1966 2017-11-23 18:59:49 Normandie 00000000      droite 16.7869  5\n",
       "2 1965 2017-11-23 18:59:28 Normandie 00000000      droite 25.2840  4\n",
       "3 1964 2017-11-23 18:59:02 Normandie 00008000      droite 22.3825  5\n",
       "4 1963 2017-11-23 18:58:28 Normandie 00000000      droite 19.7874  5\n",
       "5 1962 2017-11-23 18:58:21 Normandie 00000000      droite 19.5048  5\n",
       "6 1961 2017-11-23 18:57:49 Normandie 00000080      droite 21.7872 11\n",
       "  Subclass_ID Axle_groups WGV      ... M7 M8 M9 M10 M11 M12 M13 M14 M15 M16\n",
       "1 113         113         374.8900 ... NA NA NA NA  NA  NA  NA  NA  NA  NA \n",
       "2 61          112         173.0630 ... NA NA NA NA  NA  NA  NA  NA  NA  NA \n",
       "3 113         113          80.7673 ... NA NA NA NA  NA  NA  NA  NA  NA  NA \n",
       "4 113         113         274.9940 ... NA NA NA NA  NA  NA  NA  NA  NA  NA \n",
       "5 113         113         332.3450 ... NA NA NA NA  NA  NA  NA  NA  NA  NA \n",
       "6 140         1112123       0.0000 ...  0  0  0  0   0  NA  NA  NA  NA  NA "
      ]
     },
     "metadata": {},
     "output_type": "display_data"
    }
   ],
   "source": [
    "head(siwim_data[order(-Timestamp)])"
   ]
  },
  {
   "cell_type": "code",
   "execution_count": 39,
   "metadata": {},
   "outputs": [
    {
     "data": {},
     "metadata": {},
     "output_type": "display_data"
    }
   ],
   "source": [
    "## Get days of the week for each point\n",
    "siwim_data[, weekday := format(siwim_data$Timestamp, format = \"%A\")]"
   ]
  },
  {
   "cell_type": "code",
   "execution_count": 45,
   "metadata": {
    "collapsed": true
   },
   "outputs": [],
   "source": [
    "## New data table with number and weight by day and hour of the week\n",
    "siwim_data_dayhour <- siwim_data[,.(.N, sum(MGV)), by = .(weekday, substr(Horaire,1,2))]\n",
    "setnames(siwim_data_dayhour, ##Change 2 column names (invisible)\n",
    "c(\"substr\",\"N\",\"V2\"),\n",
    "c(\"Hour\",\"Number\",\"Total_weight\"))"
   ]
  },
  {
   "cell_type": "code",
   "execution_count": 46,
   "metadata": {},
   "outputs": [
    {
     "data": {},
     "metadata": {},
     "output_type": "display_data"
    },
    {
     "data": {},
     "metadata": {},
     "output_type": "display_data"
    },
    {
     "data": {
      "text/html": [
       "<table>\n",
       "<thead><tr><th scope=col>weekday</th><th scope=col>Hour</th><th scope=col>Number</th><th scope=col>Total_weight</th></tr></thead>\n",
       "<tbody>\n",
       "\t<tr><td>jeudi    </td><td>0        </td><td>203      </td><td> 4801.034</td></tr>\n",
       "\t<tr><td>jeudi    </td><td>1        </td><td>149      </td><td> 3856.368</td></tr>\n",
       "\t<tr><td>jeudi    </td><td>2        </td><td>211      </td><td> 5275.293</td></tr>\n",
       "\t<tr><td>jeudi    </td><td>3        </td><td>346      </td><td> 8139.389</td></tr>\n",
       "\t<tr><td>jeudi    </td><td>4        </td><td>451      </td><td> 9110.968</td></tr>\n",
       "\t<tr><td>jeudi    </td><td>5        </td><td>828      </td><td>17370.106</td></tr>\n",
       "</tbody>\n",
       "</table>\n"
      ],
      "text/latex": [
       "\\begin{tabular}{r|llll}\n",
       " weekday & Hour & Number & Total\\_weight\\\\\n",
       "\\hline\n",
       "\t jeudi     & 0         & 203       &  4801.034\\\\\n",
       "\t jeudi     & 1         & 149       &  3856.368\\\\\n",
       "\t jeudi     & 2         & 211       &  5275.293\\\\\n",
       "\t jeudi     & 3         & 346       &  8139.389\\\\\n",
       "\t jeudi     & 4         & 451       &  9110.968\\\\\n",
       "\t jeudi     & 5         & 828       & 17370.106\\\\\n",
       "\\end{tabular}\n"
      ],
      "text/markdown": [
       "\n",
       "weekday | Hour | Number | Total_weight | \n",
       "|---|---|---|---|---|---|\n",
       "| jeudi     | 0         | 203       |  4801.034 | \n",
       "| jeudi     | 1         | 149       |  3856.368 | \n",
       "| jeudi     | 2         | 211       |  5275.293 | \n",
       "| jeudi     | 3         | 346       |  8139.389 | \n",
       "| jeudi     | 4         | 451       |  9110.968 | \n",
       "| jeudi     | 5         | 828       | 17370.106 | \n",
       "\n",
       "\n"
      ],
      "text/plain": [
       "  weekday Hour Number Total_weight\n",
       "1 jeudi   0    203     4801.034   \n",
       "2 jeudi   1    149     3856.368   \n",
       "3 jeudi   2    211     5275.293   \n",
       "4 jeudi   3    346     8139.389   \n",
       "5 jeudi   4    451     9110.968   \n",
       "6 jeudi   5    828    17370.106   "
      ]
     },
     "metadata": {},
     "output_type": "display_data"
    }
   ],
   "source": [
    "## Refactor levels and set numeric values\n",
    "siwim_data_dayhour[, weekday := factor(siwim_data_dayhour$weekday,levels= c(\"dimanche\", \"lundi\", \n",
    "\"mardi\", \"mercredi\", \"jeudi\", \"vendredi\", \"samedi\"), ordered = TRUE)]\n",
    "siwim_data_dayhour[, Hour := as.numeric(siwim_data_dayhour$Hour)]\n",
    "head(siwim_data_dayhour)"
   ]
  },
  {
   "cell_type": "code",
   "execution_count": 47,
   "metadata": {},
   "outputs": [
    {
     "data": {
      "text/html": [
       "<table>\n",
       "<thead><tr><th scope=col>weekday</th><th scope=col>Hour</th><th scope=col>Number</th><th scope=col>Total_weight</th></tr></thead>\n",
       "<tbody>\n",
       "\t<tr><td>dimanche</td><td>0       </td><td>30      </td><td>514.1544</td></tr>\n",
       "\t<tr><td>dimanche</td><td>1       </td><td>25      </td><td>485.0922</td></tr>\n",
       "\t<tr><td>dimanche</td><td>2       </td><td>19      </td><td>326.8657</td></tr>\n",
       "\t<tr><td>dimanche</td><td>3       </td><td>17      </td><td>272.4908</td></tr>\n",
       "\t<tr><td>dimanche</td><td>4       </td><td>27      </td><td>414.2462</td></tr>\n",
       "\t<tr><td>dimanche</td><td>5       </td><td>11      </td><td>268.0125</td></tr>\n",
       "</tbody>\n",
       "</table>\n"
      ],
      "text/latex": [
       "\\begin{tabular}{r|llll}\n",
       " weekday & Hour & Number & Total\\_weight\\\\\n",
       "\\hline\n",
       "\t dimanche & 0        & 30       & 514.1544\\\\\n",
       "\t dimanche & 1        & 25       & 485.0922\\\\\n",
       "\t dimanche & 2        & 19       & 326.8657\\\\\n",
       "\t dimanche & 3        & 17       & 272.4908\\\\\n",
       "\t dimanche & 4        & 27       & 414.2462\\\\\n",
       "\t dimanche & 5        & 11       & 268.0125\\\\\n",
       "\\end{tabular}\n"
      ],
      "text/markdown": [
       "\n",
       "weekday | Hour | Number | Total_weight | \n",
       "|---|---|---|---|---|---|\n",
       "| dimanche | 0        | 30       | 514.1544 | \n",
       "| dimanche | 1        | 25       | 485.0922 | \n",
       "| dimanche | 2        | 19       | 326.8657 | \n",
       "| dimanche | 3        | 17       | 272.4908 | \n",
       "| dimanche | 4        | 27       | 414.2462 | \n",
       "| dimanche | 5        | 11       | 268.0125 | \n",
       "\n",
       "\n"
      ],
      "text/plain": [
       "  weekday  Hour Number Total_weight\n",
       "1 dimanche 0    30     514.1544    \n",
       "2 dimanche 1    25     485.0922    \n",
       "3 dimanche 2    19     326.8657    \n",
       "4 dimanche 3    17     272.4908    \n",
       "5 dimanche 4    27     414.2462    \n",
       "6 dimanche 5    11     268.0125    "
      ]
     },
     "metadata": {},
     "output_type": "display_data"
    }
   ],
   "source": [
    "## Show ordered values in the week\n",
    "siwim_data_dayhour <- siwim_data_dayhour[order(weekday, Hour)]\n",
    "head(siwim_data_dayhour)"
   ]
  },
  {
   "cell_type": "code",
   "execution_count": 48,
   "metadata": {},
   "outputs": [
    {
     "data": {},
     "metadata": {},
     "output_type": "display_data"
    },
    {
     "data": {},
     "metadata": {},
     "output_type": "display_data"
    },
    {
     "data": {
      "text/html": [
       "<table>\n",
       "<thead><tr><th scope=col>weekday</th><th scope=col>Hour</th><th scope=col>Number</th><th scope=col>Total_weight</th><th scope=col>weekday_hour</th></tr></thead>\n",
       "<tbody>\n",
       "\t<tr><td>dimanche  </td><td>0         </td><td>30        </td><td>514.1544  </td><td>dimanche 0</td></tr>\n",
       "\t<tr><td>dimanche  </td><td>1         </td><td>25        </td><td>485.0922  </td><td>dimanche 1</td></tr>\n",
       "\t<tr><td>dimanche  </td><td>2         </td><td>19        </td><td>326.8657  </td><td>dimanche 2</td></tr>\n",
       "\t<tr><td>dimanche  </td><td>3         </td><td>17        </td><td>272.4908  </td><td>dimanche 3</td></tr>\n",
       "\t<tr><td>dimanche  </td><td>4         </td><td>27        </td><td>414.2462  </td><td>dimanche 4</td></tr>\n",
       "\t<tr><td>dimanche  </td><td>5         </td><td>11        </td><td>268.0125  </td><td>dimanche 5</td></tr>\n",
       "</tbody>\n",
       "</table>\n"
      ],
      "text/latex": [
       "\\begin{tabular}{r|lllll}\n",
       " weekday & Hour & Number & Total\\_weight & weekday\\_hour\\\\\n",
       "\\hline\n",
       "\t dimanche   & 0          & 30         & 514.1544   & dimanche 0\\\\\n",
       "\t dimanche   & 1          & 25         & 485.0922   & dimanche 1\\\\\n",
       "\t dimanche   & 2          & 19         & 326.8657   & dimanche 2\\\\\n",
       "\t dimanche   & 3          & 17         & 272.4908   & dimanche 3\\\\\n",
       "\t dimanche   & 4          & 27         & 414.2462   & dimanche 4\\\\\n",
       "\t dimanche   & 5          & 11         & 268.0125   & dimanche 5\\\\\n",
       "\\end{tabular}\n"
      ],
      "text/markdown": [
       "\n",
       "weekday | Hour | Number | Total_weight | weekday_hour | \n",
       "|---|---|---|---|---|---|\n",
       "| dimanche   | 0          | 30         | 514.1544   | dimanche 0 | \n",
       "| dimanche   | 1          | 25         | 485.0922   | dimanche 1 | \n",
       "| dimanche   | 2          | 19         | 326.8657   | dimanche 2 | \n",
       "| dimanche   | 3          | 17         | 272.4908   | dimanche 3 | \n",
       "| dimanche   | 4          | 27         | 414.2462   | dimanche 4 | \n",
       "| dimanche   | 5          | 11         | 268.0125   | dimanche 5 | \n",
       "\n",
       "\n"
      ],
      "text/plain": [
       "  weekday  Hour Number Total_weight weekday_hour\n",
       "1 dimanche 0    30     514.1544     dimanche 0  \n",
       "2 dimanche 1    25     485.0922     dimanche 1  \n",
       "3 dimanche 2    19     326.8657     dimanche 2  \n",
       "4 dimanche 3    17     272.4908     dimanche 3  \n",
       "5 dimanche 4    27     414.2462     dimanche 4  \n",
       "6 dimanche 5    11     268.0125     dimanche 5  "
      ]
     },
     "metadata": {},
     "output_type": "display_data"
    }
   ],
   "source": [
    "## Concatenate dayas and hours\n",
    "siwim_data_dayhour[, weekday_hour := paste(siwim_data_dayhour$weekday,siwim_data_dayhour$Hour)]\n",
    "siwim_data_dayhour[, weekday_hour := factor(siwim_data_dayhour$weekday_hour, ordered = TRUE)]\n",
    "#Set a good order for days and hours\n",
    "siwim_data_dayhour$weekday_hour <- factor(siwim_data_dayhour$weekday_hour, levels(siwim_data_dayhour$weekday_hour)[siwim_data_dayhour$weekday_hour])\n",
    "#siwim_data_dayhour[,c(\"weekday\",\"Hour\") := NULL]\n",
    "head(siwim_data_dayhour)"
   ]
  },
  {
   "cell_type": "code",
   "execution_count": 49,
   "metadata": {},
   "outputs": [
    {
     "data": {
      "text/html": [
       "<ol class=list-inline>\n",
       "\t<li>'dimanche 0'</li>\n",
       "\t<li>'dimanche 1'</li>\n",
       "\t<li>'dimanche 2'</li>\n",
       "\t<li>'dimanche 3'</li>\n",
       "\t<li>'dimanche 4'</li>\n",
       "\t<li>'dimanche 5'</li>\n",
       "\t<li>'dimanche 6'</li>\n",
       "\t<li>'dimanche 7'</li>\n",
       "\t<li>'dimanche 8'</li>\n",
       "\t<li>'dimanche 9'</li>\n",
       "\t<li>'dimanche 10'</li>\n",
       "\t<li>'dimanche 11'</li>\n",
       "\t<li>'dimanche 12'</li>\n",
       "\t<li>'dimanche 13'</li>\n",
       "\t<li>'dimanche 14'</li>\n",
       "\t<li>'dimanche 15'</li>\n",
       "\t<li>'dimanche 16'</li>\n",
       "\t<li>'dimanche 17'</li>\n",
       "\t<li>'dimanche 18'</li>\n",
       "\t<li>'dimanche 19'</li>\n",
       "\t<li>'dimanche 20'</li>\n",
       "\t<li>'dimanche 21'</li>\n",
       "\t<li>'dimanche 22'</li>\n",
       "\t<li>'dimanche 23'</li>\n",
       "\t<li>'lundi 0'</li>\n",
       "\t<li>'lundi 1'</li>\n",
       "\t<li>'lundi 2'</li>\n",
       "\t<li>'lundi 3'</li>\n",
       "\t<li>'lundi 4'</li>\n",
       "\t<li>'lundi 5'</li>\n",
       "\t<li>'lundi 6'</li>\n",
       "\t<li>'lundi 7'</li>\n",
       "\t<li>'lundi 8'</li>\n",
       "\t<li>'lundi 9'</li>\n",
       "\t<li>'lundi 10'</li>\n",
       "\t<li>'lundi 11'</li>\n",
       "\t<li>'lundi 12'</li>\n",
       "\t<li>'lundi 13'</li>\n",
       "\t<li>'lundi 14'</li>\n",
       "\t<li>'lundi 15'</li>\n",
       "\t<li>'lundi 16'</li>\n",
       "\t<li>'lundi 17'</li>\n",
       "\t<li>'lundi 18'</li>\n",
       "\t<li>'lundi 19'</li>\n",
       "\t<li>'lundi 20'</li>\n",
       "\t<li>'lundi 21'</li>\n",
       "\t<li>'lundi 22'</li>\n",
       "\t<li>'lundi 23'</li>\n",
       "\t<li>'mardi 0'</li>\n",
       "\t<li>'mardi 1'</li>\n",
       "\t<li>'mardi 2'</li>\n",
       "\t<li>'mardi 3'</li>\n",
       "\t<li>'mardi 4'</li>\n",
       "\t<li>'mardi 5'</li>\n",
       "\t<li>'mardi 6'</li>\n",
       "\t<li>'mardi 7'</li>\n",
       "\t<li>'mardi 8'</li>\n",
       "\t<li>'mardi 9'</li>\n",
       "\t<li>'mardi 10'</li>\n",
       "\t<li>'mardi 11'</li>\n",
       "\t<li>'mardi 12'</li>\n",
       "\t<li>'mardi 13'</li>\n",
       "\t<li>'mardi 14'</li>\n",
       "\t<li>'mardi 15'</li>\n",
       "\t<li>'mardi 16'</li>\n",
       "\t<li>'mardi 17'</li>\n",
       "\t<li>'mardi 18'</li>\n",
       "\t<li>'mardi 19'</li>\n",
       "\t<li>'mardi 20'</li>\n",
       "\t<li>'mardi 21'</li>\n",
       "\t<li>'mardi 22'</li>\n",
       "\t<li>'mardi 23'</li>\n",
       "\t<li>'mercredi 0'</li>\n",
       "\t<li>'mercredi 1'</li>\n",
       "\t<li>'mercredi 2'</li>\n",
       "\t<li>'mercredi 3'</li>\n",
       "\t<li>'mercredi 4'</li>\n",
       "\t<li>'mercredi 5'</li>\n",
       "\t<li>'mercredi 6'</li>\n",
       "\t<li>'mercredi 7'</li>\n",
       "\t<li>'mercredi 8'</li>\n",
       "\t<li>'mercredi 9'</li>\n",
       "\t<li>'mercredi 10'</li>\n",
       "\t<li>'mercredi 11'</li>\n",
       "\t<li>'mercredi 12'</li>\n",
       "\t<li>'mercredi 13'</li>\n",
       "\t<li>'mercredi 14'</li>\n",
       "\t<li>'mercredi 15'</li>\n",
       "\t<li>'mercredi 16'</li>\n",
       "\t<li>'mercredi 17'</li>\n",
       "\t<li>'mercredi 18'</li>\n",
       "\t<li>'mercredi 19'</li>\n",
       "\t<li>'mercredi 20'</li>\n",
       "\t<li>'mercredi 21'</li>\n",
       "\t<li>'mercredi 22'</li>\n",
       "\t<li>'mercredi 23'</li>\n",
       "\t<li>'jeudi 0'</li>\n",
       "\t<li>'jeudi 1'</li>\n",
       "\t<li>'jeudi 2'</li>\n",
       "\t<li>'jeudi 3'</li>\n",
       "\t<li>'jeudi 4'</li>\n",
       "\t<li>'jeudi 5'</li>\n",
       "\t<li>'jeudi 6'</li>\n",
       "\t<li>'jeudi 7'</li>\n",
       "\t<li>'jeudi 8'</li>\n",
       "\t<li>'jeudi 9'</li>\n",
       "\t<li>'jeudi 10'</li>\n",
       "\t<li>'jeudi 11'</li>\n",
       "\t<li>'jeudi 12'</li>\n",
       "\t<li>'jeudi 13'</li>\n",
       "\t<li>'jeudi 14'</li>\n",
       "\t<li>'jeudi 15'</li>\n",
       "\t<li>'jeudi 16'</li>\n",
       "\t<li>'jeudi 17'</li>\n",
       "\t<li>'jeudi 18'</li>\n",
       "\t<li>'jeudi 19'</li>\n",
       "\t<li>'jeudi 20'</li>\n",
       "\t<li>'jeudi 21'</li>\n",
       "\t<li>'jeudi 22'</li>\n",
       "\t<li>'jeudi 23'</li>\n",
       "\t<li>'vendredi 0'</li>\n",
       "\t<li>'vendredi 1'</li>\n",
       "\t<li>'vendredi 2'</li>\n",
       "\t<li>'vendredi 3'</li>\n",
       "\t<li>'vendredi 4'</li>\n",
       "\t<li>'vendredi 5'</li>\n",
       "\t<li>'vendredi 6'</li>\n",
       "\t<li>'vendredi 7'</li>\n",
       "\t<li>'vendredi 8'</li>\n",
       "\t<li>'vendredi 9'</li>\n",
       "\t<li>'vendredi 10'</li>\n",
       "\t<li>'vendredi 11'</li>\n",
       "\t<li>'vendredi 12'</li>\n",
       "\t<li>'vendredi 13'</li>\n",
       "\t<li>'vendredi 14'</li>\n",
       "\t<li>'vendredi 15'</li>\n",
       "\t<li>'vendredi 16'</li>\n",
       "\t<li>'vendredi 17'</li>\n",
       "\t<li>'vendredi 18'</li>\n",
       "\t<li>'vendredi 19'</li>\n",
       "\t<li>'vendredi 20'</li>\n",
       "\t<li>'vendredi 21'</li>\n",
       "\t<li>'vendredi 22'</li>\n",
       "\t<li>'vendredi 23'</li>\n",
       "\t<li>'samedi 0'</li>\n",
       "\t<li>'samedi 1'</li>\n",
       "\t<li>'samedi 2'</li>\n",
       "\t<li>'samedi 3'</li>\n",
       "\t<li>'samedi 4'</li>\n",
       "\t<li>'samedi 5'</li>\n",
       "\t<li>'samedi 6'</li>\n",
       "\t<li>'samedi 7'</li>\n",
       "\t<li>'samedi 8'</li>\n",
       "\t<li>'samedi 9'</li>\n",
       "\t<li>'samedi 10'</li>\n",
       "\t<li>'samedi 11'</li>\n",
       "\t<li>'samedi 12'</li>\n",
       "\t<li>'samedi 13'</li>\n",
       "\t<li>'samedi 14'</li>\n",
       "\t<li>'samedi 15'</li>\n",
       "\t<li>'samedi 16'</li>\n",
       "\t<li>'samedi 17'</li>\n",
       "\t<li>'samedi 18'</li>\n",
       "\t<li>'samedi 19'</li>\n",
       "\t<li>'samedi 20'</li>\n",
       "\t<li>'samedi 21'</li>\n",
       "\t<li>'samedi 22'</li>\n",
       "\t<li>'samedi 23'</li>\n",
       "</ol>\n"
      ],
      "text/latex": [
       "\\begin{enumerate*}\n",
       "\\item 'dimanche 0'\n",
       "\\item 'dimanche 1'\n",
       "\\item 'dimanche 2'\n",
       "\\item 'dimanche 3'\n",
       "\\item 'dimanche 4'\n",
       "\\item 'dimanche 5'\n",
       "\\item 'dimanche 6'\n",
       "\\item 'dimanche 7'\n",
       "\\item 'dimanche 8'\n",
       "\\item 'dimanche 9'\n",
       "\\item 'dimanche 10'\n",
       "\\item 'dimanche 11'\n",
       "\\item 'dimanche 12'\n",
       "\\item 'dimanche 13'\n",
       "\\item 'dimanche 14'\n",
       "\\item 'dimanche 15'\n",
       "\\item 'dimanche 16'\n",
       "\\item 'dimanche 17'\n",
       "\\item 'dimanche 18'\n",
       "\\item 'dimanche 19'\n",
       "\\item 'dimanche 20'\n",
       "\\item 'dimanche 21'\n",
       "\\item 'dimanche 22'\n",
       "\\item 'dimanche 23'\n",
       "\\item 'lundi 0'\n",
       "\\item 'lundi 1'\n",
       "\\item 'lundi 2'\n",
       "\\item 'lundi 3'\n",
       "\\item 'lundi 4'\n",
       "\\item 'lundi 5'\n",
       "\\item 'lundi 6'\n",
       "\\item 'lundi 7'\n",
       "\\item 'lundi 8'\n",
       "\\item 'lundi 9'\n",
       "\\item 'lundi 10'\n",
       "\\item 'lundi 11'\n",
       "\\item 'lundi 12'\n",
       "\\item 'lundi 13'\n",
       "\\item 'lundi 14'\n",
       "\\item 'lundi 15'\n",
       "\\item 'lundi 16'\n",
       "\\item 'lundi 17'\n",
       "\\item 'lundi 18'\n",
       "\\item 'lundi 19'\n",
       "\\item 'lundi 20'\n",
       "\\item 'lundi 21'\n",
       "\\item 'lundi 22'\n",
       "\\item 'lundi 23'\n",
       "\\item 'mardi 0'\n",
       "\\item 'mardi 1'\n",
       "\\item 'mardi 2'\n",
       "\\item 'mardi 3'\n",
       "\\item 'mardi 4'\n",
       "\\item 'mardi 5'\n",
       "\\item 'mardi 6'\n",
       "\\item 'mardi 7'\n",
       "\\item 'mardi 8'\n",
       "\\item 'mardi 9'\n",
       "\\item 'mardi 10'\n",
       "\\item 'mardi 11'\n",
       "\\item 'mardi 12'\n",
       "\\item 'mardi 13'\n",
       "\\item 'mardi 14'\n",
       "\\item 'mardi 15'\n",
       "\\item 'mardi 16'\n",
       "\\item 'mardi 17'\n",
       "\\item 'mardi 18'\n",
       "\\item 'mardi 19'\n",
       "\\item 'mardi 20'\n",
       "\\item 'mardi 21'\n",
       "\\item 'mardi 22'\n",
       "\\item 'mardi 23'\n",
       "\\item 'mercredi 0'\n",
       "\\item 'mercredi 1'\n",
       "\\item 'mercredi 2'\n",
       "\\item 'mercredi 3'\n",
       "\\item 'mercredi 4'\n",
       "\\item 'mercredi 5'\n",
       "\\item 'mercredi 6'\n",
       "\\item 'mercredi 7'\n",
       "\\item 'mercredi 8'\n",
       "\\item 'mercredi 9'\n",
       "\\item 'mercredi 10'\n",
       "\\item 'mercredi 11'\n",
       "\\item 'mercredi 12'\n",
       "\\item 'mercredi 13'\n",
       "\\item 'mercredi 14'\n",
       "\\item 'mercredi 15'\n",
       "\\item 'mercredi 16'\n",
       "\\item 'mercredi 17'\n",
       "\\item 'mercredi 18'\n",
       "\\item 'mercredi 19'\n",
       "\\item 'mercredi 20'\n",
       "\\item 'mercredi 21'\n",
       "\\item 'mercredi 22'\n",
       "\\item 'mercredi 23'\n",
       "\\item 'jeudi 0'\n",
       "\\item 'jeudi 1'\n",
       "\\item 'jeudi 2'\n",
       "\\item 'jeudi 3'\n",
       "\\item 'jeudi 4'\n",
       "\\item 'jeudi 5'\n",
       "\\item 'jeudi 6'\n",
       "\\item 'jeudi 7'\n",
       "\\item 'jeudi 8'\n",
       "\\item 'jeudi 9'\n",
       "\\item 'jeudi 10'\n",
       "\\item 'jeudi 11'\n",
       "\\item 'jeudi 12'\n",
       "\\item 'jeudi 13'\n",
       "\\item 'jeudi 14'\n",
       "\\item 'jeudi 15'\n",
       "\\item 'jeudi 16'\n",
       "\\item 'jeudi 17'\n",
       "\\item 'jeudi 18'\n",
       "\\item 'jeudi 19'\n",
       "\\item 'jeudi 20'\n",
       "\\item 'jeudi 21'\n",
       "\\item 'jeudi 22'\n",
       "\\item 'jeudi 23'\n",
       "\\item 'vendredi 0'\n",
       "\\item 'vendredi 1'\n",
       "\\item 'vendredi 2'\n",
       "\\item 'vendredi 3'\n",
       "\\item 'vendredi 4'\n",
       "\\item 'vendredi 5'\n",
       "\\item 'vendredi 6'\n",
       "\\item 'vendredi 7'\n",
       "\\item 'vendredi 8'\n",
       "\\item 'vendredi 9'\n",
       "\\item 'vendredi 10'\n",
       "\\item 'vendredi 11'\n",
       "\\item 'vendredi 12'\n",
       "\\item 'vendredi 13'\n",
       "\\item 'vendredi 14'\n",
       "\\item 'vendredi 15'\n",
       "\\item 'vendredi 16'\n",
       "\\item 'vendredi 17'\n",
       "\\item 'vendredi 18'\n",
       "\\item 'vendredi 19'\n",
       "\\item 'vendredi 20'\n",
       "\\item 'vendredi 21'\n",
       "\\item 'vendredi 22'\n",
       "\\item 'vendredi 23'\n",
       "\\item 'samedi 0'\n",
       "\\item 'samedi 1'\n",
       "\\item 'samedi 2'\n",
       "\\item 'samedi 3'\n",
       "\\item 'samedi 4'\n",
       "\\item 'samedi 5'\n",
       "\\item 'samedi 6'\n",
       "\\item 'samedi 7'\n",
       "\\item 'samedi 8'\n",
       "\\item 'samedi 9'\n",
       "\\item 'samedi 10'\n",
       "\\item 'samedi 11'\n",
       "\\item 'samedi 12'\n",
       "\\item 'samedi 13'\n",
       "\\item 'samedi 14'\n",
       "\\item 'samedi 15'\n",
       "\\item 'samedi 16'\n",
       "\\item 'samedi 17'\n",
       "\\item 'samedi 18'\n",
       "\\item 'samedi 19'\n",
       "\\item 'samedi 20'\n",
       "\\item 'samedi 21'\n",
       "\\item 'samedi 22'\n",
       "\\item 'samedi 23'\n",
       "\\end{enumerate*}\n"
      ],
      "text/markdown": [
       "1. 'dimanche 0'\n",
       "2. 'dimanche 1'\n",
       "3. 'dimanche 2'\n",
       "4. 'dimanche 3'\n",
       "5. 'dimanche 4'\n",
       "6. 'dimanche 5'\n",
       "7. 'dimanche 6'\n",
       "8. 'dimanche 7'\n",
       "9. 'dimanche 8'\n",
       "10. 'dimanche 9'\n",
       "11. 'dimanche 10'\n",
       "12. 'dimanche 11'\n",
       "13. 'dimanche 12'\n",
       "14. 'dimanche 13'\n",
       "15. 'dimanche 14'\n",
       "16. 'dimanche 15'\n",
       "17. 'dimanche 16'\n",
       "18. 'dimanche 17'\n",
       "19. 'dimanche 18'\n",
       "20. 'dimanche 19'\n",
       "21. 'dimanche 20'\n",
       "22. 'dimanche 21'\n",
       "23. 'dimanche 22'\n",
       "24. 'dimanche 23'\n",
       "25. 'lundi 0'\n",
       "26. 'lundi 1'\n",
       "27. 'lundi 2'\n",
       "28. 'lundi 3'\n",
       "29. 'lundi 4'\n",
       "30. 'lundi 5'\n",
       "31. 'lundi 6'\n",
       "32. 'lundi 7'\n",
       "33. 'lundi 8'\n",
       "34. 'lundi 9'\n",
       "35. 'lundi 10'\n",
       "36. 'lundi 11'\n",
       "37. 'lundi 12'\n",
       "38. 'lundi 13'\n",
       "39. 'lundi 14'\n",
       "40. 'lundi 15'\n",
       "41. 'lundi 16'\n",
       "42. 'lundi 17'\n",
       "43. 'lundi 18'\n",
       "44. 'lundi 19'\n",
       "45. 'lundi 20'\n",
       "46. 'lundi 21'\n",
       "47. 'lundi 22'\n",
       "48. 'lundi 23'\n",
       "49. 'mardi 0'\n",
       "50. 'mardi 1'\n",
       "51. 'mardi 2'\n",
       "52. 'mardi 3'\n",
       "53. 'mardi 4'\n",
       "54. 'mardi 5'\n",
       "55. 'mardi 6'\n",
       "56. 'mardi 7'\n",
       "57. 'mardi 8'\n",
       "58. 'mardi 9'\n",
       "59. 'mardi 10'\n",
       "60. 'mardi 11'\n",
       "61. 'mardi 12'\n",
       "62. 'mardi 13'\n",
       "63. 'mardi 14'\n",
       "64. 'mardi 15'\n",
       "65. 'mardi 16'\n",
       "66. 'mardi 17'\n",
       "67. 'mardi 18'\n",
       "68. 'mardi 19'\n",
       "69. 'mardi 20'\n",
       "70. 'mardi 21'\n",
       "71. 'mardi 22'\n",
       "72. 'mardi 23'\n",
       "73. 'mercredi 0'\n",
       "74. 'mercredi 1'\n",
       "75. 'mercredi 2'\n",
       "76. 'mercredi 3'\n",
       "77. 'mercredi 4'\n",
       "78. 'mercredi 5'\n",
       "79. 'mercredi 6'\n",
       "80. 'mercredi 7'\n",
       "81. 'mercredi 8'\n",
       "82. 'mercredi 9'\n",
       "83. 'mercredi 10'\n",
       "84. 'mercredi 11'\n",
       "85. 'mercredi 12'\n",
       "86. 'mercredi 13'\n",
       "87. 'mercredi 14'\n",
       "88. 'mercredi 15'\n",
       "89. 'mercredi 16'\n",
       "90. 'mercredi 17'\n",
       "91. 'mercredi 18'\n",
       "92. 'mercredi 19'\n",
       "93. 'mercredi 20'\n",
       "94. 'mercredi 21'\n",
       "95. 'mercredi 22'\n",
       "96. 'mercredi 23'\n",
       "97. 'jeudi 0'\n",
       "98. 'jeudi 1'\n",
       "99. 'jeudi 2'\n",
       "100. 'jeudi 3'\n",
       "101. 'jeudi 4'\n",
       "102. 'jeudi 5'\n",
       "103. 'jeudi 6'\n",
       "104. 'jeudi 7'\n",
       "105. 'jeudi 8'\n",
       "106. 'jeudi 9'\n",
       "107. 'jeudi 10'\n",
       "108. 'jeudi 11'\n",
       "109. 'jeudi 12'\n",
       "110. 'jeudi 13'\n",
       "111. 'jeudi 14'\n",
       "112. 'jeudi 15'\n",
       "113. 'jeudi 16'\n",
       "114. 'jeudi 17'\n",
       "115. 'jeudi 18'\n",
       "116. 'jeudi 19'\n",
       "117. 'jeudi 20'\n",
       "118. 'jeudi 21'\n",
       "119. 'jeudi 22'\n",
       "120. 'jeudi 23'\n",
       "121. 'vendredi 0'\n",
       "122. 'vendredi 1'\n",
       "123. 'vendredi 2'\n",
       "124. 'vendredi 3'\n",
       "125. 'vendredi 4'\n",
       "126. 'vendredi 5'\n",
       "127. 'vendredi 6'\n",
       "128. 'vendredi 7'\n",
       "129. 'vendredi 8'\n",
       "130. 'vendredi 9'\n",
       "131. 'vendredi 10'\n",
       "132. 'vendredi 11'\n",
       "133. 'vendredi 12'\n",
       "134. 'vendredi 13'\n",
       "135. 'vendredi 14'\n",
       "136. 'vendredi 15'\n",
       "137. 'vendredi 16'\n",
       "138. 'vendredi 17'\n",
       "139. 'vendredi 18'\n",
       "140. 'vendredi 19'\n",
       "141. 'vendredi 20'\n",
       "142. 'vendredi 21'\n",
       "143. 'vendredi 22'\n",
       "144. 'vendredi 23'\n",
       "145. 'samedi 0'\n",
       "146. 'samedi 1'\n",
       "147. 'samedi 2'\n",
       "148. 'samedi 3'\n",
       "149. 'samedi 4'\n",
       "150. 'samedi 5'\n",
       "151. 'samedi 6'\n",
       "152. 'samedi 7'\n",
       "153. 'samedi 8'\n",
       "154. 'samedi 9'\n",
       "155. 'samedi 10'\n",
       "156. 'samedi 11'\n",
       "157. 'samedi 12'\n",
       "158. 'samedi 13'\n",
       "159. 'samedi 14'\n",
       "160. 'samedi 15'\n",
       "161. 'samedi 16'\n",
       "162. 'samedi 17'\n",
       "163. 'samedi 18'\n",
       "164. 'samedi 19'\n",
       "165. 'samedi 20'\n",
       "166. 'samedi 21'\n",
       "167. 'samedi 22'\n",
       "168. 'samedi 23'\n",
       "\n",
       "\n"
      ],
      "text/plain": [
       "  [1] \"dimanche 0\"  \"dimanche 1\"  \"dimanche 2\"  \"dimanche 3\"  \"dimanche 4\" \n",
       "  [6] \"dimanche 5\"  \"dimanche 6\"  \"dimanche 7\"  \"dimanche 8\"  \"dimanche 9\" \n",
       " [11] \"dimanche 10\" \"dimanche 11\" \"dimanche 12\" \"dimanche 13\" \"dimanche 14\"\n",
       " [16] \"dimanche 15\" \"dimanche 16\" \"dimanche 17\" \"dimanche 18\" \"dimanche 19\"\n",
       " [21] \"dimanche 20\" \"dimanche 21\" \"dimanche 22\" \"dimanche 23\" \"lundi 0\"    \n",
       " [26] \"lundi 1\"     \"lundi 2\"     \"lundi 3\"     \"lundi 4\"     \"lundi 5\"    \n",
       " [31] \"lundi 6\"     \"lundi 7\"     \"lundi 8\"     \"lundi 9\"     \"lundi 10\"   \n",
       " [36] \"lundi 11\"    \"lundi 12\"    \"lundi 13\"    \"lundi 14\"    \"lundi 15\"   \n",
       " [41] \"lundi 16\"    \"lundi 17\"    \"lundi 18\"    \"lundi 19\"    \"lundi 20\"   \n",
       " [46] \"lundi 21\"    \"lundi 22\"    \"lundi 23\"    \"mardi 0\"     \"mardi 1\"    \n",
       " [51] \"mardi 2\"     \"mardi 3\"     \"mardi 4\"     \"mardi 5\"     \"mardi 6\"    \n",
       " [56] \"mardi 7\"     \"mardi 8\"     \"mardi 9\"     \"mardi 10\"    \"mardi 11\"   \n",
       " [61] \"mardi 12\"    \"mardi 13\"    \"mardi 14\"    \"mardi 15\"    \"mardi 16\"   \n",
       " [66] \"mardi 17\"    \"mardi 18\"    \"mardi 19\"    \"mardi 20\"    \"mardi 21\"   \n",
       " [71] \"mardi 22\"    \"mardi 23\"    \"mercredi 0\"  \"mercredi 1\"  \"mercredi 2\" \n",
       " [76] \"mercredi 3\"  \"mercredi 4\"  \"mercredi 5\"  \"mercredi 6\"  \"mercredi 7\" \n",
       " [81] \"mercredi 8\"  \"mercredi 9\"  \"mercredi 10\" \"mercredi 11\" \"mercredi 12\"\n",
       " [86] \"mercredi 13\" \"mercredi 14\" \"mercredi 15\" \"mercredi 16\" \"mercredi 17\"\n",
       " [91] \"mercredi 18\" \"mercredi 19\" \"mercredi 20\" \"mercredi 21\" \"mercredi 22\"\n",
       " [96] \"mercredi 23\" \"jeudi 0\"     \"jeudi 1\"     \"jeudi 2\"     \"jeudi 3\"    \n",
       "[101] \"jeudi 4\"     \"jeudi 5\"     \"jeudi 6\"     \"jeudi 7\"     \"jeudi 8\"    \n",
       "[106] \"jeudi 9\"     \"jeudi 10\"    \"jeudi 11\"    \"jeudi 12\"    \"jeudi 13\"   \n",
       "[111] \"jeudi 14\"    \"jeudi 15\"    \"jeudi 16\"    \"jeudi 17\"    \"jeudi 18\"   \n",
       "[116] \"jeudi 19\"    \"jeudi 20\"    \"jeudi 21\"    \"jeudi 22\"    \"jeudi 23\"   \n",
       "[121] \"vendredi 0\"  \"vendredi 1\"  \"vendredi 2\"  \"vendredi 3\"  \"vendredi 4\" \n",
       "[126] \"vendredi 5\"  \"vendredi 6\"  \"vendredi 7\"  \"vendredi 8\"  \"vendredi 9\" \n",
       "[131] \"vendredi 10\" \"vendredi 11\" \"vendredi 12\" \"vendredi 13\" \"vendredi 14\"\n",
       "[136] \"vendredi 15\" \"vendredi 16\" \"vendredi 17\" \"vendredi 18\" \"vendredi 19\"\n",
       "[141] \"vendredi 20\" \"vendredi 21\" \"vendredi 22\" \"vendredi 23\" \"samedi 0\"   \n",
       "[146] \"samedi 1\"    \"samedi 2\"    \"samedi 3\"    \"samedi 4\"    \"samedi 5\"   \n",
       "[151] \"samedi 6\"    \"samedi 7\"    \"samedi 8\"    \"samedi 9\"    \"samedi 10\"  \n",
       "[156] \"samedi 11\"   \"samedi 12\"   \"samedi 13\"   \"samedi 14\"   \"samedi 15\"  \n",
       "[161] \"samedi 16\"   \"samedi 17\"   \"samedi 18\"   \"samedi 19\"   \"samedi 20\"  \n",
       "[166] \"samedi 21\"   \"samedi 22\"   \"samedi 23\"  "
      ]
     },
     "metadata": {},
     "output_type": "display_data"
    }
   ],
   "source": [
    "## Show levels\n",
    "levels(siwim_data_dayhour$weekday_hour)"
   ]
  },
  {
   "cell_type": "markdown",
   "metadata": {},
   "source": [
    "### Plot total frequencies of trucks within a week"
   ]
  },
  {
   "cell_type": "code",
   "execution_count": 51,
   "metadata": {},
   "outputs": [
    {
     "data": {},
     "metadata": {},
     "output_type": "display_data"
    },
    {
     "data": {
      "image/png": "[encoded data removed]",
      "text/plain": [
       "plot without title"
      ]
     },
     "metadata": {},
     "output_type": "display_data"
    }
   ],
   "source": [
    "ggplot(siwim_data_dayhour) +\n",
    "  aes(x = weekday_hour , y = Number) +\n",
    "  geom_col(colour = \"green\")+\n",
    "   theme(axis.title.x = element_text(face=\"bold\", colour=\"#990000\", size=12),\n",
    "           axis.text.x  = element_text(angle=45, vjust=0.5, size=8)) +\n",
    "    scale_x_discrete(breaks = function(x) x[seq(1, length(x), by = 5)]) +\n",
    "        labs(title = \"Total frequencies of trucks within a week\", x = \"Days and hours\")"
   ]
  },
  {
   "cell_type": "code",
   "execution_count": 52,
   "metadata": {},
   "outputs": [
    {
     "data": {},
     "metadata": {},
     "output_type": "display_data"
    },
    {
     "data": {
      "image/png": "[encoded data removed]",
      "text/plain": [
       "plot without title"
      ]
     },
     "metadata": {},
     "output_type": "display_data"
    }
   ],
   "source": [
    "ggplot(siwim_data_dayhour) +\n",
    "  aes(x = weekday_hour , y = Total_weight) +\n",
    "  geom_col(colour = \"green\")+\n",
    "   theme(axis.title.x = element_text(face=\"bold\", colour=\"#990000\", size=12),\n",
    "           axis.text.x  = element_text(angle=45, vjust=0.5, size=8)) +\n",
    "    scale_x_discrete(breaks = function(x) x[seq(1, length(x), by = 5)]) +\n",
    "        labs(title = \"Total weights of trucks within a week\", x = \"Days and hours\")"
   ]
  },
  {
   "cell_type": "code",
   "execution_count": 7,
   "metadata": {
    "collapsed": true
   },
   "outputs": [],
   "source": [
    "siwim_data_agg <- siwim_data[,.(.N, sum(MGV)), by = Timestamp]"
   ]
  },
  {
   "cell_type": "code",
   "execution_count": 8,
   "metadata": {
    "collapsed": true
   },
   "outputs": [],
   "source": [
    "setnames(siwim_data_agg, ##Change 2 column names (invisible)\n",
    "c(\"N\",\"V2\"),\n",
    "c(\"Number\",\"Total_weight\"))"
   ]
  },
  {
   "cell_type": "code",
   "execution_count": 9,
   "metadata": {},
   "outputs": [
    {
     "data": {
      "text/html": [
       "<table>\n",
       "<thead><tr><th scope=col>Timestamp</th><th scope=col>Number</th><th scope=col>Total_weight</th></tr></thead>\n",
       "<tbody>\n",
       "\t<tr><td>2017-11-23 18:59:49</td><td>1                  </td><td>38.21509           </td></tr>\n",
       "\t<tr><td>2017-11-23 18:59:28</td><td>1                  </td><td>17.64149           </td></tr>\n",
       "\t<tr><td>2017-11-23 18:59:02</td><td>1                  </td><td> 8.23316           </td></tr>\n",
       "\t<tr><td>2017-11-23 18:58:28</td><td>1                  </td><td>28.03201           </td></tr>\n",
       "\t<tr><td>2017-11-23 18:58:21</td><td>1                  </td><td>33.87819           </td></tr>\n",
       "\t<tr><td>2017-11-23 18:57:49</td><td>1                  </td><td> 0.00000           </td></tr>\n",
       "</tbody>\n",
       "</table>\n"
      ],
      "text/latex": [
       "\\begin{tabular}{r|lll}\n",
       " Timestamp & Number & Total\\_weight\\\\\n",
       "\\hline\n",
       "\t 2017-11-23 18:59:49 & 1                   & 38.21509           \\\\\n",
       "\t 2017-11-23 18:59:28 & 1                   & 17.64149           \\\\\n",
       "\t 2017-11-23 18:59:02 & 1                   &  8.23316           \\\\\n",
       "\t 2017-11-23 18:58:28 & 1                   & 28.03201           \\\\\n",
       "\t 2017-11-23 18:58:21 & 1                   & 33.87819           \\\\\n",
       "\t 2017-11-23 18:57:49 & 1                   &  0.00000           \\\\\n",
       "\\end{tabular}\n"
      ],
      "text/markdown": [
       "\n",
       "Timestamp | Number | Total_weight | \n",
       "|---|---|---|---|---|---|\n",
       "| 2017-11-23 18:59:49 | 1                   | 38.21509            | \n",
       "| 2017-11-23 18:59:28 | 1                   | 17.64149            | \n",
       "| 2017-11-23 18:59:02 | 1                   |  8.23316            | \n",
       "| 2017-11-23 18:58:28 | 1                   | 28.03201            | \n",
       "| 2017-11-23 18:58:21 | 1                   | 33.87819            | \n",
       "| 2017-11-23 18:57:49 | 1                   |  0.00000            | \n",
       "\n",
       "\n"
      ],
      "text/plain": [
       "  Timestamp           Number Total_weight\n",
       "1 2017-11-23 18:59:49 1      38.21509    \n",
       "2 2017-11-23 18:59:28 1      17.64149    \n",
       "3 2017-11-23 18:59:02 1       8.23316    \n",
       "4 2017-11-23 18:58:28 1      28.03201    \n",
       "5 2017-11-23 18:58:21 1      33.87819    \n",
       "6 2017-11-23 18:57:49 1       0.00000    "
      ]
     },
     "metadata": {},
     "output_type": "display_data"
    }
   ],
   "source": [
    "head(siwim_data_agg[order(-Timestamp)])"
   ]
  },
  {
   "cell_type": "code",
   "execution_count": 56,
   "metadata": {},
   "outputs": [
    {
     "data": {
      "text/html": [
       "<table>\n",
       "<thead><tr><th scope=col>Timestamp</th><th scope=col>Number</th><th scope=col>Total_weight</th></tr></thead>\n",
       "<tbody>\n",
       "\t<tr><td>2017-11-23 05:47:07</td><td>2                  </td><td>17.1760449         </td></tr>\n",
       "\t<tr><td>2017-11-23 06:35:31</td><td>2                  </td><td>45.0232416         </td></tr>\n",
       "\t<tr><td>2017-11-23 07:17:18</td><td>2                  </td><td>27.5077472         </td></tr>\n",
       "\t<tr><td>2017-11-23 08:18:40</td><td>2                  </td><td>12.3952090         </td></tr>\n",
       "\t<tr><td>2017-11-23 08:18:42</td><td>2                  </td><td> 0.0000000         </td></tr>\n",
       "\t<tr><td>2017-11-23 08:18:46</td><td>2                  </td><td> 1.4756167         </td></tr>\n",
       "\t<tr><td>2017-11-23 08:45:49</td><td>2                  </td><td> 0.7038634         </td></tr>\n",
       "\t<tr><td>2017-11-23 08:55:21</td><td>2                  </td><td> 1.3172069         </td></tr>\n",
       "\t<tr><td>2017-11-23 08:59:50</td><td>2                  </td><td> 9.4080224         </td></tr>\n",
       "\t<tr><td>2017-11-23 09:07:15</td><td>2                  </td><td>48.9082569         </td></tr>\n",
       "\t<tr><td>2017-11-23 10:42:05</td><td>2                  </td><td>51.2970031         </td></tr>\n",
       "\t<tr><td>2017-11-23 11:58:13</td><td>2                  </td><td>46.6249745         </td></tr>\n",
       "\t<tr><td>2017-11-23 13:31:17</td><td>2                  </td><td>32.8766157         </td></tr>\n",
       "\t<tr><td>2017-11-23 13:41:41</td><td>2                  </td><td>16.7778797         </td></tr>\n",
       "\t<tr><td>2017-11-23 14:26:43</td><td>2                  </td><td>42.6950051         </td></tr>\n",
       "\t<tr><td>2017-11-23 14:55:01</td><td>2                  </td><td>63.1623853         </td></tr>\n",
       "\t<tr><td>2017-11-23 15:18:23</td><td>2                  </td><td>36.1452599         </td></tr>\n",
       "\t<tr><td>2017-11-23 15:25:09</td><td>2                  </td><td> 6.5565953         </td></tr>\n",
       "\t<tr><td>2017-11-23 16:18:25</td><td>2                  </td><td>55.2217125         </td></tr>\n",
       "\t<tr><td>2017-11-23 16:28:49</td><td>2                  </td><td>47.4429154         </td></tr>\n",
       "\t<tr><td>2017-11-23 17:49:14</td><td>2                  </td><td> 0.5513802         </td></tr>\n",
       "\t<tr><td>2017-11-22 05:14:23</td><td>2                  </td><td>21.3005097         </td></tr>\n",
       "\t<tr><td>2017-11-22 05:42:47</td><td>2                  </td><td>25.6670744         </td></tr>\n",
       "\t<tr><td>2017-11-22 05:46:23</td><td>2                  </td><td>16.9130479         </td></tr>\n",
       "\t<tr><td>2017-11-22 07:33:48</td><td>2                  </td><td>50.1140673         </td></tr>\n",
       "\t<tr><td>2017-11-22 07:36:28</td><td>2                  </td><td> 5.7092049         </td></tr>\n",
       "\t<tr><td>2017-11-22 09:23:07</td><td>2                  </td><td>54.8010194         </td></tr>\n",
       "\t<tr><td>2017-11-22 09:50:41</td><td>2                  </td><td>40.2955148         </td></tr>\n",
       "\t<tr><td>2017-11-22 11:33:01</td><td>2                  </td><td>41.3945973         </td></tr>\n",
       "\t<tr><td>2017-11-22 11:48:50</td><td>2                  </td><td>73.1267074         </td></tr>\n",
       "\t<tr><td>...</td><td>...</td><td>...</td></tr>\n",
       "\t<tr><td>2017-07-05 06:52:07</td><td>2                  </td><td>22.17504700        </td></tr>\n",
       "\t<tr><td>2017-07-05 07:39:30</td><td>2                  </td><td> 3.59987800        </td></tr>\n",
       "\t<tr><td>2017-07-05 07:52:42</td><td>2                  </td><td>26.83874000        </td></tr>\n",
       "\t<tr><td>2017-07-05 09:11:38</td><td>2                  </td><td> 2.01240600        </td></tr>\n",
       "\t<tr><td>2017-07-05 09:13:37</td><td>2                  </td><td> 2.89539450        </td></tr>\n",
       "\t<tr><td>2017-07-05 09:31:08</td><td>2                  </td><td>20.54546400        </td></tr>\n",
       "\t<tr><td>2017-07-05 09:42:26</td><td>2                  </td><td>28.82848800        </td></tr>\n",
       "\t<tr><td>2017-07-05 09:51:14</td><td>2                  </td><td> 1.34126400        </td></tr>\n",
       "\t<tr><td>2017-07-05 09:54:37</td><td>2                  </td><td> 2.85770600        </td></tr>\n",
       "\t<tr><td>2017-07-05 09:56:26</td><td>2                  </td><td>45.66749000        </td></tr>\n",
       "\t<tr><td>2017-07-05 10:03:58</td><td>2                  </td><td> 0.00000000        </td></tr>\n",
       "\t<tr><td>2017-07-05 11:09:36</td><td>2                  </td><td> 0.36398570        </td></tr>\n",
       "\t<tr><td>2017-07-05 12:22:51</td><td>2                  </td><td> 0.00000000        </td></tr>\n",
       "\t<tr><td>2017-07-05 12:36:26</td><td>2                  </td><td> 1.88832530        </td></tr>\n",
       "\t<tr><td>2017-07-05 12:58:56</td><td>2                  </td><td>28.40411200        </td></tr>\n",
       "\t<tr><td>2017-07-05 13:08:31</td><td>2                  </td><td>27.85984000        </td></tr>\n",
       "\t<tr><td>2017-07-05 13:43:30</td><td>2                  </td><td>18.37727000        </td></tr>\n",
       "\t<tr><td>2017-07-05 13:58:40</td><td>2                  </td><td>13.40214000        </td></tr>\n",
       "\t<tr><td>2017-07-05 14:29:22</td><td>2                  </td><td>64.44546000        </td></tr>\n",
       "\t<tr><td>2017-07-05 14:55:55</td><td>2                  </td><td> 0.00000000        </td></tr>\n",
       "\t<tr><td>2017-07-05 15:01:00</td><td>2                  </td><td>59.16341000        </td></tr>\n",
       "\t<tr><td>2017-07-05 15:08:13</td><td>2                  </td><td> 0.00000000        </td></tr>\n",
       "\t<tr><td>2017-07-05 15:21:08</td><td>2                  </td><td> 0.03782875        </td></tr>\n",
       "\t<tr><td>2017-07-05 16:17:42</td><td>2                  </td><td>37.75698000        </td></tr>\n",
       "\t<tr><td>2017-07-05 16:38:32</td><td>2                  </td><td> 3.13261000        </td></tr>\n",
       "\t<tr><td>2017-07-05 16:46:23</td><td>2                  </td><td> 0.00000000        </td></tr>\n",
       "\t<tr><td>2017-07-05 16:55:58</td><td>2                  </td><td>59.14790700        </td></tr>\n",
       "\t<tr><td>2017-07-05 17:09:27</td><td>2                  </td><td>61.21010300        </td></tr>\n",
       "\t<tr><td>2017-07-05 17:10:00</td><td>2                  </td><td>75.02212000        </td></tr>\n",
       "\t<tr><td>2017-07-05 17:33:42</td><td>2                  </td><td>23.97289000        </td></tr>\n",
       "</tbody>\n",
       "</table>\n"
      ],
      "text/latex": [
       "\\begin{tabular}{r|lll}\n",
       " Timestamp & Number & Total\\_weight\\\\\n",
       "\\hline\n",
       "\t 2017-11-23 05:47:07 & 2                   & 17.1760449         \\\\\n",
       "\t 2017-11-23 06:35:31 & 2                   & 45.0232416         \\\\\n",
       "\t 2017-11-23 07:17:18 & 2                   & 27.5077472         \\\\\n",
       "\t 2017-11-23 08:18:40 & 2                   & 12.3952090         \\\\\n",
       "\t 2017-11-23 08:18:42 & 2                   &  0.0000000         \\\\\n",
       "\t 2017-11-23 08:18:46 & 2                   &  1.4756167         \\\\\n",
       "\t 2017-11-23 08:45:49 & 2                   &  0.7038634         \\\\\n",
       "\t 2017-11-23 08:55:21 & 2                   &  1.3172069         \\\\\n",
       "\t 2017-11-23 08:59:50 & 2                   &  9.4080224         \\\\\n",
       "\t 2017-11-23 09:07:15 & 2                   & 48.9082569         \\\\\n",
       "\t 2017-11-23 10:42:05 & 2                   & 51.2970031         \\\\\n",
       "\t 2017-11-23 11:58:13 & 2                   & 46.6249745         \\\\\n",
       "\t 2017-11-23 13:31:17 & 2                   & 32.8766157         \\\\\n",
       "\t 2017-11-23 13:41:41 & 2                   & 16.7778797         \\\\\n",
       "\t 2017-11-23 14:26:43 & 2                   & 42.6950051         \\\\\n",
       "\t 2017-11-23 14:55:01 & 2                   & 63.1623853         \\\\\n",
       "\t 2017-11-23 15:18:23 & 2                   & 36.1452599         \\\\\n",
       "\t 2017-11-23 15:25:09 & 2                   &  6.5565953         \\\\\n",
       "\t 2017-11-23 16:18:25 & 2                   & 55.2217125         \\\\\n",
       "\t 2017-11-23 16:28:49 & 2                   & 47.4429154         \\\\\n",
       "\t 2017-11-23 17:49:14 & 2                   &  0.5513802         \\\\\n",
       "\t 2017-11-22 05:14:23 & 2                   & 21.3005097         \\\\\n",
       "\t 2017-11-22 05:42:47 & 2                   & 25.6670744         \\\\\n",
       "\t 2017-11-22 05:46:23 & 2                   & 16.9130479         \\\\\n",
       "\t 2017-11-22 07:33:48 & 2                   & 50.1140673         \\\\\n",
       "\t 2017-11-22 07:36:28 & 2                   &  5.7092049         \\\\\n",
       "\t 2017-11-22 09:23:07 & 2                   & 54.8010194         \\\\\n",
       "\t 2017-11-22 09:50:41 & 2                   & 40.2955148         \\\\\n",
       "\t 2017-11-22 11:33:01 & 2                   & 41.3945973         \\\\\n",
       "\t 2017-11-22 11:48:50 & 2                   & 73.1267074         \\\\\n",
       "\t ... & ... & ...\\\\\n",
       "\t 2017-07-05 06:52:07 & 2                   & 22.17504700        \\\\\n",
       "\t 2017-07-05 07:39:30 & 2                   &  3.59987800        \\\\\n",
       "\t 2017-07-05 07:52:42 & 2                   & 26.83874000        \\\\\n",
       "\t 2017-07-05 09:11:38 & 2                   &  2.01240600        \\\\\n",
       "\t 2017-07-05 09:13:37 & 2                   &  2.89539450        \\\\\n",
       "\t 2017-07-05 09:31:08 & 2                   & 20.54546400        \\\\\n",
       "\t 2017-07-05 09:42:26 & 2                   & 28.82848800        \\\\\n",
       "\t 2017-07-05 09:51:14 & 2                   &  1.34126400        \\\\\n",
       "\t 2017-07-05 09:54:37 & 2                   &  2.85770600        \\\\\n",
       "\t 2017-07-05 09:56:26 & 2                   & 45.66749000        \\\\\n",
       "\t 2017-07-05 10:03:58 & 2                   &  0.00000000        \\\\\n",
       "\t 2017-07-05 11:09:36 & 2                   &  0.36398570        \\\\\n",
       "\t 2017-07-05 12:22:51 & 2                   &  0.00000000        \\\\\n",
       "\t 2017-07-05 12:36:26 & 2                   &  1.88832530        \\\\\n",
       "\t 2017-07-05 12:58:56 & 2                   & 28.40411200        \\\\\n",
       "\t 2017-07-05 13:08:31 & 2                   & 27.85984000        \\\\\n",
       "\t 2017-07-05 13:43:30 & 2                   & 18.37727000        \\\\\n",
       "\t 2017-07-05 13:58:40 & 2                   & 13.40214000        \\\\\n",
       "\t 2017-07-05 14:29:22 & 2                   & 64.44546000        \\\\\n",
       "\t 2017-07-05 14:55:55 & 2                   &  0.00000000        \\\\\n",
       "\t 2017-07-05 15:01:00 & 2                   & 59.16341000        \\\\\n",
       "\t 2017-07-05 15:08:13 & 2                   &  0.00000000        \\\\\n",
       "\t 2017-07-05 15:21:08 & 2                   &  0.03782875        \\\\\n",
       "\t 2017-07-05 16:17:42 & 2                   & 37.75698000        \\\\\n",
       "\t 2017-07-05 16:38:32 & 2                   &  3.13261000        \\\\\n",
       "\t 2017-07-05 16:46:23 & 2                   &  0.00000000        \\\\\n",
       "\t 2017-07-05 16:55:58 & 2                   & 59.14790700        \\\\\n",
       "\t 2017-07-05 17:09:27 & 2                   & 61.21010300        \\\\\n",
       "\t 2017-07-05 17:10:00 & 2                   & 75.02212000        \\\\\n",
       "\t 2017-07-05 17:33:42 & 2                   & 23.97289000        \\\\\n",
       "\\end{tabular}\n"
      ],
      "text/markdown": [
       "\n",
       "Timestamp | Number | Total_weight | \n",
       "|---|---|---|---|---|---|---|---|---|---|---|---|---|---|---|---|---|---|---|---|---|---|---|---|---|---|---|---|---|---|---|---|---|---|---|---|---|---|---|---|---|---|---|---|---|---|---|---|---|---|---|---|---|---|---|---|---|---|---|---|---|\n",
       "| 2017-11-23 05:47:07 | 2                   | 17.1760449          | \n",
       "| 2017-11-23 06:35:31 | 2                   | 45.0232416          | \n",
       "| 2017-11-23 07:17:18 | 2                   | 27.5077472          | \n",
       "| 2017-11-23 08:18:40 | 2                   | 12.3952090          | \n",
       "| 2017-11-23 08:18:42 | 2                   |  0.0000000          | \n",
       "| 2017-11-23 08:18:46 | 2                   |  1.4756167          | \n",
       "| 2017-11-23 08:45:49 | 2                   |  0.7038634          | \n",
       "| 2017-11-23 08:55:21 | 2                   |  1.3172069          | \n",
       "| 2017-11-23 08:59:50 | 2                   |  9.4080224          | \n",
       "| 2017-11-23 09:07:15 | 2                   | 48.9082569          | \n",
       "| 2017-11-23 10:42:05 | 2                   | 51.2970031          | \n",
       "| 2017-11-23 11:58:13 | 2                   | 46.6249745          | \n",
       "| 2017-11-23 13:31:17 | 2                   | 32.8766157          | \n",
       "| 2017-11-23 13:41:41 | 2                   | 16.7778797          | \n",
       "| 2017-11-23 14:26:43 | 2                   | 42.6950051          | \n",
       "| 2017-11-23 14:55:01 | 2                   | 63.1623853          | \n",
       "| 2017-11-23 15:18:23 | 2                   | 36.1452599          | \n",
       "| 2017-11-23 15:25:09 | 2                   |  6.5565953          | \n",
       "| 2017-11-23 16:18:25 | 2                   | 55.2217125          | \n",
       "| 2017-11-23 16:28:49 | 2                   | 47.4429154          | \n",
       "| 2017-11-23 17:49:14 | 2                   |  0.5513802          | \n",
       "| 2017-11-22 05:14:23 | 2                   | 21.3005097          | \n",
       "| 2017-11-22 05:42:47 | 2                   | 25.6670744          | \n",
       "| 2017-11-22 05:46:23 | 2                   | 16.9130479          | \n",
       "| 2017-11-22 07:33:48 | 2                   | 50.1140673          | \n",
       "| 2017-11-22 07:36:28 | 2                   |  5.7092049          | \n",
       "| 2017-11-22 09:23:07 | 2                   | 54.8010194          | \n",
       "| 2017-11-22 09:50:41 | 2                   | 40.2955148          | \n",
       "| 2017-11-22 11:33:01 | 2                   | 41.3945973          | \n",
       "| 2017-11-22 11:48:50 | 2                   | 73.1267074          | \n",
       "| ... | ... | ... | \n",
       "| 2017-07-05 06:52:07 | 2                   | 22.17504700         | \n",
       "| 2017-07-05 07:39:30 | 2                   |  3.59987800         | \n",
       "| 2017-07-05 07:52:42 | 2                   | 26.83874000         | \n",
       "| 2017-07-05 09:11:38 | 2                   |  2.01240600         | \n",
       "| 2017-07-05 09:13:37 | 2                   |  2.89539450         | \n",
       "| 2017-07-05 09:31:08 | 2                   | 20.54546400         | \n",
       "| 2017-07-05 09:42:26 | 2                   | 28.82848800         | \n",
       "| 2017-07-05 09:51:14 | 2                   |  1.34126400         | \n",
       "| 2017-07-05 09:54:37 | 2                   |  2.85770600         | \n",
       "| 2017-07-05 09:56:26 | 2                   | 45.66749000         | \n",
       "| 2017-07-05 10:03:58 | 2                   |  0.00000000         | \n",
       "| 2017-07-05 11:09:36 | 2                   |  0.36398570         | \n",
       "| 2017-07-05 12:22:51 | 2                   |  0.00000000         | \n",
       "| 2017-07-05 12:36:26 | 2                   |  1.88832530         | \n",
       "| 2017-07-05 12:58:56 | 2                   | 28.40411200         | \n",
       "| 2017-07-05 13:08:31 | 2                   | 27.85984000         | \n",
       "| 2017-07-05 13:43:30 | 2                   | 18.37727000         | \n",
       "| 2017-07-05 13:58:40 | 2                   | 13.40214000         | \n",
       "| 2017-07-05 14:29:22 | 2                   | 64.44546000         | \n",
       "| 2017-07-05 14:55:55 | 2                   |  0.00000000         | \n",
       "| 2017-07-05 15:01:00 | 2                   | 59.16341000         | \n",
       "| 2017-07-05 15:08:13 | 2                   |  0.00000000         | \n",
       "| 2017-07-05 15:21:08 | 2                   |  0.03782875         | \n",
       "| 2017-07-05 16:17:42 | 2                   | 37.75698000         | \n",
       "| 2017-07-05 16:38:32 | 2                   |  3.13261000         | \n",
       "| 2017-07-05 16:46:23 | 2                   |  0.00000000         | \n",
       "| 2017-07-05 16:55:58 | 2                   | 59.14790700         | \n",
       "| 2017-07-05 17:09:27 | 2                   | 61.21010300         | \n",
       "| 2017-07-05 17:10:00 | 2                   | 75.02212000         | \n",
       "| 2017-07-05 17:33:42 | 2                   | 23.97289000         | \n",
       "\n",
       "\n"
      ],
      "text/plain": [
       "     Timestamp           Number Total_weight\n",
       "1    2017-11-23 05:47:07 2      17.1760449  \n",
       "2    2017-11-23 06:35:31 2      45.0232416  \n",
       "3    2017-11-23 07:17:18 2      27.5077472  \n",
       "4    2017-11-23 08:18:40 2      12.3952090  \n",
       "5    2017-11-23 08:18:42 2       0.0000000  \n",
       "6    2017-11-23 08:18:46 2       1.4756167  \n",
       "7    2017-11-23 08:45:49 2       0.7038634  \n",
       "8    2017-11-23 08:55:21 2       1.3172069  \n",
       "9    2017-11-23 08:59:50 2       9.4080224  \n",
       "10   2017-11-23 09:07:15 2      48.9082569  \n",
       "11   2017-11-23 10:42:05 2      51.2970031  \n",
       "12   2017-11-23 11:58:13 2      46.6249745  \n",
       "13   2017-11-23 13:31:17 2      32.8766157  \n",
       "14   2017-11-23 13:41:41 2      16.7778797  \n",
       "15   2017-11-23 14:26:43 2      42.6950051  \n",
       "16   2017-11-23 14:55:01 2      63.1623853  \n",
       "17   2017-11-23 15:18:23 2      36.1452599  \n",
       "18   2017-11-23 15:25:09 2       6.5565953  \n",
       "19   2017-11-23 16:18:25 2      55.2217125  \n",
       "20   2017-11-23 16:28:49 2      47.4429154  \n",
       "21   2017-11-23 17:49:14 2       0.5513802  \n",
       "22   2017-11-22 05:14:23 2      21.3005097  \n",
       "23   2017-11-22 05:42:47 2      25.6670744  \n",
       "24   2017-11-22 05:46:23 2      16.9130479  \n",
       "25   2017-11-22 07:33:48 2      50.1140673  \n",
       "26   2017-11-22 07:36:28 2       5.7092049  \n",
       "27   2017-11-22 09:23:07 2      54.8010194  \n",
       "28   2017-11-22 09:50:41 2      40.2955148  \n",
       "29   2017-11-22 11:33:01 2      41.3945973  \n",
       "30   2017-11-22 11:48:50 2      73.1267074  \n",
       "...  ...                 ...    ...         \n",
       "1484 2017-07-05 06:52:07 2      22.17504700 \n",
       "1485 2017-07-05 07:39:30 2       3.59987800 \n",
       "1486 2017-07-05 07:52:42 2      26.83874000 \n",
       "1487 2017-07-05 09:11:38 2       2.01240600 \n",
       "1488 2017-07-05 09:13:37 2       2.89539450 \n",
       "1489 2017-07-05 09:31:08 2      20.54546400 \n",
       "1490 2017-07-05 09:42:26 2      28.82848800 \n",
       "1491 2017-07-05 09:51:14 2       1.34126400 \n",
       "1492 2017-07-05 09:54:37 2       2.85770600 \n",
       "1493 2017-07-05 09:56:26 2      45.66749000 \n",
       "1494 2017-07-05 10:03:58 2       0.00000000 \n",
       "1495 2017-07-05 11:09:36 2       0.36398570 \n",
       "1496 2017-07-05 12:22:51 2       0.00000000 \n",
       "1497 2017-07-05 12:36:26 2       1.88832530 \n",
       "1498 2017-07-05 12:58:56 2      28.40411200 \n",
       "1499 2017-07-05 13:08:31 2      27.85984000 \n",
       "1500 2017-07-05 13:43:30 2      18.37727000 \n",
       "1501 2017-07-05 13:58:40 2      13.40214000 \n",
       "1502 2017-07-05 14:29:22 2      64.44546000 \n",
       "1503 2017-07-05 14:55:55 2       0.00000000 \n",
       "1504 2017-07-05 15:01:00 2      59.16341000 \n",
       "1505 2017-07-05 15:08:13 2       0.00000000 \n",
       "1506 2017-07-05 15:21:08 2       0.03782875 \n",
       "1507 2017-07-05 16:17:42 2      37.75698000 \n",
       "1508 2017-07-05 16:38:32 2       3.13261000 \n",
       "1509 2017-07-05 16:46:23 2       0.00000000 \n",
       "1510 2017-07-05 16:55:58 2      59.14790700 \n",
       "1511 2017-07-05 17:09:27 2      61.21010300 \n",
       "1512 2017-07-05 17:10:00 2      75.02212000 \n",
       "1513 2017-07-05 17:33:42 2      23.97289000 "
      ]
     },
     "metadata": {},
     "output_type": "display_data"
    }
   ],
   "source": [
    "siwim_data_agg[Number > 1]"
   ]
  },
  {
   "cell_type": "code",
   "execution_count": 10,
   "metadata": {
    "collapsed": true
   },
   "outputs": [],
   "source": [
    "siwim_data.ts <- xts(x=cbind(siwim_data_agg$Total_weight,siwim_data_agg$Number), order.by = siwim_data_agg$Timestamp)"
   ]
  },
  {
   "cell_type": "code",
   "execution_count": 11,
   "metadata": {},
   "outputs": [
    {
     "data": {
      "text/html": [
       "<ol class=list-inline>\n",
       "\t<li>'xts'</li>\n",
       "\t<li>'zoo'</li>\n",
       "</ol>\n"
      ],
      "text/latex": [
       "\\begin{enumerate*}\n",
       "\\item 'xts'\n",
       "\\item 'zoo'\n",
       "\\end{enumerate*}\n"
      ],
      "text/markdown": [
       "1. 'xts'\n",
       "2. 'zoo'\n",
       "\n",
       "\n"
      ],
      "text/plain": [
       "[1] \"xts\" \"zoo\""
      ]
     },
     "metadata": {},
     "output_type": "display_data"
    }
   ],
   "source": [
    "class(siwim_data.ts)"
   ]
  },
  {
   "cell_type": "code",
   "execution_count": 12,
   "metadata": {},
   "outputs": [
    {
     "data": {
      "text/html": [
       "<table>\n",
       "<tbody>\n",
       "\t<tr><td>38.775740</td><td>1        </td></tr>\n",
       "\t<tr><td> 0.000000</td><td>1        </td></tr>\n",
       "\t<tr><td>15.325690</td><td>1        </td></tr>\n",
       "\t<tr><td>13.686440</td><td>1        </td></tr>\n",
       "\t<tr><td> 3.512304</td><td>1        </td></tr>\n",
       "\t<tr><td>41.906930</td><td>1        </td></tr>\n",
       "</tbody>\n",
       "</table>\n"
      ],
      "text/latex": [
       "\\begin{tabular}{ll}\n",
       "\t 38.775740 & 1        \\\\\n",
       "\t  0.000000 & 1        \\\\\n",
       "\t 15.325690 & 1        \\\\\n",
       "\t 13.686440 & 1        \\\\\n",
       "\t  3.512304 & 1        \\\\\n",
       "\t 41.906930 & 1        \\\\\n",
       "\\end{tabular}\n"
      ],
      "text/markdown": [
       "\n",
       "| 38.775740 | 1         | \n",
       "|  0.000000 | 1         | \n",
       "| 15.325690 | 1         | \n",
       "| 13.686440 | 1         | \n",
       "|  3.512304 | 1         | \n",
       "| 41.906930 | 1         | \n",
       "\n",
       "\n"
      ],
      "text/plain": [
       "     [,1]      [,2]\n",
       "[1,] 38.775740 1   \n",
       "[2,]  0.000000 1   \n",
       "[3,] 15.325690 1   \n",
       "[4,] 13.686440 1   \n",
       "[5,]  3.512304 1   \n",
       "[6,] 41.906930 1   "
      ]
     },
     "metadata": {},
     "output_type": "display_data"
    }
   ],
   "source": [
    "head(coredata(siwim_data.ts))"
   ]
  },
  {
   "cell_type": "code",
   "execution_count": 13,
   "metadata": {},
   "outputs": [
    {
     "data": {
      "text/plain": [
       "[1] \"2017-07-05 00:08:33 CEST\" \"2017-07-05 00:08:45 CEST\"\n",
       "[3] \"2017-07-05 00:09:58 CEST\" \"2017-07-05 00:12:46 CEST\"\n",
       "[5] \"2017-07-05 00:28:57 CEST\" \"2017-07-05 00:33:02 CEST\""
      ]
     },
     "metadata": {},
     "output_type": "display_data"
    }
   ],
   "source": [
    "head(index(siwim_data.ts))"
   ]
  },
  {
   "cell_type": "code",
   "execution_count": 40,
   "metadata": {},
   "outputs": [
    {
     "data": {
      "text/plain": [
       "                    [,1]\n",
       "2017-07-05 23:51:16 2852\n",
       "2017-07-06 23:59:10 2372\n",
       "2017-07-07 23:53:23 1895\n",
       "2017-07-08 23:50:02  397\n",
       "2017-07-09 23:27:28  280\n",
       "2017-07-10 23:58:09 2086"
      ]
     },
     "metadata": {},
     "output_type": "display_data"
    }
   ],
   "source": [
    "ep1 <- endpoints(siwim_data.ts,on=\"days\")\n",
    "siwim_data.ts.days <- period.apply(siwim_data.ts[,2],INDEX=ep1,FUN=sum)\n",
    "head(siwim_data.ts.days)"
   ]
  },
  {
   "cell_type": "code",
   "execution_count": 41,
   "metadata": {},
   "outputs": [
    {
     "data": {
      "text/plain": [
       "[1] \"2017-07-05 00:08:33 CEST\""
      ]
     },
     "metadata": {},
     "output_type": "display_data"
    }
   ],
   "source": [
    "start(siwim_data.ts)"
   ]
  },
  {
   "cell_type": "code",
   "execution_count": 42,
   "metadata": {},
   "outputs": [
    {
     "data": {
      "text/plain": [
       "[1] \"2017-11-23 18:59:49 CET\""
      ]
     },
     "metadata": {},
     "output_type": "display_data"
    }
   ],
   "source": [
    "end(siwim_data.ts)"
   ]
  },
  {
   "cell_type": "code",
   "execution_count": 48,
   "metadata": {},
   "outputs": [
    {
     "data": {
      "text/plain": [
       "           [,1]\n",
       "2017-07-05 2852\n",
       "2017-07-06 2372\n",
       "2017-07-07 1895\n",
       "2017-07-08  397\n",
       "2017-07-09  280\n",
       "2017-07-10 2086"
      ]
     },
     "metadata": {},
     "output_type": "display_data"
    }
   ],
   "source": [
    "index(siwim_data.ts.days) <- as.Date(trunc(index(siwim_data.ts.days),\"days\"))\n",
    "head(siwim_data.ts.days)"
   ]
  },
  {
   "cell_type": "code",
   "execution_count": 12,
   "metadata": {
    "collapsed": true
   },
   "outputs": [],
   "source": [
    "?auto.arima"
   ]
  },
  {
   "cell_type": "code",
   "execution_count": 80,
   "metadata": {
    "collapsed": true
   },
   "outputs": [],
   "source": [
    "fitting <- auto.arima(siwim_data.ts[,2])#, method = \"ML\")"
   ]
  },
  {
   "cell_type": "code",
   "execution_count": 81,
   "metadata": {},
   "outputs": [
    {
     "data": {
      "text/plain": [
       "Series: siwim_data.ts[, 2] \n",
       "ARIMA(5,1,0) \n",
       "\n",
       "Coefficients:\n",
       "          ar1      ar2      ar3      ar4      ar5\n",
       "      -0.8194  -0.6503  -0.4869  -0.3260  -0.1658\n",
       "s.e.   0.0023   0.0029   0.0031   0.0029   0.0023\n",
       "\n",
       "sigma^2 estimated as 0.00982:  log likelihood=162834.5\n",
       "AIC=-325656.9   AICc=-325656.9   BIC=-325596.2"
      ]
     },
     "metadata": {},
     "output_type": "display_data"
    }
   ],
   "source": [
    "fitting"
   ]
  },
  {
   "cell_type": "code",
   "execution_count": 82,
   "metadata": {},
   "outputs": [
    {
     "data": {
      "image/png": "[encoded data removed]",
      "text/plain": [
       "Plot with title \"Forecasts from ARIMA(5,1,0)\""
      ]
     },
     "metadata": {},
     "output_type": "display_data"
    }
   ],
   "source": [
    "plot(forecast(fitting, h=20))"
   ]
  },
  {
   "cell_type": "code",
   "execution_count": 49,
   "metadata": {},
   "outputs": [
    {
     "data": {
      "text/plain": [
       "           [,1]\n",
       "2017-09-01 2014\n",
       "2017-09-02  406\n",
       "2017-09-03  242\n",
       "2017-09-04 2025\n",
       "2017-09-05 2144\n",
       "2017-09-06 2149\n",
       "2017-09-07 2268\n",
       "2017-09-08 2001\n",
       "2017-09-09  408\n",
       "2017-09-10  184\n",
       "2017-09-11  175\n",
       "2017-09-12    3\n",
       "2017-09-13    3\n",
       "2017-09-14    3\n",
       "2017-09-20 1555\n",
       "2017-09-21 2155\n",
       "2017-09-22 2131\n",
       "2017-09-23  384\n",
       "2017-09-24  245\n",
       "2017-09-25 2173\n",
       "2017-09-26 2300\n",
       "2017-09-27 2397\n",
       "2017-09-28 2387\n",
       "2017-09-29 2010\n",
       "2017-09-30  363\n",
       "2017-10-01  170\n",
       "2017-10-02 2048\n",
       "2017-10-03 2399\n",
       "2017-10-04 2345\n",
       "2017-10-05  544\n",
       "2017-10-17 1087\n",
       "2017-10-18 2320\n",
       "2017-10-19 2232\n",
       "2017-10-20 2081\n",
       "2017-10-21  320\n",
       "2017-10-22  115\n",
       "2017-10-23 2189\n",
       "2017-10-24 2383\n",
       "2017-10-25 2273\n",
       "2017-10-26 2414\n",
       "2017-10-27 2180\n",
       "2017-10-28  312\n",
       "2017-10-29  177\n",
       "2017-10-30 2206\n",
       "2017-10-31 2211"
      ]
     },
     "metadata": {},
     "output_type": "display_data"
    }
   ],
   "source": [
    "siwim_data.ts.days[\"2017-09/2017-10\"]"
   ]
  },
  {
   "cell_type": "code",
   "execution_count": 24,
   "metadata": {},
   "outputs": [
    {
     "data": {},
     "metadata": {},
     "output_type": "display_data"
    },
    {
     "data": {
      "image/png": "[encoded data removed]",
      "text/plain": [
       "plot without title"
      ]
     },
     "metadata": {},
     "output_type": "display_data"
    }
   ],
   "source": [
    "plot.xts(siwim_data.ts.days)"
   ]
  },
  {
   "cell_type": "code",
   "execution_count": 50,
   "metadata": {},
   "outputs": [
    {
     "data": {
      "text/html": [
       "5"
      ],
      "text/latex": [
       "5"
      ],
      "text/markdown": [
       "5"
      ],
      "text/plain": [
       "[1] 5"
      ]
     },
     "metadata": {},
     "output_type": "display_data"
    },
    {
     "data": {
      "text/plain": [
       "Time Series:\n",
       "Start = c(1, 1) \n",
       "End = c(18, 3) \n",
       "Frequency = 7 \n",
       "       Series 1\n",
       "  [1,]     2852\n",
       "  [2,]     2372\n",
       "  [3,]     1895\n",
       "  [4,]      397\n",
       "  [5,]      280\n",
       "  [6,]     2086\n",
       "  [7,]     2271\n",
       "  [8,]     2412\n",
       "  [9,]     2295\n",
       " [10,]      312\n",
       " [11,]      303\n",
       " [12,]      272\n",
       " [13,]     2233\n",
       " [14,]     2375\n",
       " [15,]     1931\n",
       " [16,]     2013\n",
       " [17,]     2170\n",
       " [18,]      438\n",
       " [19,]      262\n",
       " [20,]     2106\n",
       " [21,]     2178\n",
       " [22,]     2411\n",
       " [23,]     2278\n",
       " [24,]     2029\n",
       " [25,]      339\n",
       " [26,]      268\n",
       " [27,]     2082\n",
       " [28,]     2221\n",
       " [29,]     2127\n",
       " [30,]     2046\n",
       " [31,]     1994\n",
       " [32,]      275\n",
       " [33,]      254\n",
       " [34,]     1931\n",
       " [35,]     2046\n",
       " [36,]     2055\n",
       " [37,]     2135\n",
       " [38,]     1692\n",
       " [39,]      318\n",
       " [40,]      318\n",
       " [41,]     1308\n",
       " [42,]      326\n",
       " [43,]     1993\n",
       " [44,]     2164\n",
       " [45,]     1680\n",
       " [46,]      308\n",
       " [47,]      285\n",
       " [48,]     1820\n",
       " [49,]     2076\n",
       " [50,]     1113\n",
       " [51,]     1619\n",
       " [52,]     2079\n",
       " [53,]     2192\n",
       " [54,]     2123\n",
       " [55,]     2014\n",
       " [56,]      406\n",
       " [57,]      242\n",
       " [58,]     2025\n",
       " [59,]     2144\n",
       " [60,]     2149\n",
       " [61,]     2268\n",
       " [62,]     2001\n",
       " [63,]      408\n",
       " [64,]      184\n",
       " [65,]      175\n",
       " [66,]        3\n",
       " [67,]        3\n",
       " [68,]        3\n",
       " [69,]     1555\n",
       " [70,]     2155\n",
       " [71,]     2131\n",
       " [72,]      384\n",
       " [73,]      245\n",
       " [74,]     2173\n",
       " [75,]     2300\n",
       " [76,]     2397\n",
       " [77,]     2387\n",
       " [78,]     2010\n",
       " [79,]      363\n",
       " [80,]      170\n",
       " [81,]     2048\n",
       " [82,]     2399\n",
       " [83,]     2345\n",
       " [84,]      544\n",
       " [85,]     1087\n",
       " [86,]     2320\n",
       " [87,]     2232\n",
       " [88,]     2081\n",
       " [89,]      320\n",
       " [90,]      115\n",
       " [91,]     2189\n",
       " [92,]     2383\n",
       " [93,]     2273\n",
       " [94,]     2414\n",
       " [95,]     2180\n",
       " [96,]      312\n",
       " [97,]      177\n",
       " [98,]     2206\n",
       " [99,]     2211\n",
       "[100,]      285\n",
       "[101,]     2277\n",
       "[102,]     2088\n",
       "[103,]      359\n",
       "[104,]      142\n",
       "[105,]     2219\n",
       "[106,]     2354\n",
       "[107,]     2391\n",
       "[108,]     2416\n",
       "[109,]     1859\n",
       "[110,]      114\n",
       "[111,]      104\n",
       "[112,]     2195\n",
       "[113,]     2363\n",
       "[114,]     2291\n",
       "[115,]     2255\n",
       "[116,]     1869\n",
       "[117,]      315\n",
       "[118,]      114\n",
       "[119,]     2062\n",
       "[120,]     2209\n",
       "[121,]     2192\n",
       "[122,]     1966\n",
       "attr(,\"index\")\n",
       "  [1] 1499212800 1499299200 1499385600 1499472000 1499558400 1499644800\n",
       "  [7] 1499731200 1499817600 1499904000 1499990400 1500076800 1500163200\n",
       " [13] 1500249600 1500336000 1500422400 1500508800 1500595200 1500681600\n",
       " [19] 1500768000 1500854400 1500940800 1501027200 1501113600 1501200000\n",
       " [25] 1501286400 1501372800 1501459200 1501545600 1501632000 1501718400\n",
       " [31] 1501804800 1501891200 1501977600 1502064000 1502150400 1502236800\n",
       " [37] 1502323200 1502409600 1502496000 1502582400 1502668800 1502755200\n",
       " [43] 1502841600 1502928000 1503014400 1503100800 1503187200 1503273600\n",
       " [49] 1503360000 1503446400 1503878400 1503964800 1504051200 1504137600\n",
       " [55] 1504224000 1504310400 1504396800 1504483200 1504569600 1504656000\n",
       " [61] 1504742400 1504828800 1504915200 1505001600 1505088000 1505174400\n",
       " [67] 1505260800 1505347200 1505865600 1505952000 1506038400 1506124800\n",
       " [73] 1506211200 1506297600 1506384000 1506470400 1506556800 1506643200\n",
       " [79] 1506729600 1506816000 1506902400 1506988800 1507075200 1507161600\n",
       " [85] 1508198400 1508284800 1508371200 1508457600 1508544000 1508630400\n",
       " [91] 1508716800 1508803200 1508889600 1508976000 1509062400 1509148800\n",
       " [97] 1509235200 1509321600 1509408000 1509494400 1509580800 1509667200\n",
       "[103] 1509753600 1509840000 1509926400 1510012800 1510099200 1510185600\n",
       "[109] 1510272000 1510358400 1510444800 1510531200 1510617600 1510704000\n",
       "[115] 1510790400 1510876800 1510963200 1511049600 1511136000 1511222400\n",
       "[121] 1511308800 1511395200\n",
       "attr(,\"index\")attr(,\"tclass\")\n",
       "[1] Date\n",
       "attr(,\"index\")attr(,\"tzone\")\n",
       "[1] UTC\n",
       "attr(,\".indexCLASS\")\n",
       "[1] Date\n",
       "attr(,\".indexTZ\")\n",
       "[1] \n",
       "attr(,\"tclass\")\n",
       "[1] POSIXct  POSIXt\n",
       "attr(,\"tzone\")\n",
       "[1] "
      ]
     },
     "metadata": {},
     "output_type": "display_data"
    }
   ],
   "source": [
    "start_date <- start(siwim_data.ts.days)\n",
    "as.POSIXlt(start_date)$mday\n",
    "ts(siwim_data.ts.days, frequency = 7)"
   ]
  },
  {
   "cell_type": "markdown",
   "metadata": {},
   "source": [
    "### Decomposing Non-Seasonal Data"
   ]
  },
  {
   "cell_type": "code",
   "execution_count": 51,
   "metadata": {},
   "outputs": [
    {
     "data": {},
     "metadata": {},
     "output_type": "display_data"
    },
    {
     "data": {
      "image/png": "[encoded data removed]",
      "text/plain": [
       "plot without title"
      ]
     },
     "metadata": {},
     "output_type": "display_data"
    }
   ],
   "source": [
    "## Compute Simple moving average for 3\n",
    "siwim_data.ts.days.SMA3 <- SMA(siwim_data.ts.days,n = 3)\n",
    "plot.xts(siwim_data.ts.days.SMA3)"
   ]
  },
  {
   "cell_type": "code",
   "execution_count": 52,
   "metadata": {},
   "outputs": [
    {
     "data": {},
     "metadata": {},
     "output_type": "display_data"
    },
    {
     "data": {
      "image/png": "[encoded data removed]",
      "text/plain": [
       "plot without title"
      ]
     },
     "metadata": {},
     "output_type": "display_data"
    }
   ],
   "source": [
    "siwim_data.ts.days.SMA8 <- SMA(siwim_data.ts.days,n = 8)\n",
    "plot.xts(siwim_data.ts.days.SMA8)"
   ]
  },
  {
   "cell_type": "markdown",
   "metadata": {},
   "source": [
    "### Decomposing Seasonal Data"
   ]
  },
  {
   "cell_type": "code",
   "execution_count": 53,
   "metadata": {},
   "outputs": [
    {
     "data": {
      "text/plain": [
       "Daily periodicity from 2017-07-05 to 2017-11-23 "
      ]
     },
     "metadata": {},
     "output_type": "display_data"
    },
    {
     "data": {
      "text/html": [
       "<time datetime=\"2017-07-05\">2017-07-05</time>"
      ],
      "text/latex": [
       "2017-07-05"
      ],
      "text/markdown": [
       "2017-07-05"
      ],
      "text/plain": [
       "[1] \"2017-07-05\""
      ]
     },
     "metadata": {},
     "output_type": "display_data"
    },
    {
     "data": {
      "text/html": [
       "<time datetime=\"2017-11-23\">2017-11-23</time>"
      ],
      "text/latex": [
       "2017-11-23"
      ],
      "text/markdown": [
       "2017-11-23"
      ],
      "text/plain": [
       "[1] \"2017-11-23\""
      ]
     },
     "metadata": {},
     "output_type": "display_data"
    }
   ],
   "source": [
    "periodicity(siwim_data.ts.days)\n",
    "start(siwim_data.ts.days)\n",
    "end(siwim_data.ts.days)"
   ]
  },
  {
   "cell_type": "code",
   "execution_count": 136,
   "metadata": {
    "collapsed": true
   },
   "outputs": [],
   "source": [
    "?HoltWinters"
   ]
  },
  {
   "cell_type": "code",
   "execution_count": 67,
   "metadata": {},
   "outputs": [
    {
     "data": {
      "text/plain": [
       "Time Series:\n",
       "Start = c(5, 7) \n",
       "End = c(9, 8) \n",
       "Frequency = 30 \n",
       "       Series 1\n",
       "  [1,]     2852\n",
       "  [2,]     2372\n",
       "  [3,]     1895\n",
       "  [4,]      397\n",
       "  [5,]      280\n",
       "  [6,]     2086\n",
       "  [7,]     2271\n",
       "  [8,]     2412\n",
       "  [9,]     2295\n",
       " [10,]      312\n",
       " [11,]      303\n",
       " [12,]      272\n",
       " [13,]     2233\n",
       " [14,]     2375\n",
       " [15,]     1931\n",
       " [16,]     2013\n",
       " [17,]     2170\n",
       " [18,]      438\n",
       " [19,]      262\n",
       " [20,]     2106\n",
       " [21,]     2178\n",
       " [22,]     2411\n",
       " [23,]     2278\n",
       " [24,]     2029\n",
       " [25,]      339\n",
       " [26,]      268\n",
       " [27,]     2082\n",
       " [28,]     2221\n",
       " [29,]     2127\n",
       " [30,]     2046\n",
       " [31,]     1994\n",
       " [32,]      275\n",
       " [33,]      254\n",
       " [34,]     1931\n",
       " [35,]     2046\n",
       " [36,]     2055\n",
       " [37,]     2135\n",
       " [38,]     1692\n",
       " [39,]      318\n",
       " [40,]      318\n",
       " [41,]     1308\n",
       " [42,]      326\n",
       " [43,]     1993\n",
       " [44,]     2164\n",
       " [45,]     1680\n",
       " [46,]      308\n",
       " [47,]      285\n",
       " [48,]     1820\n",
       " [49,]     2076\n",
       " [50,]     1113\n",
       " [51,]     1619\n",
       " [52,]     2079\n",
       " [53,]     2192\n",
       " [54,]     2123\n",
       " [55,]     2014\n",
       " [56,]      406\n",
       " [57,]      242\n",
       " [58,]     2025\n",
       " [59,]     2144\n",
       " [60,]     2149\n",
       " [61,]     2268\n",
       " [62,]     2001\n",
       " [63,]      408\n",
       " [64,]      184\n",
       " [65,]      175\n",
       " [66,]        3\n",
       " [67,]        3\n",
       " [68,]        3\n",
       " [69,]     1555\n",
       " [70,]     2155\n",
       " [71,]     2131\n",
       " [72,]      384\n",
       " [73,]      245\n",
       " [74,]     2173\n",
       " [75,]     2300\n",
       " [76,]     2397\n",
       " [77,]     2387\n",
       " [78,]     2010\n",
       " [79,]      363\n",
       " [80,]      170\n",
       " [81,]     2048\n",
       " [82,]     2399\n",
       " [83,]     2345\n",
       " [84,]      544\n",
       " [85,]     1087\n",
       " [86,]     2320\n",
       " [87,]     2232\n",
       " [88,]     2081\n",
       " [89,]      320\n",
       " [90,]      115\n",
       " [91,]     2189\n",
       " [92,]     2383\n",
       " [93,]     2273\n",
       " [94,]     2414\n",
       " [95,]     2180\n",
       " [96,]      312\n",
       " [97,]      177\n",
       " [98,]     2206\n",
       " [99,]     2211\n",
       "[100,]      285\n",
       "[101,]     2277\n",
       "[102,]     2088\n",
       "[103,]      359\n",
       "[104,]      142\n",
       "[105,]     2219\n",
       "[106,]     2354\n",
       "[107,]     2391\n",
       "[108,]     2416\n",
       "[109,]     1859\n",
       "[110,]      114\n",
       "[111,]      104\n",
       "[112,]     2195\n",
       "[113,]     2363\n",
       "[114,]     2291\n",
       "[115,]     2255\n",
       "[116,]     1869\n",
       "[117,]      315\n",
       "[118,]      114\n",
       "[119,]     2062\n",
       "[120,]     2209\n",
       "[121,]     2192\n",
       "[122,]     1966\n",
       "attr(,\"index\")\n",
       "  [1] 1499212800 1499299200 1499385600 1499472000 1499558400 1499644800\n",
       "  [7] 1499731200 1499817600 1499904000 1499990400 1500076800 1500163200\n",
       " [13] 1500249600 1500336000 1500422400 1500508800 1500595200 1500681600\n",
       " [19] 1500768000 1500854400 1500940800 1501027200 1501113600 1501200000\n",
       " [25] 1501286400 1501372800 1501459200 1501545600 1501632000 1501718400\n",
       " [31] 1501804800 1501891200 1501977600 1502064000 1502150400 1502236800\n",
       " [37] 1502323200 1502409600 1502496000 1502582400 1502668800 1502755200\n",
       " [43] 1502841600 1502928000 1503014400 1503100800 1503187200 1503273600\n",
       " [49] 1503360000 1503446400 1503878400 1503964800 1504051200 1504137600\n",
       " [55] 1504224000 1504310400 1504396800 1504483200 1504569600 1504656000\n",
       " [61] 1504742400 1504828800 1504915200 1505001600 1505088000 1505174400\n",
       " [67] 1505260800 1505347200 1505865600 1505952000 1506038400 1506124800\n",
       " [73] 1506211200 1506297600 1506384000 1506470400 1506556800 1506643200\n",
       " [79] 1506729600 1506816000 1506902400 1506988800 1507075200 1507161600\n",
       " [85] 1508198400 1508284800 1508371200 1508457600 1508544000 1508630400\n",
       " [91] 1508716800 1508803200 1508889600 1508976000 1509062400 1509148800\n",
       " [97] 1509235200 1509321600 1509408000 1509494400 1509580800 1509667200\n",
       "[103] 1509753600 1509840000 1509926400 1510012800 1510099200 1510185600\n",
       "[109] 1510272000 1510358400 1510444800 1510531200 1510617600 1510704000\n",
       "[115] 1510790400 1510876800 1510963200 1511049600 1511136000 1511222400\n",
       "[121] 1511308800 1511395200\n",
       "attr(,\"index\")attr(,\"tclass\")\n",
       "[1] Date\n",
       "attr(,\"index\")attr(,\"tzone\")\n",
       "[1] UTC\n",
       "attr(,\".indexCLASS\")\n",
       "[1] Date\n",
       "attr(,\".indexTZ\")\n",
       "[1] \n",
       "attr(,\"tclass\")\n",
       "[1] POSIXct  POSIXt\n",
       "attr(,\"tzone\")\n",
       "[1] "
      ]
     },
     "metadata": {},
     "output_type": "display_data"
    }
   ],
   "source": [
    "ts(siwim_data.ts.days, start = c(5,7), frequency = 30)"
   ]
  },
  {
   "cell_type": "code",
   "execution_count": 30,
   "metadata": {},
   "outputs": [
    {
     "data": {
      "text/plain": [
       "Time Series:\n",
       "Start = c(17352, 1) \n",
       "End = c(17493, 1) \n",
       "Frequency = 7 \n",
       "  [1] 2852 2372 1895  397  280 2086 2271 2412 2295  312  303  272 2233 2375 1931\n",
       " [16] 2013 2170  438  262 2106 2178 2411 2278 2029  339  268 2082 2221 2127 2046\n",
       " [31] 1994  275  254 1931 2046 2055 2135 1692  318  318 1308  326 1993 2164 1680\n",
       " [46]  308  285 1820 2076 1113 1619 2079 2192 2123 2014  406  242 2025 2144 2149\n",
       " [61] 2268 2001  408  184  175    3    3    3 1555 2155 2131  384  245 2173 2300\n",
       " [76] 2397 2387 2010  363  170 2048 2399 2345  544 1087 2320 2232 2081  320  115\n",
       " [91] 2189 2383 2273 2414 2180  312  177 2206 2211  285 2277 2088  359  142 2219\n",
       "[106] 2354 2391 2416 1859  114  104 2195 2363 2291 2255 1869  315  114 2062 2209\n",
       "[121] 2192 1966 2852 2372 1895  397  280 2086 2271 2412 2295  312  303  272 2233\n",
       "[136] 2375 1931 2013 2170  438  262 2106 2178 2411 2278 2029  339  268 2082 2221\n",
       "[151] 2127 2046 1994  275  254 1931 2046 2055 2135 1692  318  318 1308  326 1993\n",
       "[166] 2164 1680  308  285 1820 2076 1113 1619 2079 2192 2123 2014  406  242 2025\n",
       "[181] 2144 2149 2268 2001  408  184  175    3    3    3 1555 2155 2131  384  245\n",
       "[196] 2173 2300 2397 2387 2010  363  170 2048 2399 2345  544 1087 2320 2232 2081\n",
       "[211]  320  115 2189 2383 2273 2414 2180  312  177 2206 2211  285 2277 2088  359\n",
       "[226]  142 2219 2354 2391 2416 1859  114  104 2195 2363 2291 2255 1869  315  114\n",
       "[241] 2062 2209 2192 1966 2852 2372 1895  397  280 2086 2271 2412 2295  312  303\n",
       "[256]  272 2233 2375 1931 2013 2170  438  262 2106 2178 2411 2278 2029  339  268\n",
       "[271] 2082 2221 2127 2046 1994  275  254 1931 2046 2055 2135 1692  318  318 1308\n",
       "[286]  326 1993 2164 1680  308  285 1820 2076 1113 1619 2079 2192 2123 2014  406\n",
       "[301]  242 2025 2144 2149 2268 2001  408  184  175    3    3    3 1555 2155 2131\n",
       "[316]  384  245 2173 2300 2397 2387 2010  363  170 2048 2399 2345  544 1087 2320\n",
       "[331] 2232 2081  320  115 2189 2383 2273 2414 2180  312  177 2206 2211  285 2277\n",
       "[346] 2088  359  142 2219 2354 2391 2416 1859  114  104 2195 2363 2291 2255 1869\n",
       "[361]  315  114 2062 2209 2192 1966 2852 2372 1895  397  280 2086 2271 2412 2295\n",
       "[376]  312  303  272 2233 2375 1931 2013 2170  438  262 2106 2178 2411 2278 2029\n",
       "[391]  339  268 2082 2221 2127 2046 1994  275  254 1931 2046 2055 2135 1692  318\n",
       "[406]  318 1308  326 1993 2164 1680  308  285 1820 2076 1113 1619 2079 2192 2123\n",
       "[421] 2014  406  242 2025 2144 2149 2268 2001  408  184  175    3    3    3 1555\n",
       "[436] 2155 2131  384  245 2173 2300 2397 2387 2010  363  170 2048 2399 2345  544\n",
       "[451] 1087 2320 2232 2081  320  115 2189 2383 2273 2414 2180  312  177 2206 2211\n",
       "[466]  285 2277 2088  359  142 2219 2354 2391 2416 1859  114  104 2195 2363 2291\n",
       "[481] 2255 1869  315  114 2062 2209 2192 1966 2852 2372 1895  397  280 2086 2271\n",
       "[496] 2412 2295  312  303  272 2233 2375 1931 2013 2170  438  262 2106 2178 2411\n",
       "[511] 2278 2029  339  268 2082 2221 2127 2046 1994  275  254 1931 2046 2055 2135\n",
       "[526] 1692  318  318 1308  326 1993 2164 1680  308  285 1820 2076 1113 1619 2079\n",
       "[541] 2192 2123 2014  406  242 2025 2144 2149 2268 2001  408  184  175    3    3\n",
       "[556]    3 1555 2155 2131  384  245 2173 2300 2397 2387 2010  363  170 2048 2399\n",
       "[571] 2345  544 1087 2320 2232 2081  320  115 2189 2383 2273 2414 2180  312  177\n",
       "[586] 2206 2211  285 2277 2088  359  142 2219 2354 2391 2416 1859  114  104 2195\n",
       "[601] 2363 2291 2255 1869  315  114 2062 2209 2192 1966 2852 2372 1895  397  280\n",
       "[616] 2086 2271 2412 2295  312  303  272 2233 2375 1931 2013 2170  438  262 2106\n",
       "[631] 2178 2411 2278 2029  339  268 2082 2221 2127 2046 1994  275  254 1931 2046\n",
       "[646] 2055 2135 1692  318  318 1308  326 1993 2164 1680  308  285 1820 2076 1113\n",
       "[661] 1619 2079 2192 2123 2014  406  242 2025 2144 2149 2268 2001  408  184  175\n",
       "[676]    3    3    3 1555 2155 2131  384  245 2173 2300 2397 2387 2010  363  170\n",
       "[691] 2048 2399 2345  544 1087 2320 2232 2081  320  115 2189 2383 2273 2414 2180\n",
       "[706]  312  177 2206 2211  285 2277 2088  359  142 2219 2354 2391 2416 1859  114\n",
       "[721]  104 2195 2363 2291 2255 1869  315  114 2062 2209 2192 1966 2852 2372 1895\n",
       "[736]  397  280 2086 2271 2412 2295  312  303  272 2233 2375 1931 2013 2170  438\n",
       "[751]  262 2106 2178 2411 2278 2029  339  268 2082 2221 2127 2046 1994  275  254\n",
       "[766] 1931 2046 2055 2135 1692  318  318 1308  326 1993 2164 1680  308  285 1820\n",
       "[781] 2076 1113 1619 2079 2192 2123 2014  406  242 2025 2144 2149 2268 2001  408\n",
       "[796]  184  175    3    3    3 1555 2155 2131  384  245 2173 2300 2397 2387 2010\n",
       "[811]  363  170 2048 2399 2345  544 1087 2320 2232 2081  320  115 2189 2383 2273\n",
       "[826] 2414 2180  312  177 2206 2211  285 2277 2088  359  142 2219 2354 2391 2416\n",
       "[841] 1859  114  104 2195 2363 2291 2255 1869  315  114 2062 2209 2192 1966 2852\n",
       "[856] 2372 1895  397  280 2086 2271 2412 2295  312  303  272 2233 2375 1931 2013\n",
       "[871] 2170  438  262 2106 2178 2411 2278 2029  339  268 2082 2221 2127 2046 1994\n",
       "[886]  275  254 1931 2046 2055 2135 1692  318  318 1308  326 1993 2164 1680  308\n",
       "[901]  285 1820 2076 1113 1619 2079 2192 2123 2014  406  242 2025 2144 2149 2268\n",
       "[916] 2001  408  184  175    3    3    3 1555 2155 2131  384  245 2173 2300 2397\n",
       "[931] 2387 2010  363  170 2048 2399 2345  544 1087 2320 2232 2081  320  115 2189\n",
       "[946] 2383 2273 2414 2180  312  177 2206 2211  285 2277 2088  359  142 2219 2354\n",
       "[961] 2391 2416 1859  114  104 2195 2363 2291 2255 1869  315  114 2062 2209 2192\n",
       "[976] 1966 2852 2372 1895  397  280 2086 2271 2412 2295  312  303  272"
      ]
     },
     "metadata": {},
     "output_type": "display_data"
    }
   ],
   "source": [
    "ts(coredata(siwim_data.ts.days), start = start(siwim_data.ts.days), \n",
    "                                              end = end(siwim_data.ts.days), frequency = 7)"
   ]
  },
  {
   "cell_type": "code",
   "execution_count": 55,
   "metadata": {},
   "outputs": [
    {
     "ename": "ERROR",
     "evalue": "Error in decompose(siwim_data.ts.days): time series has no or less than 2 periods\n",
     "output_type": "error",
     "traceback": [
      "Error in decompose(siwim_data.ts.days): time series has no or less than 2 periods\nTraceback:\n",
      "1. decompose(siwim_data.ts.days)",
      "2. stop(\"time series has no or less than 2 periods\")"
     ]
    }
   ],
   "source": [
    "siwim_data.ts.days.components <- decompose(siwim_data.ts.days)"
   ]
  },
  {
   "cell_type": "markdown",
   "metadata": {},
   "source": [
    "No seasonal component"
   ]
  },
  {
   "cell_type": "markdown",
   "metadata": {},
   "source": [
    "### Simple exponential smoothing"
   ]
  },
  {
   "cell_type": "code",
   "execution_count": 56,
   "metadata": {},
   "outputs": [
    {
     "data": {
      "text/plain": [
       "Holt-Winters exponential smoothing without trend and without seasonal component.\n",
       "\n",
       "Call:\n",
       "HoltWinters(x = siwim_data.ts.days, beta = FALSE, gamma = FALSE)\n",
       "\n",
       "Smoothing parameters:\n",
       " alpha: 0.1192536\n",
       " beta : FALSE\n",
       " gamma: FALSE\n",
       "\n",
       "Coefficients:\n",
       "      [,1]\n",
       "a 1682.196"
      ]
     },
     "metadata": {},
     "output_type": "display_data"
    }
   ],
   "source": [
    "siwim_data.ts.ses <- HoltWinters(siwim_data.ts.days ,beta = FALSE, \n",
    "                                       gamma = FALSE)\n",
    "siwim_data.ts.ses"
   ]
  },
  {
   "cell_type": "code",
   "execution_count": 57,
   "metadata": {},
   "outputs": [
    {
     "data": {
      "text/html": [
       "113127770.190488"
      ],
      "text/latex": [
       "113127770.190488"
      ],
      "text/markdown": [
       "113127770.190488"
      ],
      "text/plain": [
       "[1] 113127770"
      ]
     },
     "metadata": {},
     "output_type": "display_data"
    }
   ],
   "source": [
    "siwim_data.ts.ses$SSE"
   ]
  },
  {
   "cell_type": "code",
   "execution_count": 58,
   "metadata": {},
   "outputs": [
    {
     "data": {
      "image/png": "[encoded data removed]",
      "text/plain": [
       "Plot with title \"Holt-Winters filtering\""
      ]
     },
     "metadata": {},
     "output_type": "display_data"
    }
   ],
   "source": [
    "plot(siwim_data.ts.ses)"
   ]
  },
  {
   "cell_type": "markdown",
   "metadata": {},
   "source": [
    "### Holt winters forecast (beta = 0, no seasonal component)"
   ]
  },
  {
   "cell_type": "code",
   "execution_count": 70,
   "metadata": {},
   "outputs": [
    {
     "data": {
      "text/plain": [
       "Holt-Winters exponential smoothing with trend and without seasonal component.\n",
       "\n",
       "Call:\n",
       "HoltWinters(x = siwim_data.ts.days, gamma = FALSE)\n",
       "\n",
       "Smoothing parameters:\n",
       " alpha: 1\n",
       " beta : 0.03108672\n",
       " gamma: FALSE\n",
       "\n",
       "Coefficients:\n",
       "         [,1]\n",
       "a 1966.000000\n",
       "b    1.627391"
      ]
     },
     "metadata": {},
     "output_type": "display_data"
    }
   ],
   "source": [
    "siwim_data.ts.Forecasts <- HoltWinters(siwim_data.ts.days,\n",
    "                                       gamma = FALSE)\n",
    "siwim_data.ts.Forecasts"
   ]
  },
  {
   "cell_type": "code",
   "execution_count": 71,
   "metadata": {},
   "outputs": [
    {
     "data": {
      "image/png": "[encoded data removed]",
      "text/plain": [
       "Plot with title \"Holt-Winters filtering\""
      ]
     },
     "metadata": {},
     "output_type": "display_data"
    }
   ],
   "source": [
    "plot(siwim_data.ts.Forecasts)"
   ]
  },
  {
   "cell_type": "code",
   "execution_count": 79,
   "metadata": {},
   "outputs": [
    {
     "data": {
      "image/png": "[encoded data removed]",
      "text/plain": [
       "Plot with title \"Holt-Winters filtering\""
      ]
     },
     "metadata": {},
     "output_type": "display_data"
    }
   ],
   "source": [
    "plot(siwim_data.ts.Forecasts, predict(siwim_data.ts.Forecasts, 20, prediction.interval = TRUE) )"
   ]
  },
  {
   "cell_type": "markdown",
   "metadata": {},
   "source": [
    "## 10. Other times series exploration"
   ]
  },
  {
   "cell_type": "code",
   "execution_count": 84,
   "metadata": {
    "collapsed": true
   },
   "outputs": [],
   "source": [
    "siwim_daily_freq <- siwim_data[, .N, by = Date]\n",
    "siwim_daily_freq.zoo <- zoo(siwim_daily_freq$N,  as.Date(siwim_daily_freq$Date, format = \"%Y-%m-%d\"))"
   ]
  },
  {
   "cell_type": "code",
   "execution_count": 85,
   "metadata": {},
   "outputs": [
    {
     "data": {
      "text/plain": [
       "2017-07-04 2017-07-05 2017-07-06 2017-07-07 2017-07-08 2017-07-09 \n",
       "      2852       2372       1895        397        280       2086 "
      ]
     },
     "metadata": {},
     "output_type": "display_data"
    }
   ],
   "source": [
    "head(siwim_daily_freq.zoo)"
   ]
  },
  {
   "cell_type": "code",
   "execution_count": 86,
   "metadata": {},
   "outputs": [
    {
     "data": {
      "image/png": "[encoded data removed]",
      "text/plain": [
       "Plot with title \"\""
      ]
     },
     "metadata": {},
     "output_type": "display_data"
    }
   ],
   "source": [
    "plot(siwim_daily_freq.zoo)"
   ]
  },
  {
   "cell_type": "code",
   "execution_count": 87,
   "metadata": {},
   "outputs": [
    {
     "data": {
      "text/plain": [
       "Series: siwim_daily_freq.zoo \n",
       "ARIMA(2,0,2) with non-zero mean \n",
       "\n",
       "Coefficients:\n",
       "         ar1      ar2      ma1      ma2       mean\n",
       "      0.7715  -0.3883  -0.2133  -0.3267  1499.5986\n",
       "s.e.  0.1424   0.1282   0.1554   0.1454    51.3561\n",
       "\n",
       "sigma^2 estimated as 442186:  log likelihood=-974.99\n",
       "AIC=1961.97   AICc=1962.6   BIC=1979.71"
      ]
     },
     "metadata": {},
     "output_type": "display_data"
    }
   ],
   "source": [
    "auto.arima(siwim_daily_freq.zoo)"
   ]
  },
  {
   "cell_type": "code",
   "execution_count": 88,
   "metadata": {
    "collapsed": true
   },
   "outputs": [],
   "source": [
    "siwim_data.irts <- irts(siwim_data$Timestamp, cbind(siwim_data$V1 ,siwim_data$MGV))"
   ]
  },
  {
   "cell_type": "code",
   "execution_count": 89,
   "metadata": {},
   "outputs": [
    {
     "data": {
      "image/png": "[encoded data removed]",
      "text/plain": [
       "plot without title"
      ]
     },
     "metadata": {},
     "output_type": "display_data"
    }
   ],
   "source": [
    "plot(siwim_data.irts[is.businessday(siwim_data.irts)])"
   ]
  },
  {
   "cell_type": "code",
   "execution_count": 90,
   "metadata": {},
   "outputs": [
    {
     "data": {
      "text/html": [
       "2017"
      ],
      "text/latex": [
       "2017"
      ],
      "text/markdown": [
       "2017"
      ],
      "text/plain": [
       "[1] 2017"
      ]
     },
     "metadata": {},
     "output_type": "display_data"
    }
   ],
   "source": [
    "year(as.Date(min(siwim_daily_freq$Date)))"
   ]
  },
  {
   "cell_type": "code",
   "execution_count": 91,
   "metadata": {},
   "outputs": [
    {
     "ename": "ERROR",
     "evalue": "Error in as.POSIXlt(x): objet 'min_date' introuvable\n",
     "output_type": "error",
     "traceback": [
      "Error in as.POSIXlt(x): objet 'min_date' introuvable\nTraceback:\n",
      "1. year(min_date)",
      "2. as.POSIXlt(x)"
     ]
    }
   ],
   "source": [
    "c(year(min_date),month(min_date), day(min_date))"
   ]
  },
  {
   "cell_type": "code",
   "execution_count": 92,
   "metadata": {},
   "outputs": [
    {
     "ename": "ERROR",
     "evalue": "Error in day(min_date): impossible de trouver la fonction \"day\"\n",
     "output_type": "error",
     "traceback": [
      "Error in day(min_date): impossible de trouver la fonction \"day\"\nTraceback:\n",
      "1. ts(siwim_daily_freq$N, start = c(year(min_date), month(min_date), \n .     day(min_date)), end = c(year(max_date), month(max_date), \n .     day(max_date)), deltat = 1/365)"
     ]
    }
   ],
   "source": [
    "min_date <- min(siwim_daily_freq$Date)\n",
    "max_date <- max(siwim_daily_freq$Date)\n",
    "siwim_daily_freq.ts = ts(siwim_daily_freq$N, \n",
    "                         start = c(year(min_date),month(min_date), day(min_date)), \n",
    "                         end = c(year(max_date),month(max_date), day(max_date)), deltat = 1/365)"
   ]
  },
  {
   "cell_type": "code",
   "execution_count": 93,
   "metadata": {},
   "outputs": [
    {
     "ename": "ERROR",
     "evalue": "Error in print(siwim_daily_freq.ts): objet 'siwim_daily_freq.ts' introuvable\n",
     "output_type": "error",
     "traceback": [
      "Error in print(siwim_daily_freq.ts): objet 'siwim_daily_freq.ts' introuvable\nTraceback:\n",
      "1. print(siwim_daily_freq.ts)"
     ]
    }
   ],
   "source": [
    "print(siwim_daily_freq.ts)"
   ]
  },
  {
   "cell_type": "code",
   "execution_count": 94,
   "metadata": {
    "collapsed": true
   },
   "outputs": [],
   "source": [
    "daily <- msts(siwim_daily_freq$N, seasonal.periods=c(7,365.25))"
   ]
  },
  {
   "cell_type": "code",
   "execution_count": 95,
   "metadata": {},
   "outputs": [
    {
     "data": {
      "image/png": "[encoded data removed]",
      "text/plain": [
       "plot without title"
      ]
     },
     "metadata": {},
     "output_type": "display_data"
    }
   ],
   "source": [
    "plot(daily)"
   ]
  },
  {
   "cell_type": "code",
   "execution_count": 96,
   "metadata": {},
   "outputs": [
    {
     "name": "stderr",
     "output_type": "stream",
     "text": [
      "Warning message in mean.default(x, na.rm = TRUE):\n",
      "\"argument is not numeric or logical: returning NA\""
     ]
    },
    {
     "ename": "ERROR",
     "evalue": "Error in x - fits: argument non numérique pour un opérateur binaire\n",
     "output_type": "error",
     "traceback": [
      "Error in x - fits: argument non numérique pour un opérateur binaire\nTraceback:\n",
      "1. forecast(tbats, na.remove)",
      "2. forecast.default(tbats, na.remove)",
      "3. forecast.ts(object, ...)",
      "4. meanf(object, h = h, level = level, fan = fan, lambda = lambda, \n .     ...)"
     ]
    }
   ],
   "source": [
    "fit <- tbats(daily)\n",
    "fc <- forecast(tbats, na.remove)"
   ]
  },
  {
   "cell_type": "code",
   "execution_count": null,
   "metadata": {
    "collapsed": true
   },
   "outputs": [],
   "source": [
    "stl(ts(as.numeric(siwim_daily_freq$N), frequency=52), s.window=\"periodic\", robust=TRUE) "
   ]
  },
  {
   "cell_type": "code",
   "execution_count": null,
   "metadata": {
    "collapsed": true
   },
   "outputs": [],
   "source": []
  }
 ],
 "metadata": {
  "kernelspec": {
   "display_name": "R",
   "language": "R",
   "name": "ir"
  },
  "language_info": {
   "codemirror_mode": "r",
   "file_extension": ".r",
   "mimetype": "text/x-r-source",
   "name": "R",
   "pygments_lexer": "r",
   "version": "3.4.2"
  }
 },
 "nbformat": 4,
 "nbformat_minor": 2
}
